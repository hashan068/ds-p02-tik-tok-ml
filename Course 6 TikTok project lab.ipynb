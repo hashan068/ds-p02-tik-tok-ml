{
 "cells": [
  {
   "cell_type": "markdown",
   "metadata": {
    "id": "DtNBZFHO3M7n"
   },
   "source": [
    "# **TikTok Project**\n",
    "**Course 6 - The nuts and bolts of machine learning**"
   ]
  },
  {
   "cell_type": "markdown",
   "metadata": {
    "id": "9ttxbfHXzB4e"
   },
   "source": [
    "Recall that you are a data professional at TikTok. Your\n",
    "supervisor was impressed with the work you have done\n",
    "and has requested that you build a machine learning model that can be used to determine whether a video contains a claim or whether it offers an opinion. With a successful prediction model, TikTok can reduce the backlog of user reports and prioritize them more efficiently.\n",
    "\n",
    "A notebook was structured and prepared to help you in this project. Please complete the following questions."
   ]
  },
  {
   "cell_type": "markdown",
   "metadata": {
    "id": "rgSbVJvomcVa"
   },
   "source": [
    "# **Course 6 End-of-course project: Classifying videos using machine learning**\n",
    "\n",
    "In this activity, you will practice using machine learning techniques to predict on a binary outcome variable.\n",
    "<br/>\n",
    "\n",
    "**The purpose** of this model is to mitigate misinformation in videos on the TikTok platform.\n",
    "\n",
    "**The goal** of this model is to predict whether a TikTok video presents a \"claim\" or presents an \"opinion\".\n",
    "<br/>\n",
    "\n",
    "*This activity has three parts:*\n",
    "\n",
    "**Part 1:** Ethical considerations\n",
    "* Consider the ethical implications of the request\n",
    "\n",
    "* Should the objective of the model be adjusted?\n",
    "\n",
    "**Part 2:** Feature engineering\n",
    "\n",
    "* Perform feature selection, extraction, and transformation to prepare the data for modeling\n",
    "\n",
    "**Part 3:** Modeling\n",
    "\n",
    "* Build the models, evaluate them, and advise on next steps\n",
    "\n",
    "Follow the instructions and answer the questions below to complete the activity. Then, you will complete an Executive Summary using the questions listed on the PACE Strategy Document.\n",
    "\n",
    "Be sure to complete this activity before moving on. The next course item will provide you with a completed exemplar to compare to your own work.\n",
    "\n"
   ]
  },
  {
   "cell_type": "markdown",
   "metadata": {
    "id": "ehi9U6TkopGx"
   },
   "source": [
    "# **Classify videos using machine learning**"
   ]
  },
  {
   "cell_type": "markdown",
   "metadata": {
    "id": "NzDjfCSLf6Jq"
   },
   "source": [
<<<<<<< HEAD
    "<img src=\"images/Pace.png\" width=\"100\" height=\"100\" align=left>\n",
=======
    "\n",
>>>>>>> 314d03ca20cb2757903f289bfe89931b75ffe410
    "\n",
    "# **PACE stages**\n"
   ]
  },
  {
   "cell_type": "markdown",
   "metadata": {
    "id": "UlVcScP0pCOJ"
   },
   "source": [
    "Throughout these project notebooks, you'll see references to the problem-solving framework PACE. The following notebook components are labeled with the respective PACE stage: Plan, Analyze, Construct, and Execute."
   ]
  },
  {
   "cell_type": "markdown",
   "metadata": {
    "id": "E5g1A74r0ow_"
   },
   "source": [
<<<<<<< HEAD
    "<img src=\"images/Plan.png\" width=\"100\" height=\"100\" align=left>\n",
    "\n",
=======
>>>>>>> 314d03ca20cb2757903f289bfe89931b75ffe410
    "\n",
    "## **Pace: Plan**\n",
    "\n",
    "Consider the questions in your PACE Strategy Document to reflect on the Plan stage.\n",
    "\n",
    "In this stage, consider the following questions:\n",
    "\n",
    "1.   **What are you being asked to do? What metric should I use to evaluate success of my business/organizational objective?**\n",
    "\n",
    "2.   **What are the ethical implications of the model? What are the consequences of your model making errors?**\n",
    "  *   What is the likely effect of the model when it predicts a false negative (i.e., when the model says a video does not contain a claim and it actually does)?\n",
    "\n",
    "  *   What is the likely effect of the model when it predicts a false positive (i.e., when the model says a video does contain a claim and it actually does not)?\n",
    "\n",
    "3.   **How would you proceed?**"
   ]
  },
  {
   "cell_type": "markdown",
   "metadata": {
    "id": "yCkZp3l0AeQn"
   },
   "source": [
    "**Exemplar responses:**"
   ]
  },
  {
   "cell_type": "markdown",
   "metadata": {
    "id": "RjG5dmAwdbfw"
   },
   "source": [
    "**1. What are you being asked to do?**\n",
    "\n",
    "**Business need and modeling objective**\n",
    "\n",
    "TikTok users can report videos that they believe violate the platform's terms of service. Because there are millions of TikTok videos created and viewed every day, this means that many videos get reported&mdash;too many to be individually reviewed by a human moderator.\n",
    "\n",
    "Analysis indicates that when authors do violate the terms of service, they're much more likely to be presenting a claim than an opinion. Therefore, it is useful to be able to determine which videos make claims and which videos are opinions.\n",
    "\n",
    "TikTok wants to build a machine learning model to help identify claims and opinions. Videos that are labeled opinions will be less likely to go on to be reviewed by a human moderator. Videos that are labeled as claims will be further sorted by a downstream process to determine whether they should get prioritized for review. For example, perhaps videos that are classified as claims would then be ranked by how many times they were reported, then the top x% would be reviewed by a human each day.\n",
    "\n",
    "A machine learning model would greatly assist in the effort to present human moderators with videos that are most likely to be in violation of TikTok's terms of service."
   ]
  },
  {
   "cell_type": "markdown",
   "metadata": {
    "id": "nmZ9RNb0L-TR"
   },
   "source": [
    "**Modeling design and target variable**\n",
    "\n",
    "The data dictionary shows that there is a column called `claim_status`. This is a binary value that indicates whether a video is a claim or an opinion. This will be the target variable. In other words, for each video, the model should predict whether the video is a claim or an opinion.\n",
    "\n",
    "This is a classification task because the model is predicting a binary class."
   ]
  },
  {
   "cell_type": "markdown",
   "metadata": {
    "id": "ltMmCdk-2T1u"
   },
   "source": [
    "**Select an evaluation metric**\n",
    "\n",
    "To determine which evaluation metric might be best, consider how the model might be wrong. There are two possibilities for bad predictions:\n",
    "\n",
    "  - **False positives:** When the model predicts a video is a claim when in fact it is an opinion\n",
    "  - **False negatives:** When the model predicts a video is an opinion when in fact it is a claim\n",
    "\n",
    "\n",
    "\n",
    "**2. What are the ethical implications of building the model?**\n",
    "In the given scenario, it's better for the model to predict false positives when it makes a mistake, and worse for it to predict false negatives. It's very important to identify videos that break the terms of service, even if that means some opinion videos are misclassified as claims. The worst case for an opinion misclassified as a claim is that the video goes to human review. The worst case for a claim that's misclassified as an opinion is that the video does not get reviewed _and_ it violates the terms of service. A video that violates the terms of service would be considered posted from a \"banned\" author, as referenced in the data dictionary.\n",
    "\n",
    "Because it's more important to minimize false negatives, the model evaluation metric will be **recall**.\n"
   ]
  },
  {
   "cell_type": "markdown",
   "metadata": {
    "id": "_H01QDrdNwF9"
   },
   "source": [
    "**3. How would you proceed?**\n",
    "\n",
    "**Modeling workflow and model selection process**\n",
    "\n",
    "Previous work with this data has revealed that there are ~20,000 videos in the sample. This is sufficient to conduct a rigorous model validation workflow, broken into the following steps:\n",
    "\n",
    "1. Split the data into train/validation/test sets (60/20/20)\n",
    "2. Fit models and tune hyperparameters on the training set\n",
    "3. Perform final model selection on the validation set\n",
    "4. Assess the champion model's performance on the test set\n",
    "\n",
<<<<<<< HEAD
    "\n",
    "<image width = 600px, allign = center, src = \"https://raw.githubusercontent.com/adacert/tiktok/main/optimal_model_flow_numbered.svg\">\n"
=======
    "![](https://raw.githubusercontent.com/adacert/tiktok/main/optimal_model_flow_numbered.svg)\n",
    "\n",
    "\n"
>>>>>>> 314d03ca20cb2757903f289bfe89931b75ffe410
   ]
  },
  {
   "cell_type": "markdown",
   "metadata": {
    "id": "e8Vm3QEfGELS"
   },
   "source": [
    "### **Task 1. Imports and data loading**\n",
    "\n",
    "Start by importing packages needed to build machine learning models to achieve the goal of this project."
   ]
  },
  {
   "cell_type": "code",
<<<<<<< HEAD
   "execution_count": 2,
   "metadata": {
    "id": "tCni9wAGphb0"
   },
   "outputs": [
    {
     "ename": "ModuleNotFoundError",
     "evalue": "No module named 'pandas'",
     "output_type": "error",
     "traceback": [
      "\u001b[1;31m---------------------------------------------------------------------------\u001b[0m",
      "\u001b[1;31mModuleNotFoundError\u001b[0m                       Traceback (most recent call last)",
      "Cell \u001b[1;32mIn[2], line 2\u001b[0m\n\u001b[0;32m      1\u001b[0m \u001b[38;5;66;03m# Import packages for data manipulation\u001b[39;00m\n\u001b[1;32m----> 2\u001b[0m \u001b[38;5;28;01mimport\u001b[39;00m \u001b[38;5;21;01mpandas\u001b[39;00m \u001b[38;5;28;01mas\u001b[39;00m \u001b[38;5;21;01mpd\u001b[39;00m\n\u001b[0;32m      3\u001b[0m \u001b[38;5;28;01mimport\u001b[39;00m \u001b[38;5;21;01mnumpy\u001b[39;00m \u001b[38;5;28;01mas\u001b[39;00m \u001b[38;5;21;01mnp\u001b[39;00m\n\u001b[0;32m      5\u001b[0m \u001b[38;5;66;03m# Import packages for data visualization\u001b[39;00m\n",
      "\u001b[1;31mModuleNotFoundError\u001b[0m: No module named 'pandas'"
=======
   "execution_count": 1,
   "metadata": {},
   "outputs": [
    {
     "name": "stdout",
     "output_type": "stream",
     "text": [
      "Package           Version\n",
      "----------------- -----------\n",
      "asttokens         2.4.1\n",
      "comm              0.2.2\n",
      "contourpy         1.2.1\n",
      "cycler            0.12.1\n",
      "debugpy           1.8.2\n",
      "decorator         5.1.1\n",
      "exceptiongroup    1.2.1\n",
      "executing         2.0.1\n",
      "fonttools         4.53.0\n",
      "ipykernel         6.29.4\n",
      "ipython           8.25.0\n",
      "jedi              0.19.1\n",
      "joblib            1.4.2\n",
      "jupyter_client    8.6.2\n",
      "jupyter_core      5.7.2\n",
      "kiwisolver        1.4.5\n",
      "matplotlib        3.9.0\n",
      "matplotlib-inline 0.1.7\n",
      "nest-asyncio      1.6.0\n",
      "numpy             2.0.0\n",
      "nvidia-nccl-cu12  2.22.3\n",
      "packaging         24.1\n",
      "pandas            2.2.2\n",
      "parso             0.8.4\n",
      "pexpect           4.9.0\n",
      "pillow            10.3.0\n",
      "pip               24.0\n",
      "platformdirs      4.2.2\n",
      "prompt_toolkit    3.0.47\n",
      "psutil            6.0.0\n",
      "ptyprocess        0.7.0\n",
      "pure-eval         0.2.2\n",
      "Pygments          2.18.0\n",
      "pyparsing         3.1.2\n",
      "python-dateutil   2.9.0.post0\n",
      "pytz              2024.1\n",
      "pyzmq             26.0.3\n",
      "scikit-learn      1.5.0\n",
      "scipy             1.14.0\n",
      "seaborn           0.13.2\n",
      "setuptools        69.5.1\n",
      "six               1.16.0\n",
      "stack-data        0.6.3\n",
      "threadpoolctl     3.5.0\n",
      "tornado           6.4.1\n",
      "traitlets         5.14.3\n",
      "typing_extensions 4.12.2\n",
      "tzdata            2024.1\n",
      "wcwidth           0.2.13\n",
      "wheel             0.43.0\n",
      "xgboost           2.1.0\n",
      "\n",
      "\u001b[1m[\u001b[0m\u001b[34;49mnotice\u001b[0m\u001b[1;39;49m]\u001b[0m\u001b[39;49m A new release of pip is available: \u001b[0m\u001b[31;49m24.0\u001b[0m\u001b[39;49m -> \u001b[0m\u001b[32;49m24.1.1\u001b[0m\n",
      "\u001b[1m[\u001b[0m\u001b[34;49mnotice\u001b[0m\u001b[1;39;49m]\u001b[0m\u001b[39;49m To update, run: \u001b[0m\u001b[32;49mpip install --upgrade pip\u001b[0m\n"
>>>>>>> 314d03ca20cb2757903f289bfe89931b75ffe410
     ]
    }
   ],
   "source": [
<<<<<<< HEAD
=======
    "!pip list"
   ]
  },
  {
   "cell_type": "code",
   "execution_count": 2,
   "metadata": {},
   "outputs": [],
   "source": [
    "# !pip install xgboost"
   ]
  },
  {
   "cell_type": "code",
   "execution_count": 3,
   "metadata": {
    "id": "tCni9wAGphb0"
   },
   "outputs": [],
   "source": [
>>>>>>> 314d03ca20cb2757903f289bfe89931b75ffe410
    "# Import packages for data manipulation\n",
    "import pandas as pd\n",
    "import numpy as np\n",
    "\n",
    "# Import packages for data visualization\n",
    "import matplotlib.pyplot as plt\n",
    "import seaborn as sns\n",
    "\n",
    "# Import packages for data preprocessing\n",
    "from sklearn.feature_extraction.text import CountVectorizer\n",
    "\n",
    "# Import packages for data modeling\n",
    "from sklearn.model_selection import train_test_split, GridSearchCV\n",
    "from sklearn.metrics import classification_report, accuracy_score, precision_score, \\\n",
    "recall_score, f1_score, confusion_matrix, ConfusionMatrixDisplay\n",
    "\n",
    "from sklearn.ensemble import RandomForestClassifier\n",
    "from xgboost import XGBClassifier\n",
    "from xgboost import plot_importance"
   ]
  },
  {
   "cell_type": "markdown",
   "metadata": {
    "id": "IeXTZ2tdbALL"
   },
   "source": [
    "Load the data from the provided csv file into a dataframe.\n",
    "\n",
    "**Note:** As shown in this cell, the dataset has been automatically loaded in for you. You do not need to download the .csv file, or provide more code, in order to access the dataset and proceed with this lab. Please continue with this activity by completing the following instructions."
   ]
  },
  {
   "cell_type": "code",
<<<<<<< HEAD
   "execution_count": 2,
=======
   "execution_count": 4,
>>>>>>> 314d03ca20cb2757903f289bfe89931b75ffe410
   "metadata": {
    "colab": {
     "base_uri": "https://localhost:8080/",
     "height": 329
    },
    "id": "P_CZ-1P1Q62x",
    "outputId": "f960e90c-ed45-41cf-bdaa-598b1e8b4fc0"
   },
   "outputs": [],
   "source": [
    "# Load dataset into dataframe\n",
    "data = pd.read_csv(\"tiktok_dataset.csv\")"
   ]
  },
  {
   "cell_type": "markdown",
   "metadata": {
    "id": "EgPRBjizg1oo"
   },
   "source": [
<<<<<<< HEAD
    "<img src=\"images/Analyze.png\" width=\"100\" height=\"100\" align=left>\n",
=======
    "\n",
>>>>>>> 314d03ca20cb2757903f289bfe89931b75ffe410
    "\n",
    "## **PACE: Analyze**\n",
    "\n",
    "Consider the questions in your PACE Strategy Document to reflect on the Analyze stage."
   ]
  },
  {
   "cell_type": "markdown",
   "metadata": {
    "id": "fNVl2Tb-xNB_"
   },
   "source": [
    "### **Task 2: Examine data, summary info, and descriptive stats**"
   ]
  },
  {
   "cell_type": "markdown",
   "metadata": {
    "id": "JBHl90JIRuXk"
   },
   "source": [
    "Inspect the first five rows of the dataframe."
   ]
  },
  {
   "cell_type": "code",
<<<<<<< HEAD
   "execution_count": 6,
=======
   "execution_count": 5,
>>>>>>> 314d03ca20cb2757903f289bfe89931b75ffe410
   "metadata": {
    "colab": {
     "base_uri": "https://localhost:8080/",
     "height": 357
    },
    "id": "2rfk95MLp4a_",
    "outputId": "6fbea70a-94ef-4f1d-e9c4-822567aa296f"
   },
   "outputs": [
    {
     "data": {
      "text/html": [
       "<div>\n",
       "<style scoped>\n",
       "    .dataframe tbody tr th:only-of-type {\n",
       "        vertical-align: middle;\n",
       "    }\n",
       "\n",
       "    .dataframe tbody tr th {\n",
       "        vertical-align: top;\n",
       "    }\n",
       "\n",
       "    .dataframe thead th {\n",
       "        text-align: right;\n",
       "    }\n",
       "</style>\n",
       "<table border=\"1\" class=\"dataframe\">\n",
       "  <thead>\n",
       "    <tr style=\"text-align: right;\">\n",
       "      <th></th>\n",
       "      <th>#</th>\n",
       "      <th>claim_status</th>\n",
       "      <th>video_id</th>\n",
       "      <th>video_duration_sec</th>\n",
       "      <th>video_transcription_text</th>\n",
       "      <th>verified_status</th>\n",
       "      <th>author_ban_status</th>\n",
       "      <th>video_view_count</th>\n",
       "      <th>video_like_count</th>\n",
       "      <th>video_share_count</th>\n",
       "      <th>video_download_count</th>\n",
       "      <th>video_comment_count</th>\n",
       "    </tr>\n",
       "  </thead>\n",
       "  <tbody>\n",
       "    <tr>\n",
       "      <th>0</th>\n",
       "      <td>1</td>\n",
       "      <td>claim</td>\n",
       "      <td>7017666017</td>\n",
       "      <td>59</td>\n",
       "      <td>someone shared with me that drone deliveries a...</td>\n",
       "      <td>not verified</td>\n",
       "      <td>under review</td>\n",
       "      <td>343296.0</td>\n",
       "      <td>19425.0</td>\n",
       "      <td>241.0</td>\n",
       "      <td>1.0</td>\n",
       "      <td>0.0</td>\n",
       "    </tr>\n",
       "    <tr>\n",
       "      <th>1</th>\n",
       "      <td>2</td>\n",
       "      <td>claim</td>\n",
       "      <td>4014381136</td>\n",
       "      <td>32</td>\n",
       "      <td>someone shared with me that there are more mic...</td>\n",
       "      <td>not verified</td>\n",
       "      <td>active</td>\n",
       "      <td>140877.0</td>\n",
       "      <td>77355.0</td>\n",
       "      <td>19034.0</td>\n",
       "      <td>1161.0</td>\n",
       "      <td>684.0</td>\n",
       "    </tr>\n",
       "    <tr>\n",
       "      <th>2</th>\n",
       "      <td>3</td>\n",
       "      <td>claim</td>\n",
       "      <td>9859838091</td>\n",
       "      <td>31</td>\n",
       "      <td>someone shared with me that american industria...</td>\n",
       "      <td>not verified</td>\n",
       "      <td>active</td>\n",
       "      <td>902185.0</td>\n",
       "      <td>97690.0</td>\n",
       "      <td>2858.0</td>\n",
       "      <td>833.0</td>\n",
       "      <td>329.0</td>\n",
       "    </tr>\n",
       "    <tr>\n",
       "      <th>3</th>\n",
       "      <td>4</td>\n",
       "      <td>claim</td>\n",
       "      <td>1866847991</td>\n",
       "      <td>25</td>\n",
       "      <td>someone shared with me that the metro of st. p...</td>\n",
       "      <td>not verified</td>\n",
       "      <td>active</td>\n",
       "      <td>437506.0</td>\n",
       "      <td>239954.0</td>\n",
       "      <td>34812.0</td>\n",
       "      <td>1234.0</td>\n",
       "      <td>584.0</td>\n",
       "    </tr>\n",
       "    <tr>\n",
       "      <th>4</th>\n",
       "      <td>5</td>\n",
       "      <td>claim</td>\n",
       "      <td>7105231098</td>\n",
       "      <td>19</td>\n",
       "      <td>someone shared with me that the number of busi...</td>\n",
       "      <td>not verified</td>\n",
       "      <td>active</td>\n",
       "      <td>56167.0</td>\n",
       "      <td>34987.0</td>\n",
       "      <td>4110.0</td>\n",
       "      <td>547.0</td>\n",
       "      <td>152.0</td>\n",
       "    </tr>\n",
       "  </tbody>\n",
       "</table>\n",
       "</div>"
      ],
      "text/plain": [
       "   # claim_status    video_id  video_duration_sec  \\\n",
       "0  1        claim  7017666017                  59   \n",
       "1  2        claim  4014381136                  32   \n",
       "2  3        claim  9859838091                  31   \n",
       "3  4        claim  1866847991                  25   \n",
       "4  5        claim  7105231098                  19   \n",
       "\n",
       "                            video_transcription_text verified_status  \\\n",
       "0  someone shared with me that drone deliveries a...    not verified   \n",
       "1  someone shared with me that there are more mic...    not verified   \n",
       "2  someone shared with me that american industria...    not verified   \n",
       "3  someone shared with me that the metro of st. p...    not verified   \n",
       "4  someone shared with me that the number of busi...    not verified   \n",
       "\n",
       "  author_ban_status  video_view_count  video_like_count  video_share_count  \\\n",
       "0      under review          343296.0           19425.0              241.0   \n",
       "1            active          140877.0           77355.0            19034.0   \n",
       "2            active          902185.0           97690.0             2858.0   \n",
       "3            active          437506.0          239954.0            34812.0   \n",
       "4            active           56167.0           34987.0             4110.0   \n",
       "\n",
       "   video_download_count  video_comment_count  \n",
       "0                   1.0                  0.0  \n",
       "1                1161.0                684.0  \n",
       "2                 833.0                329.0  \n",
       "3                1234.0                584.0  \n",
       "4                 547.0                152.0  "
      ]
     },
<<<<<<< HEAD
     "execution_count": 6,
=======
     "execution_count": 5,
>>>>>>> 314d03ca20cb2757903f289bfe89931b75ffe410
     "metadata": {},
     "output_type": "execute_result"
    }
   ],
   "source": [
    "# Display first few rows\n",
    "data.head(5)"
   ]
  },
  {
   "cell_type": "markdown",
   "metadata": {
    "id": "66KOxKCx977b"
   },
   "source": [
    "Get the number of rows and columns in the dataset."
   ]
  },
  {
   "cell_type": "code",
   "execution_count": 6,
   "metadata": {
    "colab": {
     "base_uri": "https://localhost:8080/"
    },
    "id": "kYwW-G1WqX3R",
    "outputId": "b777029a-24f3-4dfc-ef24-d5bf1f4b8b46"
   },
   "outputs": [
    {
     "data": {
      "text/plain": [
       "(19382, 12)"
      ]
     },
     "execution_count": 6,
     "metadata": {},
     "output_type": "execute_result"
    }
   ],
   "source": [
    "# Get number of rows and columns\n",
    "data.shape"
   ]
  },
  {
   "cell_type": "markdown",
   "metadata": {
    "id": "URuRVjUZ_Axg"
   },
   "source": [
    "Get basic information about the dataset."
   ]
  },
  {
   "cell_type": "code",
   "execution_count": 7,
   "metadata": {
    "colab": {
     "base_uri": "https://localhost:8080/"
    },
    "id": "zyyKCGzCp7SS",
    "outputId": "0505065b-e64f-4fe7-f5d0-01a224b82c3f"
   },
   "outputs": [
    {
     "name": "stdout",
     "output_type": "stream",
     "text": [
      "<class 'pandas.core.frame.DataFrame'>\n",
      "RangeIndex: 19382 entries, 0 to 19381\n",
      "Data columns (total 12 columns):\n",
      " #   Column                    Non-Null Count  Dtype  \n",
      "---  ------                    --------------  -----  \n",
      " 0   #                         19382 non-null  int64  \n",
      " 1   claim_status              19084 non-null  object \n",
      " 2   video_id                  19382 non-null  int64  \n",
      " 3   video_duration_sec        19382 non-null  int64  \n",
      " 4   video_transcription_text  19084 non-null  object \n",
      " 5   verified_status           19382 non-null  object \n",
      " 6   author_ban_status         19382 non-null  object \n",
      " 7   video_view_count          19084 non-null  float64\n",
      " 8   video_like_count          19084 non-null  float64\n",
      " 9   video_share_count         19084 non-null  float64\n",
      " 10  video_download_count      19084 non-null  float64\n",
      " 11  video_comment_count       19084 non-null  float64\n",
      "dtypes: float64(5), int64(3), object(4)\n",
      "memory usage: 1.8+ MB\n"
     ]
    }
   ],
   "source": [
    "# Get basic information\n",
    "data.info()"
   ]
  },
  {
   "cell_type": "markdown",
   "metadata": {
    "id": "0T5Ieb6WB61Q"
   },
   "source": [
    "Generate basic descriptive statistics about the dataset."
   ]
  },
  {
   "cell_type": "code",
   "execution_count": 8,
   "metadata": {
    "colab": {
     "base_uri": "https://localhost:8080/",
     "height": 300
    },
    "id": "HbpuAS2UqY01",
    "outputId": "db89b407-30ba-405e-c4ce-5e3ccc405b57"
   },
   "outputs": [
    {
     "data": {
      "text/html": [
       "<div>\n",
       "<style scoped>\n",
       "    .dataframe tbody tr th:only-of-type {\n",
       "        vertical-align: middle;\n",
       "    }\n",
       "\n",
       "    .dataframe tbody tr th {\n",
       "        vertical-align: top;\n",
       "    }\n",
       "\n",
       "    .dataframe thead th {\n",
       "        text-align: right;\n",
       "    }\n",
       "</style>\n",
       "<table border=\"1\" class=\"dataframe\">\n",
       "  <thead>\n",
       "    <tr style=\"text-align: right;\">\n",
       "      <th></th>\n",
       "      <th>#</th>\n",
       "      <th>video_id</th>\n",
       "      <th>video_duration_sec</th>\n",
       "      <th>video_view_count</th>\n",
       "      <th>video_like_count</th>\n",
       "      <th>video_share_count</th>\n",
       "      <th>video_download_count</th>\n",
       "      <th>video_comment_count</th>\n",
       "    </tr>\n",
       "  </thead>\n",
       "  <tbody>\n",
       "    <tr>\n",
       "      <th>count</th>\n",
       "      <td>19382.000000</td>\n",
       "      <td>1.938200e+04</td>\n",
       "      <td>19382.000000</td>\n",
       "      <td>19084.000000</td>\n",
       "      <td>19084.000000</td>\n",
       "      <td>19084.000000</td>\n",
       "      <td>19084.000000</td>\n",
       "      <td>19084.000000</td>\n",
       "    </tr>\n",
       "    <tr>\n",
       "      <th>mean</th>\n",
       "      <td>9691.500000</td>\n",
       "      <td>5.627454e+09</td>\n",
       "      <td>32.421732</td>\n",
       "      <td>254708.558688</td>\n",
       "      <td>84304.636030</td>\n",
       "      <td>16735.248323</td>\n",
       "      <td>1049.429627</td>\n",
       "      <td>349.312146</td>\n",
       "    </tr>\n",
       "    <tr>\n",
       "      <th>std</th>\n",
       "      <td>5595.245794</td>\n",
       "      <td>2.536440e+09</td>\n",
       "      <td>16.229967</td>\n",
       "      <td>322893.280814</td>\n",
       "      <td>133420.546814</td>\n",
       "      <td>32036.174350</td>\n",
       "      <td>2004.299894</td>\n",
       "      <td>799.638865</td>\n",
       "    </tr>\n",
       "    <tr>\n",
       "      <th>min</th>\n",
       "      <td>1.000000</td>\n",
       "      <td>1.234959e+09</td>\n",
       "      <td>5.000000</td>\n",
       "      <td>20.000000</td>\n",
       "      <td>0.000000</td>\n",
       "      <td>0.000000</td>\n",
       "      <td>0.000000</td>\n",
       "      <td>0.000000</td>\n",
       "    </tr>\n",
       "    <tr>\n",
       "      <th>25%</th>\n",
       "      <td>4846.250000</td>\n",
       "      <td>3.430417e+09</td>\n",
       "      <td>18.000000</td>\n",
       "      <td>4942.500000</td>\n",
       "      <td>810.750000</td>\n",
       "      <td>115.000000</td>\n",
       "      <td>7.000000</td>\n",
       "      <td>1.000000</td>\n",
       "    </tr>\n",
       "    <tr>\n",
       "      <th>50%</th>\n",
       "      <td>9691.500000</td>\n",
       "      <td>5.618664e+09</td>\n",
       "      <td>32.000000</td>\n",
       "      <td>9954.500000</td>\n",
       "      <td>3403.500000</td>\n",
       "      <td>717.000000</td>\n",
       "      <td>46.000000</td>\n",
       "      <td>9.000000</td>\n",
       "    </tr>\n",
       "    <tr>\n",
       "      <th>75%</th>\n",
       "      <td>14536.750000</td>\n",
       "      <td>7.843960e+09</td>\n",
       "      <td>47.000000</td>\n",
       "      <td>504327.000000</td>\n",
       "      <td>125020.000000</td>\n",
       "      <td>18222.000000</td>\n",
       "      <td>1156.250000</td>\n",
       "      <td>292.000000</td>\n",
       "    </tr>\n",
       "    <tr>\n",
       "      <th>max</th>\n",
       "      <td>19382.000000</td>\n",
       "      <td>9.999873e+09</td>\n",
       "      <td>60.000000</td>\n",
       "      <td>999817.000000</td>\n",
       "      <td>657830.000000</td>\n",
       "      <td>256130.000000</td>\n",
       "      <td>14994.000000</td>\n",
       "      <td>9599.000000</td>\n",
       "    </tr>\n",
       "  </tbody>\n",
       "</table>\n",
       "</div>"
      ],
      "text/plain": [
       "                  #      video_id  video_duration_sec  video_view_count  \\\n",
       "count  19382.000000  1.938200e+04        19382.000000      19084.000000   \n",
       "mean    9691.500000  5.627454e+09           32.421732     254708.558688   \n",
       "std     5595.245794  2.536440e+09           16.229967     322893.280814   \n",
       "min        1.000000  1.234959e+09            5.000000         20.000000   \n",
       "25%     4846.250000  3.430417e+09           18.000000       4942.500000   \n",
       "50%     9691.500000  5.618664e+09           32.000000       9954.500000   \n",
       "75%    14536.750000  7.843960e+09           47.000000     504327.000000   \n",
       "max    19382.000000  9.999873e+09           60.000000     999817.000000   \n",
       "\n",
       "       video_like_count  video_share_count  video_download_count  \\\n",
       "count      19084.000000       19084.000000          19084.000000   \n",
       "mean       84304.636030       16735.248323           1049.429627   \n",
       "std       133420.546814       32036.174350           2004.299894   \n",
       "min            0.000000           0.000000              0.000000   \n",
       "25%          810.750000         115.000000              7.000000   \n",
       "50%         3403.500000         717.000000             46.000000   \n",
       "75%       125020.000000       18222.000000           1156.250000   \n",
       "max       657830.000000      256130.000000          14994.000000   \n",
       "\n",
       "       video_comment_count  \n",
       "count         19084.000000  \n",
       "mean            349.312146  \n",
       "std             799.638865  \n",
       "min               0.000000  \n",
       "25%               1.000000  \n",
       "50%               9.000000  \n",
       "75%             292.000000  \n",
       "max            9599.000000  "
      ]
     },
     "execution_count": 8,
     "metadata": {},
     "output_type": "execute_result"
    }
   ],
   "source": [
    "# Generate basic descriptive stats\n",
    "data.describe()"
   ]
  },
  {
   "cell_type": "markdown",
   "metadata": {
    "id": "9OpeNQDdyIT6"
   },
   "source": [
    "Check for and handle missing values"
   ]
  },
  {
   "cell_type": "code",
   "execution_count": 9,
   "metadata": {
    "colab": {
     "base_uri": "https://localhost:8080/"
    },
    "id": "BrunHcfa7xnT",
    "outputId": "d958366a-c57a-4b41-d03b-b8922bbdd09b"
   },
   "outputs": [
    {
     "data": {
      "text/plain": [
       "#                             0\n",
       "claim_status                298\n",
       "video_id                      0\n",
       "video_duration_sec            0\n",
       "video_transcription_text    298\n",
       "verified_status               0\n",
       "author_ban_status             0\n",
       "video_view_count            298\n",
       "video_like_count            298\n",
       "video_share_count           298\n",
       "video_download_count        298\n",
       "video_comment_count         298\n",
       "dtype: int64"
      ]
     },
     "execution_count": 9,
     "metadata": {},
     "output_type": "execute_result"
    }
   ],
   "source": [
    "# Check for missing values\n",
    "data.isna().sum()"
   ]
  },
  {
   "cell_type": "markdown",
   "metadata": {
    "id": "LiadUrXRqQhg"
   },
   "source": [
    "**Exemplar response:** There are very few missing values relative to the number of samples in the dataset. Therefore, observations with missing values can be dropped."
   ]
  },
  {
   "cell_type": "code",
   "execution_count": 10,
   "metadata": {
    "id": "SHSj1Hma914I"
   },
   "outputs": [],
   "source": [
    "# Drop rows with missing values\n",
    "data = data.dropna(axis=0)"
   ]
  },
  {
   "cell_type": "markdown",
   "metadata": {
    "id": "XcfffpANyNiu"
   },
   "source": [
    "Check for and handle duplicates"
   ]
  },
  {
   "cell_type": "code",
   "execution_count": 11,
   "metadata": {
    "colab": {
     "base_uri": "https://localhost:8080/"
    },
    "id": "IKaGnWIsiHpH",
    "outputId": "a4027a67-418c-47f5-8eb8-db74c51dc294"
   },
   "outputs": [
    {
     "data": {
      "text/plain": [
<<<<<<< HEAD
       "0"
=======
       "np.int64(0)"
>>>>>>> 314d03ca20cb2757903f289bfe89931b75ffe410
      ]
     },
     "execution_count": 11,
     "metadata": {},
     "output_type": "execute_result"
    }
   ],
   "source": [
    "# Check for duplicates\n",
    "data.duplicated().sum()"
   ]
  },
  {
   "cell_type": "markdown",
   "metadata": {
    "id": "scLLbNSIjAWs"
   },
   "source": [
    "**Exemplar response:** There are no duplicate observations in the data."
   ]
  },
  {
   "cell_type": "markdown",
   "metadata": {
    "id": "XKlzAqmoEqKN"
   },
   "source": [
    "Check for and handle outliers"
   ]
  },
  {
   "cell_type": "markdown",
   "metadata": {
    "id": "k-HcHpGc5Hn7"
   },
   "source": [
    "**Exemplar response:** Tree-based models are robust to outliers, so there is no need to impute or drop any values based on where they fall in their distribution."
   ]
  },
  {
   "cell_type": "markdown",
   "metadata": {
    "id": "Ecg5b3Jwfyxa"
   },
   "source": [
    "Check class balance."
   ]
  },
  {
   "cell_type": "code",
   "execution_count": 12,
   "metadata": {
    "colab": {
     "base_uri": "https://localhost:8080/"
    },
    "id": "dQauKR11fyxb",
    "outputId": "7606a6ca-0db4-4002-ca56-84da7926a33c"
   },
   "outputs": [
    {
     "data": {
      "text/plain": [
       "claim_status\n",
       "claim      0.503458\n",
       "opinion    0.496542\n",
       "Name: proportion, dtype: float64"
      ]
     },
     "execution_count": 12,
     "metadata": {},
     "output_type": "execute_result"
    }
   ],
   "source": [
    "# Check class balance\n",
    "data[\"claim_status\"].value_counts(normalize=True)"
   ]
  },
  {
   "cell_type": "markdown",
   "metadata": {
    "id": "ePYWt2p5LqlW"
   },
   "source": [
    "**Exemplar response:** Approximately 50.3% of the dataset represents claims and 49.7% represents opinions, so the outcome variable is balanced."
   ]
  },
  {
   "cell_type": "markdown",
   "metadata": {
    "id": "3n1eikFh8akS"
   },
   "source": [
    "<img src=\"images/Construct.png\" width=\"100\" height=\"100\" align=left>\n",
    "\n",
    "## **PACE: Construct**\n",
    "Consider the questions in your PACE Strategy Document to reflect on the Construct stage."
   ]
  },
  {
   "cell_type": "markdown",
   "metadata": {
    "id": "hb_u1c6_T1i-"
   },
   "source": [
    "### **Task 3. Feature engineering**\n",
    "\n",
    "\n",
    "Extract the length (character count) of each `video_transcription_text` and add this to the dataframe as a new column called `text_length` so that it can be used as a feature in the model."
   ]
  },
  {
   "cell_type": "code",
   "execution_count": 13,
   "metadata": {
    "colab": {
     "base_uri": "https://localhost:8080/",
     "height": 461
    },
    "id": "a0IaKI8dnG9h",
    "outputId": "c28076fb-a280-47e0-e925-1c90dac4a9a3"
   },
   "outputs": [
    {
     "data": {
      "text/html": [
       "<div>\n",
       "<style scoped>\n",
       "    .dataframe tbody tr th:only-of-type {\n",
       "        vertical-align: middle;\n",
       "    }\n",
       "\n",
       "    .dataframe tbody tr th {\n",
       "        vertical-align: top;\n",
       "    }\n",
       "\n",
       "    .dataframe thead th {\n",
       "        text-align: right;\n",
       "    }\n",
       "</style>\n",
       "<table border=\"1\" class=\"dataframe\">\n",
       "  <thead>\n",
       "    <tr style=\"text-align: right;\">\n",
       "      <th></th>\n",
       "      <th>#</th>\n",
       "      <th>claim_status</th>\n",
       "      <th>video_id</th>\n",
       "      <th>video_duration_sec</th>\n",
       "      <th>video_transcription_text</th>\n",
       "      <th>verified_status</th>\n",
       "      <th>author_ban_status</th>\n",
       "      <th>video_view_count</th>\n",
       "      <th>video_like_count</th>\n",
       "      <th>video_share_count</th>\n",
       "      <th>video_download_count</th>\n",
       "      <th>video_comment_count</th>\n",
       "      <th>text_length</th>\n",
       "    </tr>\n",
       "  </thead>\n",
       "  <tbody>\n",
       "    <tr>\n",
       "      <th>0</th>\n",
       "      <td>1</td>\n",
       "      <td>claim</td>\n",
       "      <td>7017666017</td>\n",
       "      <td>59</td>\n",
       "      <td>someone shared with me that drone deliveries a...</td>\n",
       "      <td>not verified</td>\n",
       "      <td>under review</td>\n",
       "      <td>343296.0</td>\n",
       "      <td>19425.0</td>\n",
       "      <td>241.0</td>\n",
       "      <td>1.0</td>\n",
       "      <td>0.0</td>\n",
       "      <td>97</td>\n",
       "    </tr>\n",
       "    <tr>\n",
       "      <th>1</th>\n",
       "      <td>2</td>\n",
       "      <td>claim</td>\n",
       "      <td>4014381136</td>\n",
       "      <td>32</td>\n",
       "      <td>someone shared with me that there are more mic...</td>\n",
       "      <td>not verified</td>\n",
       "      <td>active</td>\n",
       "      <td>140877.0</td>\n",
       "      <td>77355.0</td>\n",
       "      <td>19034.0</td>\n",
       "      <td>1161.0</td>\n",
       "      <td>684.0</td>\n",
       "      <td>107</td>\n",
       "    </tr>\n",
       "    <tr>\n",
       "      <th>2</th>\n",
       "      <td>3</td>\n",
       "      <td>claim</td>\n",
       "      <td>9859838091</td>\n",
       "      <td>31</td>\n",
       "      <td>someone shared with me that american industria...</td>\n",
       "      <td>not verified</td>\n",
       "      <td>active</td>\n",
       "      <td>902185.0</td>\n",
       "      <td>97690.0</td>\n",
       "      <td>2858.0</td>\n",
       "      <td>833.0</td>\n",
       "      <td>329.0</td>\n",
       "      <td>137</td>\n",
       "    </tr>\n",
       "    <tr>\n",
       "      <th>3</th>\n",
       "      <td>4</td>\n",
       "      <td>claim</td>\n",
       "      <td>1866847991</td>\n",
       "      <td>25</td>\n",
       "      <td>someone shared with me that the metro of st. p...</td>\n",
       "      <td>not verified</td>\n",
       "      <td>active</td>\n",
       "      <td>437506.0</td>\n",
       "      <td>239954.0</td>\n",
       "      <td>34812.0</td>\n",
       "      <td>1234.0</td>\n",
       "      <td>584.0</td>\n",
       "      <td>131</td>\n",
       "    </tr>\n",
       "    <tr>\n",
       "      <th>4</th>\n",
       "      <td>5</td>\n",
       "      <td>claim</td>\n",
       "      <td>7105231098</td>\n",
       "      <td>19</td>\n",
       "      <td>someone shared with me that the number of busi...</td>\n",
       "      <td>not verified</td>\n",
       "      <td>active</td>\n",
       "      <td>56167.0</td>\n",
       "      <td>34987.0</td>\n",
       "      <td>4110.0</td>\n",
       "      <td>547.0</td>\n",
       "      <td>152.0</td>\n",
       "      <td>128</td>\n",
       "    </tr>\n",
       "  </tbody>\n",
       "</table>\n",
       "</div>"
      ],
      "text/plain": [
       "   # claim_status    video_id  video_duration_sec  \\\n",
       "0  1        claim  7017666017                  59   \n",
       "1  2        claim  4014381136                  32   \n",
       "2  3        claim  9859838091                  31   \n",
       "3  4        claim  1866847991                  25   \n",
       "4  5        claim  7105231098                  19   \n",
       "\n",
       "                            video_transcription_text verified_status  \\\n",
       "0  someone shared with me that drone deliveries a...    not verified   \n",
       "1  someone shared with me that there are more mic...    not verified   \n",
       "2  someone shared with me that american industria...    not verified   \n",
       "3  someone shared with me that the metro of st. p...    not verified   \n",
       "4  someone shared with me that the number of busi...    not verified   \n",
       "\n",
       "  author_ban_status  video_view_count  video_like_count  video_share_count  \\\n",
       "0      under review          343296.0           19425.0              241.0   \n",
       "1            active          140877.0           77355.0            19034.0   \n",
       "2            active          902185.0           97690.0             2858.0   \n",
       "3            active          437506.0          239954.0            34812.0   \n",
       "4            active           56167.0           34987.0             4110.0   \n",
       "\n",
       "   video_download_count  video_comment_count  text_length  \n",
       "0                   1.0                  0.0           97  \n",
       "1                1161.0                684.0          107  \n",
       "2                 833.0                329.0          137  \n",
       "3                1234.0                584.0          131  \n",
       "4                 547.0                152.0          128  "
      ]
     },
     "execution_count": 13,
     "metadata": {},
     "output_type": "execute_result"
    }
   ],
   "source": [
    "# Create `text_length` column\n",
    "data['text_length'] = data['video_transcription_text'].str.len()\n",
    "data.head()"
   ]
  },
  {
   "cell_type": "markdown",
   "metadata": {
    "id": "K2RHONw6D3R6"
   },
   "source": [
    "Calculate the average `text_length` for claims and opinions.\n",
    "\n"
   ]
  },
  {
   "cell_type": "code",
   "execution_count": 14,
   "metadata": {
    "colab": {
     "base_uri": "https://localhost:8080/",
     "height": 143
    },
    "id": "nxLJEfLM5jEi",
    "outputId": "47f72289-3ee7-49b4-a4ef-9cc32ef05bf1"
   },
   "outputs": [
    {
     "data": {
      "text/html": [
       "<div>\n",
       "<style scoped>\n",
       "    .dataframe tbody tr th:only-of-type {\n",
       "        vertical-align: middle;\n",
       "    }\n",
       "\n",
       "    .dataframe tbody tr th {\n",
       "        vertical-align: top;\n",
       "    }\n",
       "\n",
       "    .dataframe thead th {\n",
       "        text-align: right;\n",
       "    }\n",
       "</style>\n",
       "<table border=\"1\" class=\"dataframe\">\n",
       "  <thead>\n",
       "    <tr style=\"text-align: right;\">\n",
       "      <th></th>\n",
       "      <th>text_length</th>\n",
       "    </tr>\n",
       "    <tr>\n",
       "      <th>claim_status</th>\n",
       "      <th></th>\n",
       "    </tr>\n",
       "  </thead>\n",
       "  <tbody>\n",
       "    <tr>\n",
       "      <th>claim</th>\n",
       "      <td>95.376978</td>\n",
       "    </tr>\n",
       "    <tr>\n",
       "      <th>opinion</th>\n",
       "      <td>82.722562</td>\n",
       "    </tr>\n",
       "  </tbody>\n",
       "</table>\n",
       "</div>"
      ],
      "text/plain": [
       "              text_length\n",
       "claim_status             \n",
       "claim           95.376978\n",
       "opinion         82.722562"
      ]
     },
     "execution_count": 14,
     "metadata": {},
     "output_type": "execute_result"
    }
   ],
   "source": [
    "data[['claim_status', 'text_length']].groupby('claim_status').mean()"
   ]
  },
  {
   "cell_type": "markdown",
   "metadata": {
    "id": "LGu7ipi4AJmP"
   },
   "source": [
    "Visualize the distribution of `text_length` for claims and opinions using a histogram."
   ]
  },
  {
   "cell_type": "code",
   "execution_count": 15,
   "metadata": {
    "colab": {
     "base_uri": "https://localhost:8080/",
     "height": 472
    },
    "id": "MSq136S3TIYe",
    "outputId": "8c61a3f1-83ea-4d14-d874-a31ac2cc0dcf"
   },
   "outputs": [
    {
     "data": {
<<<<<<< HEAD
      "image/png": "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",
=======
      "image/png": "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",
>>>>>>> 314d03ca20cb2757903f289bfe89931b75ffe410
      "text/plain": [
       "<Figure size 640x480 with 1 Axes>"
      ]
     },
     "metadata": {},
     "output_type": "display_data"
    }
   ],
   "source": [
    "# Visualize the distribution of `text_length` for claims and opinions\n",
    "# Create two histograms in one plot\n",
    "\n",
    "sns.histplot(data=data, stat=\"count\", multiple=\"dodge\", x=\"text_length\",\n",
    "             kde=False, palette=\"pastel\", hue=\"claim_status\",\n",
    "             element=\"bars\", legend=True)\n",
    "plt.xlabel(\"video_transcription_text length (number of characters)\")\n",
    "plt.ylabel(\"Count\")\n",
    "plt.title(\"Distribution of video_transcription_text length for claims and opinions\")\n",
    "plt.show()"
   ]
  },
  {
   "cell_type": "markdown",
   "metadata": {
    "id": "N5acRzDOTB_7"
   },
   "source": [
    "Letter count distributions for both claims and opinions are approximately normal with a slight right skew. Claim videos tend to have more characters&mdash;about 13 more on average, as indicated in a previous cell."
   ]
  },
  {
   "cell_type": "markdown",
   "metadata": {
    "id": "5VZowX9rhU1o"
   },
   "source": [
    "**Feature selection and transformation**"
   ]
  },
  {
   "cell_type": "markdown",
   "metadata": {
    "id": "TTCrz71_UnHS"
   },
   "source": [
    "Encode target and catgorical variables."
   ]
  },
  {
   "cell_type": "code",
   "execution_count": 16,
   "metadata": {
    "colab": {
     "base_uri": "https://localhost:8080/",
     "height": 374
    },
    "id": "DHeI3AVr309a",
    "outputId": "6f6f06ad-9453-46dd-990c-ddd688e8d319"
   },
   "outputs": [
    {
<<<<<<< HEAD
=======
     "name": "stderr",
     "output_type": "stream",
     "text": [
      "/tmp/ipykernel_2062/16669879.py:5: FutureWarning: Downcasting behavior in `replace` is deprecated and will be removed in a future version. To retain the old behavior, explicitly call `result.infer_objects(copy=False)`. To opt-in to the future behavior, set `pd.set_option('future.no_silent_downcasting', True)`\n",
      "  X['claim_status'] = X['claim_status'].replace({'opinion': 0, 'claim': 1})\n"
     ]
    },
    {
>>>>>>> 314d03ca20cb2757903f289bfe89931b75ffe410
     "data": {
      "text/html": [
       "<div>\n",
       "<style scoped>\n",
       "    .dataframe tbody tr th:only-of-type {\n",
       "        vertical-align: middle;\n",
       "    }\n",
       "\n",
       "    .dataframe tbody tr th {\n",
       "        vertical-align: top;\n",
       "    }\n",
       "\n",
       "    .dataframe thead th {\n",
       "        text-align: right;\n",
       "    }\n",
       "</style>\n",
       "<table border=\"1\" class=\"dataframe\">\n",
       "  <thead>\n",
       "    <tr style=\"text-align: right;\">\n",
       "      <th></th>\n",
       "      <th>claim_status</th>\n",
       "      <th>video_duration_sec</th>\n",
       "      <th>video_transcription_text</th>\n",
       "      <th>video_view_count</th>\n",
       "      <th>video_like_count</th>\n",
       "      <th>video_share_count</th>\n",
       "      <th>video_download_count</th>\n",
       "      <th>video_comment_count</th>\n",
       "      <th>text_length</th>\n",
       "      <th>verified_status_verified</th>\n",
       "      <th>author_ban_status_banned</th>\n",
       "      <th>author_ban_status_under review</th>\n",
       "    </tr>\n",
       "  </thead>\n",
       "  <tbody>\n",
       "    <tr>\n",
       "      <th>0</th>\n",
       "      <td>1</td>\n",
       "      <td>59</td>\n",
       "      <td>someone shared with me that drone deliveries a...</td>\n",
       "      <td>343296.0</td>\n",
       "      <td>19425.0</td>\n",
       "      <td>241.0</td>\n",
       "      <td>1.0</td>\n",
       "      <td>0.0</td>\n",
       "      <td>97</td>\n",
       "      <td>False</td>\n",
       "      <td>False</td>\n",
       "      <td>True</td>\n",
       "    </tr>\n",
       "    <tr>\n",
       "      <th>1</th>\n",
       "      <td>1</td>\n",
       "      <td>32</td>\n",
       "      <td>someone shared with me that there are more mic...</td>\n",
       "      <td>140877.0</td>\n",
       "      <td>77355.0</td>\n",
       "      <td>19034.0</td>\n",
       "      <td>1161.0</td>\n",
       "      <td>684.0</td>\n",
       "      <td>107</td>\n",
       "      <td>False</td>\n",
       "      <td>False</td>\n",
       "      <td>False</td>\n",
       "    </tr>\n",
       "    <tr>\n",
       "      <th>2</th>\n",
       "      <td>1</td>\n",
       "      <td>31</td>\n",
       "      <td>someone shared with me that american industria...</td>\n",
       "      <td>902185.0</td>\n",
       "      <td>97690.0</td>\n",
       "      <td>2858.0</td>\n",
       "      <td>833.0</td>\n",
       "      <td>329.0</td>\n",
       "      <td>137</td>\n",
       "      <td>False</td>\n",
       "      <td>False</td>\n",
       "      <td>False</td>\n",
       "    </tr>\n",
       "    <tr>\n",
       "      <th>3</th>\n",
       "      <td>1</td>\n",
       "      <td>25</td>\n",
       "      <td>someone shared with me that the metro of st. p...</td>\n",
       "      <td>437506.0</td>\n",
       "      <td>239954.0</td>\n",
       "      <td>34812.0</td>\n",
       "      <td>1234.0</td>\n",
       "      <td>584.0</td>\n",
       "      <td>131</td>\n",
       "      <td>False</td>\n",
       "      <td>False</td>\n",
       "      <td>False</td>\n",
       "    </tr>\n",
       "    <tr>\n",
       "      <th>4</th>\n",
       "      <td>1</td>\n",
       "      <td>19</td>\n",
       "      <td>someone shared with me that the number of busi...</td>\n",
       "      <td>56167.0</td>\n",
       "      <td>34987.0</td>\n",
       "      <td>4110.0</td>\n",
       "      <td>547.0</td>\n",
       "      <td>152.0</td>\n",
       "      <td>128</td>\n",
       "      <td>False</td>\n",
       "      <td>False</td>\n",
       "      <td>False</td>\n",
       "    </tr>\n",
       "  </tbody>\n",
       "</table>\n",
       "</div>"
      ],
      "text/plain": [
       "   claim_status  video_duration_sec  \\\n",
       "0             1                  59   \n",
       "1             1                  32   \n",
       "2             1                  31   \n",
       "3             1                  25   \n",
       "4             1                  19   \n",
       "\n",
       "                            video_transcription_text  video_view_count  \\\n",
       "0  someone shared with me that drone deliveries a...          343296.0   \n",
       "1  someone shared with me that there are more mic...          140877.0   \n",
       "2  someone shared with me that american industria...          902185.0   \n",
       "3  someone shared with me that the metro of st. p...          437506.0   \n",
       "4  someone shared with me that the number of busi...           56167.0   \n",
       "\n",
       "   video_like_count  video_share_count  video_download_count  \\\n",
       "0           19425.0              241.0                   1.0   \n",
       "1           77355.0            19034.0                1161.0   \n",
       "2           97690.0             2858.0                 833.0   \n",
       "3          239954.0            34812.0                1234.0   \n",
       "4           34987.0             4110.0                 547.0   \n",
       "\n",
       "   video_comment_count  text_length  verified_status_verified  \\\n",
       "0                  0.0           97                     False   \n",
       "1                684.0          107                     False   \n",
       "2                329.0          137                     False   \n",
       "3                584.0          131                     False   \n",
       "4                152.0          128                     False   \n",
       "\n",
       "   author_ban_status_banned  author_ban_status_under review  \n",
       "0                     False                            True  \n",
       "1                     False                           False  \n",
       "2                     False                           False  \n",
       "3                     False                           False  \n",
       "4                     False                           False  "
      ]
     },
     "execution_count": 16,
     "metadata": {},
     "output_type": "execute_result"
    }
   ],
   "source": [
    "X = data.copy()\n",
    "# Drop unnecessary columns\n",
    "X = X.drop(['#', 'video_id'], axis=1)\n",
    "# Encode target variable\n",
    "X['claim_status'] = X['claim_status'].replace({'opinion': 0, 'claim': 1})\n",
    "# Dummy encode remaining categorical values\n",
    "X = pd.get_dummies(X,\n",
    "                   columns=['verified_status', 'author_ban_status'],\n",
    "                   drop_first=True)\n",
    "X.head()"
   ]
  },
  {
   "cell_type": "markdown",
   "metadata": {
    "id": "zZR2BdQxZQjN"
   },
   "source": [
    "### **Task 4. Split the data**"
   ]
  },
  {
   "cell_type": "markdown",
   "metadata": {
    "id": "o9mXFyvnWmEX"
   },
   "source": [
    "Assign target variable.\n",
    "\n",
    "**Exemplar response:**\n",
    "In this case, the target variable is `claim_status`.\n",
    "* 0 represents an opinion\n",
    "* 1 represents a claim"
   ]
  },
  {
   "cell_type": "code",
   "execution_count": 17,
   "metadata": {
    "id": "uH6jiQECBgFn"
   },
   "outputs": [],
   "source": [
    "# Isolate target variable\n",
    "y = X['claim_status']"
   ]
  },
  {
   "cell_type": "markdown",
   "metadata": {
    "id": "WPxEovpUBZfk"
   },
   "source": [
    "Isolate the features."
   ]
  },
  {
   "cell_type": "code",
   "execution_count": 18,
   "metadata": {
    "colab": {
     "base_uri": "https://localhost:8080/",
     "height": 374
    },
    "id": "9NYDoItCJUR-",
    "outputId": "4d3ddaec-7ffc-4df1-b15b-f712ea8e3835"
   },
   "outputs": [
    {
     "data": {
      "text/html": [
       "<div>\n",
       "<style scoped>\n",
       "    .dataframe tbody tr th:only-of-type {\n",
       "        vertical-align: middle;\n",
       "    }\n",
       "\n",
       "    .dataframe tbody tr th {\n",
       "        vertical-align: top;\n",
       "    }\n",
       "\n",
       "    .dataframe thead th {\n",
       "        text-align: right;\n",
       "    }\n",
       "</style>\n",
       "<table border=\"1\" class=\"dataframe\">\n",
       "  <thead>\n",
       "    <tr style=\"text-align: right;\">\n",
       "      <th></th>\n",
       "      <th>video_duration_sec</th>\n",
       "      <th>video_transcription_text</th>\n",
       "      <th>video_view_count</th>\n",
       "      <th>video_like_count</th>\n",
       "      <th>video_share_count</th>\n",
       "      <th>video_download_count</th>\n",
       "      <th>video_comment_count</th>\n",
       "      <th>text_length</th>\n",
       "      <th>verified_status_verified</th>\n",
       "      <th>author_ban_status_banned</th>\n",
       "      <th>author_ban_status_under review</th>\n",
       "    </tr>\n",
       "  </thead>\n",
       "  <tbody>\n",
       "    <tr>\n",
       "      <th>0</th>\n",
       "      <td>59</td>\n",
       "      <td>someone shared with me that drone deliveries a...</td>\n",
       "      <td>343296.0</td>\n",
       "      <td>19425.0</td>\n",
       "      <td>241.0</td>\n",
       "      <td>1.0</td>\n",
       "      <td>0.0</td>\n",
       "      <td>97</td>\n",
       "      <td>False</td>\n",
       "      <td>False</td>\n",
       "      <td>True</td>\n",
       "    </tr>\n",
       "    <tr>\n",
       "      <th>1</th>\n",
       "      <td>32</td>\n",
       "      <td>someone shared with me that there are more mic...</td>\n",
       "      <td>140877.0</td>\n",
       "      <td>77355.0</td>\n",
       "      <td>19034.0</td>\n",
       "      <td>1161.0</td>\n",
       "      <td>684.0</td>\n",
       "      <td>107</td>\n",
       "      <td>False</td>\n",
       "      <td>False</td>\n",
       "      <td>False</td>\n",
       "    </tr>\n",
       "    <tr>\n",
       "      <th>2</th>\n",
       "      <td>31</td>\n",
       "      <td>someone shared with me that american industria...</td>\n",
       "      <td>902185.0</td>\n",
       "      <td>97690.0</td>\n",
       "      <td>2858.0</td>\n",
       "      <td>833.0</td>\n",
       "      <td>329.0</td>\n",
       "      <td>137</td>\n",
       "      <td>False</td>\n",
       "      <td>False</td>\n",
       "      <td>False</td>\n",
       "    </tr>\n",
       "    <tr>\n",
       "      <th>3</th>\n",
       "      <td>25</td>\n",
       "      <td>someone shared with me that the metro of st. p...</td>\n",
       "      <td>437506.0</td>\n",
       "      <td>239954.0</td>\n",
       "      <td>34812.0</td>\n",
       "      <td>1234.0</td>\n",
       "      <td>584.0</td>\n",
       "      <td>131</td>\n",
       "      <td>False</td>\n",
       "      <td>False</td>\n",
       "      <td>False</td>\n",
       "    </tr>\n",
       "    <tr>\n",
       "      <th>4</th>\n",
       "      <td>19</td>\n",
       "      <td>someone shared with me that the number of busi...</td>\n",
       "      <td>56167.0</td>\n",
       "      <td>34987.0</td>\n",
       "      <td>4110.0</td>\n",
       "      <td>547.0</td>\n",
       "      <td>152.0</td>\n",
       "      <td>128</td>\n",
       "      <td>False</td>\n",
       "      <td>False</td>\n",
       "      <td>False</td>\n",
       "    </tr>\n",
       "  </tbody>\n",
       "</table>\n",
       "</div>"
      ],
      "text/plain": [
       "   video_duration_sec                           video_transcription_text  \\\n",
       "0                  59  someone shared with me that drone deliveries a...   \n",
       "1                  32  someone shared with me that there are more mic...   \n",
       "2                  31  someone shared with me that american industria...   \n",
       "3                  25  someone shared with me that the metro of st. p...   \n",
       "4                  19  someone shared with me that the number of busi...   \n",
       "\n",
       "   video_view_count  video_like_count  video_share_count  \\\n",
       "0          343296.0           19425.0              241.0   \n",
       "1          140877.0           77355.0            19034.0   \n",
       "2          902185.0           97690.0             2858.0   \n",
       "3          437506.0          239954.0            34812.0   \n",
       "4           56167.0           34987.0             4110.0   \n",
       "\n",
       "   video_download_count  video_comment_count  text_length  \\\n",
       "0                   1.0                  0.0           97   \n",
       "1                1161.0                684.0          107   \n",
       "2                 833.0                329.0          137   \n",
       "3                1234.0                584.0          131   \n",
       "4                 547.0                152.0          128   \n",
       "\n",
       "   verified_status_verified  author_ban_status_banned  \\\n",
       "0                     False                     False   \n",
       "1                     False                     False   \n",
       "2                     False                     False   \n",
       "3                     False                     False   \n",
       "4                     False                     False   \n",
       "\n",
       "   author_ban_status_under review  \n",
       "0                            True  \n",
       "1                           False  \n",
       "2                           False  \n",
       "3                           False  \n",
       "4                           False  "
      ]
     },
     "execution_count": 18,
     "metadata": {},
     "output_type": "execute_result"
    }
   ],
   "source": [
    "# Isolate features\n",
    "X = X.drop(['claim_status'], axis=1)\n",
    "\n",
    "# Display first few rows of features dataframe\n",
    "X.head()"
   ]
  },
  {
   "cell_type": "markdown",
   "metadata": {
    "id": "yHOuraMm1jRy"
   },
   "source": [
    "#### **Task 5: Create train/validate/test sets**"
   ]
  },
  {
   "cell_type": "markdown",
   "metadata": {
    "id": "5tNw9_y9jmY1"
   },
   "source": [
    "Split data into training and testing sets, 80/20."
   ]
  },
  {
   "cell_type": "code",
   "execution_count": 19,
   "metadata": {
    "id": "jKgrew0V6o_3"
   },
   "outputs": [],
   "source": [
    "# Split the data into training and testing sets\n",
    "X_tr, X_test, y_tr, y_test = train_test_split(X, y, test_size=0.2, random_state=0)"
   ]
  },
  {
   "cell_type": "markdown",
   "metadata": {
    "id": "lQq9zKScz-NJ"
   },
   "source": [
    "Split the training set into training and validation sets, 75/25, to result in a final ratio of 60/20/20 for train/validate/test sets."
   ]
  },
  {
   "cell_type": "code",
   "execution_count": 20,
   "metadata": {
    "id": "HhkqFZaJYTyK"
   },
   "outputs": [],
   "source": [
    "# Split the training data into training and validation sets\n",
    "X_train, X_val, y_train, y_val = train_test_split(X_tr, y_tr, test_size=0.25, random_state=0)"
   ]
  },
  {
   "cell_type": "markdown",
   "metadata": {
    "id": "5VlklzoujrAR"
   },
   "source": [
    "Confirm that the dimensions of the training, validation, and testing sets are in alignment."
   ]
  },
  {
   "cell_type": "code",
   "execution_count": 21,
   "metadata": {
    "colab": {
     "base_uri": "https://localhost:8080/"
    },
    "id": "xgbB1NCtfxcc",
    "outputId": "5458052e-8cc4-4799-fa8b-c727ec5ce9a8"
   },
   "outputs": [
    {
     "data": {
      "text/plain": [
       "((11450, 11), (3817, 11), (3817, 11), (11450,), (3817,), (3817,))"
      ]
     },
     "execution_count": 21,
     "metadata": {},
     "output_type": "execute_result"
    }
   ],
   "source": [
    "# Get shape of each training, validation, and testing set\n",
    "X_train.shape, X_val.shape, X_test.shape, y_train.shape, y_val.shape, y_test.shape"
   ]
  },
  {
   "cell_type": "markdown",
   "metadata": {
    "id": "wrPfLLbCj6WP"
   },
   "source": [
    "**Exemplar notes:**\n",
    "- The number of features (`11`) aligns between the training and testing sets.\n",
    "- The number of rows aligns between the features and the outcome variable for training (`11,450`) and both validation and testing data (`3,817`)."
   ]
  },
  {
   "cell_type": "markdown",
   "metadata": {
    "id": "6frX3ATWZVgL"
   },
   "source": [
    "### **BONUS CONTENT - Tokenize text column**\n",
    "\n",
    "**NOTE:** You are not expected to do this or know this, but you might find it useful and/or interesting to understand some basic ideas behind natural language processing (NLP), because of the nature of the data provided in this TikTok project.\n",
    "\n",
    "The feature `video_transcription_text` is text-based. It is not a categorical variable, since it does not have a fixed number of possible values. One way to extract numerical features from it is through a bag-of-words algorithm like [`CountVectorizer`](https://scikit-learn.org/stable/modules/generated/sklearn.feature_extraction.text.CountVectorizer.html).\n",
    "\n",
    "`CountVectorizer` works by splitting text into n-grams, which are groups of n consecutive words. For instance, \"a dime for a cup of coffee\" (phrase A) broken into 2-grams would result in six two-word combinations:\n",
    "\n",
    "`a dime` | `dime for` |`for a`| `a cup` | `cup of` | `of coffee` |\n",
    "\n",
    "Then, the next sample's text would be parsed into 2-grams. So, \"ask for a cup for a child\" (phrase B) would result in:\n",
    "\n",
    "`ask for` |`for a`| `a cup` | `cup for` | `for a` | `a child` |\n",
    "\n",
    "This process would repeat for each observation in the dataset, and each n-gram would be treated like a distinct feature. Then, the text of each observation is compared to the full array of n-grams, and the numbers of occurrences are tallied:\n",
    "\n",
    "|  | `a dime` |`dime for`  |`for a`| `a cup` | `cup of` | `of coffee` | `ask for` | `cup for` | `a child` |\n",
    "|--: |:-:|:-:|:-:|:-:|:-:|:-:|:-:|:-:|:-:|\n",
    "|phrase A |1|1|1|1|1|1|0|0|0|\n",
    "|phrase B |0|0|2|1|1|0|1|1|1|\n",
    "|**TOTAL**|1|1|3|2|2|1|1|1|1|\n",
    "\n",
    "This would happen for the text of each observation in the data, and the text of each observation is parsed to get tallies for all the 2-word phrases from the entire data set for each observation, creating a large matrix.\n",
    "\n",
    "If text is broken into 1-grams, then each feature in the matrix is an individual word.\n",
    "\n",
    "After the count matrix has been created, `CountVectorizer` lets you the choose to keep only the most frequently occurring n-grams. You specify how many. The n-grams that you select can then be used as features in a model.\n",
    "\n",
    "Splitting text into n-grams is an example of tokenization. Tokenization is the process of breaking text into smaller units to derive meaning from the resulting tokens.\n",
    "\n",
    "This notebook breaks each video's transcription text into both 2-grams and 3-grams, then takes the 15 most frequently occurring tokens from the entire dataset to use as features."
   ]
  },
  {
   "cell_type": "code",
   "execution_count": 22,
   "metadata": {
    "colab": {
     "base_uri": "https://localhost:8080/",
     "height": 75
    },
    "id": "4r-9NHYkq8gT",
    "outputId": "93acd2c2-947a-48d8-b8d0-37e6484712d9"
   },
   "outputs": [
    {
     "data": {
      "text/html": [
<<<<<<< HEAD
       "<style>#sk-container-id-1 {color: black;background-color: white;}#sk-container-id-1 pre{padding: 0;}#sk-container-id-1 div.sk-toggleable {background-color: white;}#sk-container-id-1 label.sk-toggleable__label {cursor: pointer;display: block;width: 100%;margin-bottom: 0;padding: 0.3em;box-sizing: border-box;text-align: center;}#sk-container-id-1 label.sk-toggleable__label-arrow:before {content: \"▸\";float: left;margin-right: 0.25em;color: #696969;}#sk-container-id-1 label.sk-toggleable__label-arrow:hover:before {color: black;}#sk-container-id-1 div.sk-estimator:hover label.sk-toggleable__label-arrow:before {color: black;}#sk-container-id-1 div.sk-toggleable__content {max-height: 0;max-width: 0;overflow: hidden;text-align: left;background-color: #f0f8ff;}#sk-container-id-1 div.sk-toggleable__content pre {margin: 0.2em;color: black;border-radius: 0.25em;background-color: #f0f8ff;}#sk-container-id-1 input.sk-toggleable__control:checked~div.sk-toggleable__content {max-height: 200px;max-width: 100%;overflow: auto;}#sk-container-id-1 input.sk-toggleable__control:checked~label.sk-toggleable__label-arrow:before {content: \"▾\";}#sk-container-id-1 div.sk-estimator input.sk-toggleable__control:checked~label.sk-toggleable__label {background-color: #d4ebff;}#sk-container-id-1 div.sk-label input.sk-toggleable__control:checked~label.sk-toggleable__label {background-color: #d4ebff;}#sk-container-id-1 input.sk-hidden--visually {border: 0;clip: rect(1px 1px 1px 1px);clip: rect(1px, 1px, 1px, 1px);height: 1px;margin: -1px;overflow: hidden;padding: 0;position: absolute;width: 1px;}#sk-container-id-1 div.sk-estimator {font-family: monospace;background-color: #f0f8ff;border: 1px dotted black;border-radius: 0.25em;box-sizing: border-box;margin-bottom: 0.5em;}#sk-container-id-1 div.sk-estimator:hover {background-color: #d4ebff;}#sk-container-id-1 div.sk-parallel-item::after {content: \"\";width: 100%;border-bottom: 1px solid gray;flex-grow: 1;}#sk-container-id-1 div.sk-label:hover label.sk-toggleable__label {background-color: #d4ebff;}#sk-container-id-1 div.sk-serial::before {content: \"\";position: absolute;border-left: 1px solid gray;box-sizing: border-box;top: 0;bottom: 0;left: 50%;z-index: 0;}#sk-container-id-1 div.sk-serial {display: flex;flex-direction: column;align-items: center;background-color: white;padding-right: 0.2em;padding-left: 0.2em;position: relative;}#sk-container-id-1 div.sk-item {position: relative;z-index: 1;}#sk-container-id-1 div.sk-parallel {display: flex;align-items: stretch;justify-content: center;background-color: white;position: relative;}#sk-container-id-1 div.sk-item::before, #sk-container-id-1 div.sk-parallel-item::before {content: \"\";position: absolute;border-left: 1px solid gray;box-sizing: border-box;top: 0;bottom: 0;left: 50%;z-index: -1;}#sk-container-id-1 div.sk-parallel-item {display: flex;flex-direction: column;z-index: 1;position: relative;background-color: white;}#sk-container-id-1 div.sk-parallel-item:first-child::after {align-self: flex-end;width: 50%;}#sk-container-id-1 div.sk-parallel-item:last-child::after {align-self: flex-start;width: 50%;}#sk-container-id-1 div.sk-parallel-item:only-child::after {width: 0;}#sk-container-id-1 div.sk-dashed-wrapped {border: 1px dashed gray;margin: 0 0.4em 0.5em 0.4em;box-sizing: border-box;padding-bottom: 0.4em;background-color: white;}#sk-container-id-1 div.sk-label label {font-family: monospace;font-weight: bold;display: inline-block;line-height: 1.2em;}#sk-container-id-1 div.sk-label-container {text-align: center;}#sk-container-id-1 div.sk-container {/* jupyter's `normalize.less` sets `[hidden] { display: none; }` but bootstrap.min.css set `[hidden] { display: none !important; }` so we also need the `!important` here to be able to override the default hidden behavior on the sphinx rendered scikit-learn.org. See: https://github.com/scikit-learn/scikit-learn/issues/21755 */display: inline-block !important;position: relative;}#sk-container-id-1 div.sk-text-repr-fallback {display: none;}</style><div id=\"sk-container-id-1\" class=\"sk-top-container\"><div class=\"sk-text-repr-fallback\"><pre>CountVectorizer(max_features=15, ngram_range=(2, 3), stop_words=&#x27;english&#x27;)</pre><b>In a Jupyter environment, please rerun this cell to show the HTML representation or trust the notebook. <br />On GitHub, the HTML representation is unable to render, please try loading this page with nbviewer.org.</b></div><div class=\"sk-container\" hidden><div class=\"sk-item\"><div class=\"sk-estimator sk-toggleable\"><input class=\"sk-toggleable__control sk-hidden--visually\" id=\"sk-estimator-id-1\" type=\"checkbox\" checked><label for=\"sk-estimator-id-1\" class=\"sk-toggleable__label sk-toggleable__label-arrow\">CountVectorizer</label><div class=\"sk-toggleable__content\"><pre>CountVectorizer(max_features=15, ngram_range=(2, 3), stop_words=&#x27;english&#x27;)</pre></div></div></div></div></div>"
=======
       "<style>#sk-container-id-1 {\n",
       "  /* Definition of color scheme common for light and dark mode */\n",
       "  --sklearn-color-text: black;\n",
       "  --sklearn-color-line: gray;\n",
       "  /* Definition of color scheme for unfitted estimators */\n",
       "  --sklearn-color-unfitted-level-0: #fff5e6;\n",
       "  --sklearn-color-unfitted-level-1: #f6e4d2;\n",
       "  --sklearn-color-unfitted-level-2: #ffe0b3;\n",
       "  --sklearn-color-unfitted-level-3: chocolate;\n",
       "  /* Definition of color scheme for fitted estimators */\n",
       "  --sklearn-color-fitted-level-0: #f0f8ff;\n",
       "  --sklearn-color-fitted-level-1: #d4ebff;\n",
       "  --sklearn-color-fitted-level-2: #b3dbfd;\n",
       "  --sklearn-color-fitted-level-3: cornflowerblue;\n",
       "\n",
       "  /* Specific color for light theme */\n",
       "  --sklearn-color-text-on-default-background: var(--sg-text-color, var(--theme-code-foreground, var(--jp-content-font-color1, black)));\n",
       "  --sklearn-color-background: var(--sg-background-color, var(--theme-background, var(--jp-layout-color0, white)));\n",
       "  --sklearn-color-border-box: var(--sg-text-color, var(--theme-code-foreground, var(--jp-content-font-color1, black)));\n",
       "  --sklearn-color-icon: #696969;\n",
       "\n",
       "  @media (prefers-color-scheme: dark) {\n",
       "    /* Redefinition of color scheme for dark theme */\n",
       "    --sklearn-color-text-on-default-background: var(--sg-text-color, var(--theme-code-foreground, var(--jp-content-font-color1, white)));\n",
       "    --sklearn-color-background: var(--sg-background-color, var(--theme-background, var(--jp-layout-color0, #111)));\n",
       "    --sklearn-color-border-box: var(--sg-text-color, var(--theme-code-foreground, var(--jp-content-font-color1, white)));\n",
       "    --sklearn-color-icon: #878787;\n",
       "  }\n",
       "}\n",
       "\n",
       "#sk-container-id-1 {\n",
       "  color: var(--sklearn-color-text);\n",
       "}\n",
       "\n",
       "#sk-container-id-1 pre {\n",
       "  padding: 0;\n",
       "}\n",
       "\n",
       "#sk-container-id-1 input.sk-hidden--visually {\n",
       "  border: 0;\n",
       "  clip: rect(1px 1px 1px 1px);\n",
       "  clip: rect(1px, 1px, 1px, 1px);\n",
       "  height: 1px;\n",
       "  margin: -1px;\n",
       "  overflow: hidden;\n",
       "  padding: 0;\n",
       "  position: absolute;\n",
       "  width: 1px;\n",
       "}\n",
       "\n",
       "#sk-container-id-1 div.sk-dashed-wrapped {\n",
       "  border: 1px dashed var(--sklearn-color-line);\n",
       "  margin: 0 0.4em 0.5em 0.4em;\n",
       "  box-sizing: border-box;\n",
       "  padding-bottom: 0.4em;\n",
       "  background-color: var(--sklearn-color-background);\n",
       "}\n",
       "\n",
       "#sk-container-id-1 div.sk-container {\n",
       "  /* jupyter's `normalize.less` sets `[hidden] { display: none; }`\n",
       "     but bootstrap.min.css set `[hidden] { display: none !important; }`\n",
       "     so we also need the `!important` here to be able to override the\n",
       "     default hidden behavior on the sphinx rendered scikit-learn.org.\n",
       "     See: https://github.com/scikit-learn/scikit-learn/issues/21755 */\n",
       "  display: inline-block !important;\n",
       "  position: relative;\n",
       "}\n",
       "\n",
       "#sk-container-id-1 div.sk-text-repr-fallback {\n",
       "  display: none;\n",
       "}\n",
       "\n",
       "div.sk-parallel-item,\n",
       "div.sk-serial,\n",
       "div.sk-item {\n",
       "  /* draw centered vertical line to link estimators */\n",
       "  background-image: linear-gradient(var(--sklearn-color-text-on-default-background), var(--sklearn-color-text-on-default-background));\n",
       "  background-size: 2px 100%;\n",
       "  background-repeat: no-repeat;\n",
       "  background-position: center center;\n",
       "}\n",
       "\n",
       "/* Parallel-specific style estimator block */\n",
       "\n",
       "#sk-container-id-1 div.sk-parallel-item::after {\n",
       "  content: \"\";\n",
       "  width: 100%;\n",
       "  border-bottom: 2px solid var(--sklearn-color-text-on-default-background);\n",
       "  flex-grow: 1;\n",
       "}\n",
       "\n",
       "#sk-container-id-1 div.sk-parallel {\n",
       "  display: flex;\n",
       "  align-items: stretch;\n",
       "  justify-content: center;\n",
       "  background-color: var(--sklearn-color-background);\n",
       "  position: relative;\n",
       "}\n",
       "\n",
       "#sk-container-id-1 div.sk-parallel-item {\n",
       "  display: flex;\n",
       "  flex-direction: column;\n",
       "}\n",
       "\n",
       "#sk-container-id-1 div.sk-parallel-item:first-child::after {\n",
       "  align-self: flex-end;\n",
       "  width: 50%;\n",
       "}\n",
       "\n",
       "#sk-container-id-1 div.sk-parallel-item:last-child::after {\n",
       "  align-self: flex-start;\n",
       "  width: 50%;\n",
       "}\n",
       "\n",
       "#sk-container-id-1 div.sk-parallel-item:only-child::after {\n",
       "  width: 0;\n",
       "}\n",
       "\n",
       "/* Serial-specific style estimator block */\n",
       "\n",
       "#sk-container-id-1 div.sk-serial {\n",
       "  display: flex;\n",
       "  flex-direction: column;\n",
       "  align-items: center;\n",
       "  background-color: var(--sklearn-color-background);\n",
       "  padding-right: 1em;\n",
       "  padding-left: 1em;\n",
       "}\n",
       "\n",
       "\n",
       "/* Toggleable style: style used for estimator/Pipeline/ColumnTransformer box that is\n",
       "clickable and can be expanded/collapsed.\n",
       "- Pipeline and ColumnTransformer use this feature and define the default style\n",
       "- Estimators will overwrite some part of the style using the `sk-estimator` class\n",
       "*/\n",
       "\n",
       "/* Pipeline and ColumnTransformer style (default) */\n",
       "\n",
       "#sk-container-id-1 div.sk-toggleable {\n",
       "  /* Default theme specific background. It is overwritten whether we have a\n",
       "  specific estimator or a Pipeline/ColumnTransformer */\n",
       "  background-color: var(--sklearn-color-background);\n",
       "}\n",
       "\n",
       "/* Toggleable label */\n",
       "#sk-container-id-1 label.sk-toggleable__label {\n",
       "  cursor: pointer;\n",
       "  display: block;\n",
       "  width: 100%;\n",
       "  margin-bottom: 0;\n",
       "  padding: 0.5em;\n",
       "  box-sizing: border-box;\n",
       "  text-align: center;\n",
       "}\n",
       "\n",
       "#sk-container-id-1 label.sk-toggleable__label-arrow:before {\n",
       "  /* Arrow on the left of the label */\n",
       "  content: \"▸\";\n",
       "  float: left;\n",
       "  margin-right: 0.25em;\n",
       "  color: var(--sklearn-color-icon);\n",
       "}\n",
       "\n",
       "#sk-container-id-1 label.sk-toggleable__label-arrow:hover:before {\n",
       "  color: var(--sklearn-color-text);\n",
       "}\n",
       "\n",
       "/* Toggleable content - dropdown */\n",
       "\n",
       "#sk-container-id-1 div.sk-toggleable__content {\n",
       "  max-height: 0;\n",
       "  max-width: 0;\n",
       "  overflow: hidden;\n",
       "  text-align: left;\n",
       "  /* unfitted */\n",
       "  background-color: var(--sklearn-color-unfitted-level-0);\n",
       "}\n",
       "\n",
       "#sk-container-id-1 div.sk-toggleable__content.fitted {\n",
       "  /* fitted */\n",
       "  background-color: var(--sklearn-color-fitted-level-0);\n",
       "}\n",
       "\n",
       "#sk-container-id-1 div.sk-toggleable__content pre {\n",
       "  margin: 0.2em;\n",
       "  border-radius: 0.25em;\n",
       "  color: var(--sklearn-color-text);\n",
       "  /* unfitted */\n",
       "  background-color: var(--sklearn-color-unfitted-level-0);\n",
       "}\n",
       "\n",
       "#sk-container-id-1 div.sk-toggleable__content.fitted pre {\n",
       "  /* unfitted */\n",
       "  background-color: var(--sklearn-color-fitted-level-0);\n",
       "}\n",
       "\n",
       "#sk-container-id-1 input.sk-toggleable__control:checked~div.sk-toggleable__content {\n",
       "  /* Expand drop-down */\n",
       "  max-height: 200px;\n",
       "  max-width: 100%;\n",
       "  overflow: auto;\n",
       "}\n",
       "\n",
       "#sk-container-id-1 input.sk-toggleable__control:checked~label.sk-toggleable__label-arrow:before {\n",
       "  content: \"▾\";\n",
       "}\n",
       "\n",
       "/* Pipeline/ColumnTransformer-specific style */\n",
       "\n",
       "#sk-container-id-1 div.sk-label input.sk-toggleable__control:checked~label.sk-toggleable__label {\n",
       "  color: var(--sklearn-color-text);\n",
       "  background-color: var(--sklearn-color-unfitted-level-2);\n",
       "}\n",
       "\n",
       "#sk-container-id-1 div.sk-label.fitted input.sk-toggleable__control:checked~label.sk-toggleable__label {\n",
       "  background-color: var(--sklearn-color-fitted-level-2);\n",
       "}\n",
       "\n",
       "/* Estimator-specific style */\n",
       "\n",
       "/* Colorize estimator box */\n",
       "#sk-container-id-1 div.sk-estimator input.sk-toggleable__control:checked~label.sk-toggleable__label {\n",
       "  /* unfitted */\n",
       "  background-color: var(--sklearn-color-unfitted-level-2);\n",
       "}\n",
       "\n",
       "#sk-container-id-1 div.sk-estimator.fitted input.sk-toggleable__control:checked~label.sk-toggleable__label {\n",
       "  /* fitted */\n",
       "  background-color: var(--sklearn-color-fitted-level-2);\n",
       "}\n",
       "\n",
       "#sk-container-id-1 div.sk-label label.sk-toggleable__label,\n",
       "#sk-container-id-1 div.sk-label label {\n",
       "  /* The background is the default theme color */\n",
       "  color: var(--sklearn-color-text-on-default-background);\n",
       "}\n",
       "\n",
       "/* On hover, darken the color of the background */\n",
       "#sk-container-id-1 div.sk-label:hover label.sk-toggleable__label {\n",
       "  color: var(--sklearn-color-text);\n",
       "  background-color: var(--sklearn-color-unfitted-level-2);\n",
       "}\n",
       "\n",
       "/* Label box, darken color on hover, fitted */\n",
       "#sk-container-id-1 div.sk-label.fitted:hover label.sk-toggleable__label.fitted {\n",
       "  color: var(--sklearn-color-text);\n",
       "  background-color: var(--sklearn-color-fitted-level-2);\n",
       "}\n",
       "\n",
       "/* Estimator label */\n",
       "\n",
       "#sk-container-id-1 div.sk-label label {\n",
       "  font-family: monospace;\n",
       "  font-weight: bold;\n",
       "  display: inline-block;\n",
       "  line-height: 1.2em;\n",
       "}\n",
       "\n",
       "#sk-container-id-1 div.sk-label-container {\n",
       "  text-align: center;\n",
       "}\n",
       "\n",
       "/* Estimator-specific */\n",
       "#sk-container-id-1 div.sk-estimator {\n",
       "  font-family: monospace;\n",
       "  border: 1px dotted var(--sklearn-color-border-box);\n",
       "  border-radius: 0.25em;\n",
       "  box-sizing: border-box;\n",
       "  margin-bottom: 0.5em;\n",
       "  /* unfitted */\n",
       "  background-color: var(--sklearn-color-unfitted-level-0);\n",
       "}\n",
       "\n",
       "#sk-container-id-1 div.sk-estimator.fitted {\n",
       "  /* fitted */\n",
       "  background-color: var(--sklearn-color-fitted-level-0);\n",
       "}\n",
       "\n",
       "/* on hover */\n",
       "#sk-container-id-1 div.sk-estimator:hover {\n",
       "  /* unfitted */\n",
       "  background-color: var(--sklearn-color-unfitted-level-2);\n",
       "}\n",
       "\n",
       "#sk-container-id-1 div.sk-estimator.fitted:hover {\n",
       "  /* fitted */\n",
       "  background-color: var(--sklearn-color-fitted-level-2);\n",
       "}\n",
       "\n",
       "/* Specification for estimator info (e.g. \"i\" and \"?\") */\n",
       "\n",
       "/* Common style for \"i\" and \"?\" */\n",
       "\n",
       ".sk-estimator-doc-link,\n",
       "a:link.sk-estimator-doc-link,\n",
       "a:visited.sk-estimator-doc-link {\n",
       "  float: right;\n",
       "  font-size: smaller;\n",
       "  line-height: 1em;\n",
       "  font-family: monospace;\n",
       "  background-color: var(--sklearn-color-background);\n",
       "  border-radius: 1em;\n",
       "  height: 1em;\n",
       "  width: 1em;\n",
       "  text-decoration: none !important;\n",
       "  margin-left: 1ex;\n",
       "  /* unfitted */\n",
       "  border: var(--sklearn-color-unfitted-level-1) 1pt solid;\n",
       "  color: var(--sklearn-color-unfitted-level-1);\n",
       "}\n",
       "\n",
       ".sk-estimator-doc-link.fitted,\n",
       "a:link.sk-estimator-doc-link.fitted,\n",
       "a:visited.sk-estimator-doc-link.fitted {\n",
       "  /* fitted */\n",
       "  border: var(--sklearn-color-fitted-level-1) 1pt solid;\n",
       "  color: var(--sklearn-color-fitted-level-1);\n",
       "}\n",
       "\n",
       "/* On hover */\n",
       "div.sk-estimator:hover .sk-estimator-doc-link:hover,\n",
       ".sk-estimator-doc-link:hover,\n",
       "div.sk-label-container:hover .sk-estimator-doc-link:hover,\n",
       ".sk-estimator-doc-link:hover {\n",
       "  /* unfitted */\n",
       "  background-color: var(--sklearn-color-unfitted-level-3);\n",
       "  color: var(--sklearn-color-background);\n",
       "  text-decoration: none;\n",
       "}\n",
       "\n",
       "div.sk-estimator.fitted:hover .sk-estimator-doc-link.fitted:hover,\n",
       ".sk-estimator-doc-link.fitted:hover,\n",
       "div.sk-label-container:hover .sk-estimator-doc-link.fitted:hover,\n",
       ".sk-estimator-doc-link.fitted:hover {\n",
       "  /* fitted */\n",
       "  background-color: var(--sklearn-color-fitted-level-3);\n",
       "  color: var(--sklearn-color-background);\n",
       "  text-decoration: none;\n",
       "}\n",
       "\n",
       "/* Span, style for the box shown on hovering the info icon */\n",
       ".sk-estimator-doc-link span {\n",
       "  display: none;\n",
       "  z-index: 9999;\n",
       "  position: relative;\n",
       "  font-weight: normal;\n",
       "  right: .2ex;\n",
       "  padding: .5ex;\n",
       "  margin: .5ex;\n",
       "  width: min-content;\n",
       "  min-width: 20ex;\n",
       "  max-width: 50ex;\n",
       "  color: var(--sklearn-color-text);\n",
       "  box-shadow: 2pt 2pt 4pt #999;\n",
       "  /* unfitted */\n",
       "  background: var(--sklearn-color-unfitted-level-0);\n",
       "  border: .5pt solid var(--sklearn-color-unfitted-level-3);\n",
       "}\n",
       "\n",
       ".sk-estimator-doc-link.fitted span {\n",
       "  /* fitted */\n",
       "  background: var(--sklearn-color-fitted-level-0);\n",
       "  border: var(--sklearn-color-fitted-level-3);\n",
       "}\n",
       "\n",
       ".sk-estimator-doc-link:hover span {\n",
       "  display: block;\n",
       "}\n",
       "\n",
       "/* \"?\"-specific style due to the `<a>` HTML tag */\n",
       "\n",
       "#sk-container-id-1 a.estimator_doc_link {\n",
       "  float: right;\n",
       "  font-size: 1rem;\n",
       "  line-height: 1em;\n",
       "  font-family: monospace;\n",
       "  background-color: var(--sklearn-color-background);\n",
       "  border-radius: 1rem;\n",
       "  height: 1rem;\n",
       "  width: 1rem;\n",
       "  text-decoration: none;\n",
       "  /* unfitted */\n",
       "  color: var(--sklearn-color-unfitted-level-1);\n",
       "  border: var(--sklearn-color-unfitted-level-1) 1pt solid;\n",
       "}\n",
       "\n",
       "#sk-container-id-1 a.estimator_doc_link.fitted {\n",
       "  /* fitted */\n",
       "  border: var(--sklearn-color-fitted-level-1) 1pt solid;\n",
       "  color: var(--sklearn-color-fitted-level-1);\n",
       "}\n",
       "\n",
       "/* On hover */\n",
       "#sk-container-id-1 a.estimator_doc_link:hover {\n",
       "  /* unfitted */\n",
       "  background-color: var(--sklearn-color-unfitted-level-3);\n",
       "  color: var(--sklearn-color-background);\n",
       "  text-decoration: none;\n",
       "}\n",
       "\n",
       "#sk-container-id-1 a.estimator_doc_link.fitted:hover {\n",
       "  /* fitted */\n",
       "  background-color: var(--sklearn-color-fitted-level-3);\n",
       "}\n",
       "</style><div id=\"sk-container-id-1\" class=\"sk-top-container\"><div class=\"sk-text-repr-fallback\"><pre>CountVectorizer(max_features=15, ngram_range=(2, 3), stop_words=&#x27;english&#x27;)</pre><b>In a Jupyter environment, please rerun this cell to show the HTML representation or trust the notebook. <br />On GitHub, the HTML representation is unable to render, please try loading this page with nbviewer.org.</b></div><div class=\"sk-container\" hidden><div class=\"sk-item\"><div class=\"sk-estimator  sk-toggleable\"><input class=\"sk-toggleable__control sk-hidden--visually\" id=\"sk-estimator-id-1\" type=\"checkbox\" checked><label for=\"sk-estimator-id-1\" class=\"sk-toggleable__label  sk-toggleable__label-arrow \">&nbsp;&nbsp;CountVectorizer<a class=\"sk-estimator-doc-link \" rel=\"noreferrer\" target=\"_blank\" href=\"https://scikit-learn.org/1.5/modules/generated/sklearn.feature_extraction.text.CountVectorizer.html\">?<span>Documentation for CountVectorizer</span></a><span class=\"sk-estimator-doc-link \">i<span>Not fitted</span></span></label><div class=\"sk-toggleable__content \"><pre>CountVectorizer(max_features=15, ngram_range=(2, 3), stop_words=&#x27;english&#x27;)</pre></div> </div></div></div></div>"
>>>>>>> 314d03ca20cb2757903f289bfe89931b75ffe410
      ],
      "text/plain": [
       "CountVectorizer(max_features=15, ngram_range=(2, 3), stop_words='english')"
      ]
     },
     "execution_count": 22,
     "metadata": {},
     "output_type": "execute_result"
    }
   ],
   "source": [
    "# Set up a `CountVectorizer` object, which converts a collection of text to a matrix of token counts\n",
    "count_vec = CountVectorizer(ngram_range=(2, 3),\n",
    "                            max_features=15,\n",
    "                            stop_words='english')\n",
    "count_vec"
   ]
  },
  {
   "cell_type": "markdown",
   "metadata": {
    "id": "sVPNQyJtNJ2V"
   },
   "source": [
    "Fit the vectorizer to the training data (generate the n-grams) and transform it (tally the occurrences). Only fit to the training data, not the validation or test data."
   ]
  },
  {
   "cell_type": "code",
   "execution_count": 23,
   "metadata": {
    "colab": {
     "base_uri": "https://localhost:8080/"
    },
    "id": "_4Y5K5pbrFD4",
    "outputId": "a021dca1-a9a9-4f11-8d5d-1761c2673d52"
   },
   "outputs": [
    {
     "data": {
      "text/plain": [
       "array([[0, 0, 0, ..., 0, 0, 0],\n",
       "       [0, 0, 0, ..., 0, 0, 0],\n",
       "       [0, 0, 0, ..., 0, 0, 0],\n",
       "       ...,\n",
       "       [0, 0, 1, ..., 1, 0, 0],\n",
       "       [0, 0, 0, ..., 0, 0, 0],\n",
       "       [0, 0, 0, ..., 0, 0, 0]])"
      ]
     },
     "execution_count": 23,
     "metadata": {},
     "output_type": "execute_result"
    }
   ],
   "source": [
    "# Extract numerical features from `video_transcription_text` in the training set\n",
    "count_data = count_vec.fit_transform(X_train['video_transcription_text']).toarray()\n",
    "count_data"
   ]
  },
  {
   "cell_type": "code",
   "execution_count": 24,
   "metadata": {
    "colab": {
     "base_uri": "https://localhost:8080/",
     "height": 268
    },
    "id": "LB31J6a7tm2b",
    "outputId": "9c39b5c0-1b8c-4d4b-e25e-a6c065b3a81c"
   },
   "outputs": [
    {
     "data": {
      "text/html": [
       "<div>\n",
       "<style scoped>\n",
       "    .dataframe tbody tr th:only-of-type {\n",
       "        vertical-align: middle;\n",
       "    }\n",
       "\n",
       "    .dataframe tbody tr th {\n",
       "        vertical-align: top;\n",
       "    }\n",
       "\n",
       "    .dataframe thead th {\n",
       "        text-align: right;\n",
       "    }\n",
       "</style>\n",
       "<table border=\"1\" class=\"dataframe\">\n",
       "  <thead>\n",
       "    <tr style=\"text-align: right;\">\n",
       "      <th></th>\n",
       "      <th>colleague discovered</th>\n",
       "      <th>colleague learned</th>\n",
       "      <th>colleague read</th>\n",
       "      <th>discovered news</th>\n",
       "      <th>discussion board</th>\n",
       "      <th>friend learned</th>\n",
       "      <th>friend read</th>\n",
       "      <th>internet forum</th>\n",
       "      <th>learned media</th>\n",
       "      <th>media claim</th>\n",
       "      <th>news claim</th>\n",
       "      <th>point view</th>\n",
       "      <th>read media</th>\n",
       "      <th>social media</th>\n",
       "      <th>willing wager</th>\n",
       "    </tr>\n",
       "  </thead>\n",
       "  <tbody>\n",
       "    <tr>\n",
       "      <th>0</th>\n",
       "      <td>0</td>\n",
       "      <td>0</td>\n",
       "      <td>0</td>\n",
       "      <td>0</td>\n",
       "      <td>0</td>\n",
       "      <td>0</td>\n",
       "      <td>0</td>\n",
       "      <td>0</td>\n",
       "      <td>0</td>\n",
       "      <td>0</td>\n",
       "      <td>0</td>\n",
       "      <td>0</td>\n",
       "      <td>0</td>\n",
       "      <td>0</td>\n",
       "      <td>0</td>\n",
       "    </tr>\n",
       "    <tr>\n",
       "      <th>1</th>\n",
       "      <td>0</td>\n",
       "      <td>0</td>\n",
       "      <td>0</td>\n",
       "      <td>0</td>\n",
       "      <td>0</td>\n",
       "      <td>0</td>\n",
       "      <td>1</td>\n",
       "      <td>0</td>\n",
       "      <td>0</td>\n",
       "      <td>0</td>\n",
       "      <td>0</td>\n",
       "      <td>0</td>\n",
       "      <td>0</td>\n",
       "      <td>0</td>\n",
       "      <td>0</td>\n",
       "    </tr>\n",
       "    <tr>\n",
       "      <th>2</th>\n",
       "      <td>0</td>\n",
       "      <td>0</td>\n",
       "      <td>0</td>\n",
       "      <td>0</td>\n",
       "      <td>0</td>\n",
       "      <td>0</td>\n",
       "      <td>1</td>\n",
       "      <td>0</td>\n",
       "      <td>0</td>\n",
       "      <td>0</td>\n",
       "      <td>0</td>\n",
       "      <td>0</td>\n",
       "      <td>0</td>\n",
       "      <td>0</td>\n",
       "      <td>0</td>\n",
       "    </tr>\n",
       "    <tr>\n",
       "      <th>3</th>\n",
       "      <td>0</td>\n",
       "      <td>0</td>\n",
       "      <td>0</td>\n",
       "      <td>0</td>\n",
       "      <td>0</td>\n",
       "      <td>0</td>\n",
       "      <td>0</td>\n",
       "      <td>0</td>\n",
       "      <td>0</td>\n",
       "      <td>0</td>\n",
       "      <td>0</td>\n",
       "      <td>0</td>\n",
       "      <td>0</td>\n",
       "      <td>0</td>\n",
       "      <td>0</td>\n",
       "    </tr>\n",
       "    <tr>\n",
       "      <th>4</th>\n",
       "      <td>0</td>\n",
       "      <td>0</td>\n",
       "      <td>0</td>\n",
       "      <td>0</td>\n",
       "      <td>0</td>\n",
       "      <td>0</td>\n",
       "      <td>0</td>\n",
       "      <td>0</td>\n",
       "      <td>0</td>\n",
       "      <td>0</td>\n",
       "      <td>0</td>\n",
       "      <td>0</td>\n",
       "      <td>0</td>\n",
       "      <td>0</td>\n",
       "      <td>0</td>\n",
       "    </tr>\n",
       "  </tbody>\n",
       "</table>\n",
       "</div>"
      ],
      "text/plain": [
       "   colleague discovered  colleague learned  colleague read  discovered news  \\\n",
       "0                     0                  0               0                0   \n",
       "1                     0                  0               0                0   \n",
       "2                     0                  0               0                0   \n",
       "3                     0                  0               0                0   \n",
       "4                     0                  0               0                0   \n",
       "\n",
       "   discussion board  friend learned  friend read  internet forum  \\\n",
       "0                 0               0            0               0   \n",
       "1                 0               0            1               0   \n",
       "2                 0               0            1               0   \n",
       "3                 0               0            0               0   \n",
       "4                 0               0            0               0   \n",
       "\n",
       "   learned media  media claim  news claim  point view  read media  \\\n",
       "0              0            0           0           0           0   \n",
       "1              0            0           0           0           0   \n",
       "2              0            0           0           0           0   \n",
       "3              0            0           0           0           0   \n",
       "4              0            0           0           0           0   \n",
       "\n",
       "   social media  willing wager  \n",
       "0             0              0  \n",
       "1             0              0  \n",
       "2             0              0  \n",
       "3             0              0  \n",
       "4             0              0  "
      ]
     },
     "execution_count": 24,
     "metadata": {},
     "output_type": "execute_result"
    }
   ],
   "source": [
    "# Place the numerical representation of `video_transcription_text` from training set into a dataframe\n",
    "count_df = pd.DataFrame(data=count_data, columns=count_vec.get_feature_names_out())\n",
    "\n",
    "# Display first few rows\n",
    "count_df.head()"
   ]
  },
  {
   "cell_type": "code",
   "execution_count": 25,
   "metadata": {
    "colab": {
     "base_uri": "https://localhost:8080/",
     "height": 317
    },
    "id": "qKG1TK-KEfuB",
    "outputId": "8209e802-bd08-4be0-95a9-d21ecd23d076"
   },
   "outputs": [
    {
     "data": {
      "text/html": [
       "<div>\n",
       "<style scoped>\n",
       "    .dataframe tbody tr th:only-of-type {\n",
       "        vertical-align: middle;\n",
       "    }\n",
       "\n",
       "    .dataframe tbody tr th {\n",
       "        vertical-align: top;\n",
       "    }\n",
       "\n",
       "    .dataframe thead th {\n",
       "        text-align: right;\n",
       "    }\n",
       "</style>\n",
       "<table border=\"1\" class=\"dataframe\">\n",
       "  <thead>\n",
       "    <tr style=\"text-align: right;\">\n",
       "      <th></th>\n",
       "      <th>video_duration_sec</th>\n",
       "      <th>video_view_count</th>\n",
       "      <th>video_like_count</th>\n",
       "      <th>video_share_count</th>\n",
       "      <th>video_download_count</th>\n",
       "      <th>video_comment_count</th>\n",
       "      <th>text_length</th>\n",
       "      <th>verified_status_verified</th>\n",
       "      <th>author_ban_status_banned</th>\n",
       "      <th>author_ban_status_under review</th>\n",
       "      <th>...</th>\n",
       "      <th>friend learned</th>\n",
       "      <th>friend read</th>\n",
       "      <th>internet forum</th>\n",
       "      <th>learned media</th>\n",
       "      <th>media claim</th>\n",
       "      <th>news claim</th>\n",
       "      <th>point view</th>\n",
       "      <th>read media</th>\n",
       "      <th>social media</th>\n",
       "      <th>willing wager</th>\n",
       "    </tr>\n",
       "  </thead>\n",
       "  <tbody>\n",
       "    <tr>\n",
       "      <th>0</th>\n",
       "      <td>51</td>\n",
       "      <td>2487.0</td>\n",
       "      <td>310.0</td>\n",
       "      <td>20.0</td>\n",
       "      <td>1.0</td>\n",
       "      <td>0.0</td>\n",
       "      <td>134</td>\n",
       "      <td>False</td>\n",
       "      <td>False</td>\n",
       "      <td>False</td>\n",
       "      <td>...</td>\n",
       "      <td>0</td>\n",
       "      <td>0</td>\n",
       "      <td>0</td>\n",
       "      <td>0</td>\n",
       "      <td>0</td>\n",
       "      <td>0</td>\n",
       "      <td>0</td>\n",
       "      <td>0</td>\n",
       "      <td>0</td>\n",
       "      <td>0</td>\n",
       "    </tr>\n",
       "    <tr>\n",
       "      <th>1</th>\n",
       "      <td>43</td>\n",
       "      <td>118512.0</td>\n",
       "      <td>3543.0</td>\n",
       "      <td>374.0</td>\n",
       "      <td>70.0</td>\n",
       "      <td>29.0</td>\n",
       "      <td>97</td>\n",
       "      <td>False</td>\n",
       "      <td>True</td>\n",
       "      <td>False</td>\n",
       "      <td>...</td>\n",
       "      <td>0</td>\n",
       "      <td>1</td>\n",
       "      <td>0</td>\n",
       "      <td>0</td>\n",
       "      <td>0</td>\n",
       "      <td>0</td>\n",
       "      <td>0</td>\n",
       "      <td>0</td>\n",
       "      <td>0</td>\n",
       "      <td>0</td>\n",
       "    </tr>\n",
       "    <tr>\n",
       "      <th>2</th>\n",
       "      <td>22</td>\n",
       "      <td>105902.0</td>\n",
       "      <td>1885.0</td>\n",
       "      <td>229.0</td>\n",
       "      <td>39.0</td>\n",
       "      <td>9.0</td>\n",
       "      <td>76</td>\n",
       "      <td>False</td>\n",
       "      <td>False</td>\n",
       "      <td>True</td>\n",
       "      <td>...</td>\n",
       "      <td>0</td>\n",
       "      <td>1</td>\n",
       "      <td>0</td>\n",
       "      <td>0</td>\n",
       "      <td>0</td>\n",
       "      <td>0</td>\n",
       "      <td>0</td>\n",
       "      <td>0</td>\n",
       "      <td>0</td>\n",
       "      <td>0</td>\n",
       "    </tr>\n",
       "    <tr>\n",
       "      <th>3</th>\n",
       "      <td>17</td>\n",
       "      <td>9245.0</td>\n",
       "      <td>1670.0</td>\n",
       "      <td>440.0</td>\n",
       "      <td>13.0</td>\n",
       "      <td>4.0</td>\n",
       "      <td>58</td>\n",
       "      <td>False</td>\n",
       "      <td>False</td>\n",
       "      <td>False</td>\n",
       "      <td>...</td>\n",
       "      <td>0</td>\n",
       "      <td>0</td>\n",
       "      <td>0</td>\n",
       "      <td>0</td>\n",
       "      <td>0</td>\n",
       "      <td>0</td>\n",
       "      <td>0</td>\n",
       "      <td>0</td>\n",
       "      <td>0</td>\n",
       "      <td>0</td>\n",
       "    </tr>\n",
       "    <tr>\n",
       "      <th>4</th>\n",
       "      <td>18</td>\n",
       "      <td>3791.0</td>\n",
       "      <td>660.0</td>\n",
       "      <td>63.0</td>\n",
       "      <td>9.0</td>\n",
       "      <td>1.0</td>\n",
       "      <td>57</td>\n",
       "      <td>False</td>\n",
       "      <td>False</td>\n",
       "      <td>False</td>\n",
       "      <td>...</td>\n",
       "      <td>0</td>\n",
       "      <td>0</td>\n",
       "      <td>0</td>\n",
       "      <td>0</td>\n",
       "      <td>0</td>\n",
       "      <td>0</td>\n",
       "      <td>0</td>\n",
       "      <td>0</td>\n",
       "      <td>0</td>\n",
       "      <td>0</td>\n",
       "    </tr>\n",
       "  </tbody>\n",
       "</table>\n",
       "<p>5 rows × 25 columns</p>\n",
       "</div>"
      ],
      "text/plain": [
       "   video_duration_sec  video_view_count  video_like_count  video_share_count  \\\n",
       "0                  51            2487.0             310.0               20.0   \n",
       "1                  43          118512.0            3543.0              374.0   \n",
       "2                  22          105902.0            1885.0              229.0   \n",
       "3                  17            9245.0            1670.0              440.0   \n",
       "4                  18            3791.0             660.0               63.0   \n",
       "\n",
       "   video_download_count  video_comment_count  text_length  \\\n",
       "0                   1.0                  0.0          134   \n",
       "1                  70.0                 29.0           97   \n",
       "2                  39.0                  9.0           76   \n",
       "3                  13.0                  4.0           58   \n",
       "4                   9.0                  1.0           57   \n",
       "\n",
       "   verified_status_verified  author_ban_status_banned  \\\n",
       "0                     False                     False   \n",
       "1                     False                      True   \n",
       "2                     False                     False   \n",
       "3                     False                     False   \n",
       "4                     False                     False   \n",
       "\n",
       "   author_ban_status_under review  ...  friend learned  friend read  \\\n",
       "0                           False  ...               0            0   \n",
       "1                           False  ...               0            1   \n",
       "2                            True  ...               0            1   \n",
       "3                           False  ...               0            0   \n",
       "4                           False  ...               0            0   \n",
       "\n",
       "   internet forum  learned media  media claim  news claim  point view  \\\n",
       "0               0              0            0           0           0   \n",
       "1               0              0            0           0           0   \n",
       "2               0              0            0           0           0   \n",
       "3               0              0            0           0           0   \n",
       "4               0              0            0           0           0   \n",
       "\n",
       "   read media  social media  willing wager  \n",
       "0           0             0              0  \n",
       "1           0             0              0  \n",
       "2           0             0              0  \n",
       "3           0             0              0  \n",
       "4           0             0              0  \n",
       "\n",
       "[5 rows x 25 columns]"
      ]
     },
     "execution_count": 25,
     "metadata": {},
     "output_type": "execute_result"
    }
   ],
   "source": [
    "# Concatenate `X_train` and `count_df` to form the final dataframe for training data (`X_train_final`)\n",
    "# Note: Using `.reset_index(drop=True)` to reset the index in X_train after dropping `video_transcription_text`,\n",
    "# so that the indices align with those in `X_train` and `count_df`\n",
    "X_train_final = pd.concat([X_train.drop(columns=['video_transcription_text']).reset_index(drop=True), count_df], axis=1)\n",
    "\n",
    "# Display first few rows\n",
    "X_train_final.head()"
   ]
  },
  {
   "cell_type": "markdown",
   "metadata": {
    "id": "T3zgU6MZpyM7"
   },
   "source": [
    "Get n-gram counts for the validation data. Notice that the vectorizer is not being refit to the validation data. It's only transforming it. In other words, the transcriptions of the videos in the validation data are only being checked against the n-grams found in the training data."
   ]
  },
  {
   "cell_type": "code",
   "execution_count": 26,
   "metadata": {
    "colab": {
     "base_uri": "https://localhost:8080/"
    },
    "id": "dagpxNJup9fJ",
    "outputId": "73e12707-e35a-4343-aec5-4ae04c16735e"
   },
   "outputs": [
    {
     "data": {
      "text/plain": [
       "array([[0, 0, 0, ..., 1, 0, 0],\n",
       "       [0, 0, 0, ..., 0, 0, 0],\n",
       "       [0, 0, 0, ..., 1, 0, 0],\n",
       "       ...,\n",
       "       [0, 0, 0, ..., 0, 0, 0],\n",
       "       [0, 1, 0, ..., 0, 0, 0],\n",
       "       [0, 0, 0, ..., 0, 0, 0]])"
      ]
     },
     "execution_count": 26,
     "metadata": {},
     "output_type": "execute_result"
    }
   ],
   "source": [
    "# Extract numerical features from `video_transcription_text` in the testing set\n",
    "validation_count_data = count_vec.transform(X_val['video_transcription_text']).toarray()\n",
    "validation_count_data"
   ]
  },
  {
   "cell_type": "code",
   "execution_count": 27,
   "metadata": {
    "colab": {
     "base_uri": "https://localhost:8080/",
     "height": 268
    },
    "id": "N4cC6gu5qPj2",
    "outputId": "46181cc9-32a2-4410-c4c5-c4ca5f2179c9"
   },
   "outputs": [
    {
     "data": {
      "text/html": [
       "<div>\n",
       "<style scoped>\n",
       "    .dataframe tbody tr th:only-of-type {\n",
       "        vertical-align: middle;\n",
       "    }\n",
       "\n",
       "    .dataframe tbody tr th {\n",
       "        vertical-align: top;\n",
       "    }\n",
       "\n",
       "    .dataframe thead th {\n",
       "        text-align: right;\n",
       "    }\n",
       "</style>\n",
       "<table border=\"1\" class=\"dataframe\">\n",
       "  <thead>\n",
       "    <tr style=\"text-align: right;\">\n",
       "      <th></th>\n",
       "      <th>colleague discovered</th>\n",
       "      <th>colleague learned</th>\n",
       "      <th>colleague read</th>\n",
       "      <th>discovered news</th>\n",
       "      <th>discussion board</th>\n",
       "      <th>friend learned</th>\n",
       "      <th>friend read</th>\n",
       "      <th>internet forum</th>\n",
       "      <th>learned media</th>\n",
       "      <th>media claim</th>\n",
       "      <th>news claim</th>\n",
       "      <th>point view</th>\n",
       "      <th>read media</th>\n",
       "      <th>social media</th>\n",
       "      <th>willing wager</th>\n",
       "    </tr>\n",
       "  </thead>\n",
       "  <tbody>\n",
       "    <tr>\n",
       "      <th>0</th>\n",
       "      <td>0</td>\n",
       "      <td>0</td>\n",
       "      <td>0</td>\n",
       "      <td>0</td>\n",
       "      <td>0</td>\n",
       "      <td>0</td>\n",
       "      <td>0</td>\n",
       "      <td>0</td>\n",
       "      <td>0</td>\n",
       "      <td>0</td>\n",
       "      <td>0</td>\n",
       "      <td>0</td>\n",
       "      <td>1</td>\n",
       "      <td>0</td>\n",
       "      <td>0</td>\n",
       "    </tr>\n",
       "    <tr>\n",
       "      <th>1</th>\n",
       "      <td>0</td>\n",
       "      <td>0</td>\n",
       "      <td>0</td>\n",
       "      <td>0</td>\n",
       "      <td>0</td>\n",
       "      <td>0</td>\n",
       "      <td>0</td>\n",
       "      <td>0</td>\n",
       "      <td>0</td>\n",
       "      <td>0</td>\n",
       "      <td>0</td>\n",
       "      <td>0</td>\n",
       "      <td>0</td>\n",
       "      <td>0</td>\n",
       "      <td>0</td>\n",
       "    </tr>\n",
       "    <tr>\n",
       "      <th>2</th>\n",
       "      <td>0</td>\n",
       "      <td>0</td>\n",
       "      <td>0</td>\n",
       "      <td>0</td>\n",
       "      <td>0</td>\n",
       "      <td>0</td>\n",
       "      <td>1</td>\n",
       "      <td>0</td>\n",
       "      <td>0</td>\n",
       "      <td>0</td>\n",
       "      <td>0</td>\n",
       "      <td>0</td>\n",
       "      <td>1</td>\n",
       "      <td>0</td>\n",
       "      <td>0</td>\n",
       "    </tr>\n",
       "    <tr>\n",
       "      <th>3</th>\n",
       "      <td>0</td>\n",
       "      <td>0</td>\n",
       "      <td>0</td>\n",
       "      <td>0</td>\n",
       "      <td>0</td>\n",
       "      <td>0</td>\n",
       "      <td>0</td>\n",
       "      <td>0</td>\n",
       "      <td>0</td>\n",
       "      <td>0</td>\n",
       "      <td>0</td>\n",
       "      <td>0</td>\n",
       "      <td>0</td>\n",
       "      <td>0</td>\n",
       "      <td>0</td>\n",
       "    </tr>\n",
       "    <tr>\n",
       "      <th>4</th>\n",
       "      <td>0</td>\n",
       "      <td>0</td>\n",
       "      <td>1</td>\n",
       "      <td>0</td>\n",
       "      <td>0</td>\n",
       "      <td>0</td>\n",
       "      <td>0</td>\n",
       "      <td>0</td>\n",
       "      <td>0</td>\n",
       "      <td>0</td>\n",
       "      <td>0</td>\n",
       "      <td>0</td>\n",
       "      <td>1</td>\n",
       "      <td>0</td>\n",
       "      <td>0</td>\n",
       "    </tr>\n",
       "  </tbody>\n",
       "</table>\n",
       "</div>"
      ],
      "text/plain": [
       "   colleague discovered  colleague learned  colleague read  discovered news  \\\n",
       "0                     0                  0               0                0   \n",
       "1                     0                  0               0                0   \n",
       "2                     0                  0               0                0   \n",
       "3                     0                  0               0                0   \n",
       "4                     0                  0               1                0   \n",
       "\n",
       "   discussion board  friend learned  friend read  internet forum  \\\n",
       "0                 0               0            0               0   \n",
       "1                 0               0            0               0   \n",
       "2                 0               0            1               0   \n",
       "3                 0               0            0               0   \n",
       "4                 0               0            0               0   \n",
       "\n",
       "   learned media  media claim  news claim  point view  read media  \\\n",
       "0              0            0           0           0           1   \n",
       "1              0            0           0           0           0   \n",
       "2              0            0           0           0           1   \n",
       "3              0            0           0           0           0   \n",
       "4              0            0           0           0           1   \n",
       "\n",
       "   social media  willing wager  \n",
       "0             0              0  \n",
       "1             0              0  \n",
       "2             0              0  \n",
       "3             0              0  \n",
       "4             0              0  "
      ]
     },
     "execution_count": 27,
     "metadata": {},
     "output_type": "execute_result"
    }
   ],
   "source": [
    "# Place the numerical representation of `video_transcription_text` from validation set into a dataframe\n",
    "validation_count_df = pd.DataFrame(data=validation_count_data, columns=count_vec.get_feature_names_out())\n",
    "validation_count_df.head()"
   ]
  },
  {
   "cell_type": "code",
   "execution_count": 28,
   "metadata": {
    "colab": {
     "base_uri": "https://localhost:8080/",
     "height": 317
    },
    "id": "S3tk8bMKqsQu",
    "outputId": "fa1c159e-ad39-440c-e06b-62184d4e3fd1"
   },
   "outputs": [
    {
     "data": {
      "text/html": [
       "<div>\n",
       "<style scoped>\n",
       "    .dataframe tbody tr th:only-of-type {\n",
       "        vertical-align: middle;\n",
       "    }\n",
       "\n",
       "    .dataframe tbody tr th {\n",
       "        vertical-align: top;\n",
       "    }\n",
       "\n",
       "    .dataframe thead th {\n",
       "        text-align: right;\n",
       "    }\n",
       "</style>\n",
       "<table border=\"1\" class=\"dataframe\">\n",
       "  <thead>\n",
       "    <tr style=\"text-align: right;\">\n",
       "      <th></th>\n",
       "      <th>video_duration_sec</th>\n",
       "      <th>video_view_count</th>\n",
       "      <th>video_like_count</th>\n",
       "      <th>video_share_count</th>\n",
       "      <th>video_download_count</th>\n",
       "      <th>video_comment_count</th>\n",
       "      <th>text_length</th>\n",
       "      <th>verified_status_verified</th>\n",
       "      <th>author_ban_status_banned</th>\n",
       "      <th>author_ban_status_under review</th>\n",
       "      <th>...</th>\n",
       "      <th>friend learned</th>\n",
       "      <th>friend read</th>\n",
       "      <th>internet forum</th>\n",
       "      <th>learned media</th>\n",
       "      <th>media claim</th>\n",
       "      <th>news claim</th>\n",
       "      <th>point view</th>\n",
       "      <th>read media</th>\n",
       "      <th>social media</th>\n",
       "      <th>willing wager</th>\n",
       "    </tr>\n",
       "  </thead>\n",
       "  <tbody>\n",
       "    <tr>\n",
       "      <th>0</th>\n",
       "      <td>11</td>\n",
       "      <td>578891.0</td>\n",
       "      <td>379596.0</td>\n",
       "      <td>14612.0</td>\n",
       "      <td>6591.0</td>\n",
       "      <td>44.0</td>\n",
       "      <td>72</td>\n",
       "      <td>False</td>\n",
       "      <td>False</td>\n",
       "      <td>True</td>\n",
       "      <td>...</td>\n",
       "      <td>0</td>\n",
       "      <td>0</td>\n",
       "      <td>0</td>\n",
       "      <td>0</td>\n",
       "      <td>0</td>\n",
       "      <td>0</td>\n",
       "      <td>0</td>\n",
       "      <td>1</td>\n",
       "      <td>0</td>\n",
       "      <td>0</td>\n",
       "    </tr>\n",
       "    <tr>\n",
       "      <th>1</th>\n",
       "      <td>24</td>\n",
       "      <td>6255.0</td>\n",
       "      <td>1709.0</td>\n",
       "      <td>311.0</td>\n",
       "      <td>13.0</td>\n",
       "      <td>1.0</td>\n",
       "      <td>96</td>\n",
       "      <td>False</td>\n",
       "      <td>False</td>\n",
       "      <td>False</td>\n",
       "      <td>...</td>\n",
       "      <td>0</td>\n",
       "      <td>0</td>\n",
       "      <td>0</td>\n",
       "      <td>0</td>\n",
       "      <td>0</td>\n",
       "      <td>0</td>\n",
       "      <td>0</td>\n",
       "      <td>0</td>\n",
       "      <td>0</td>\n",
       "      <td>0</td>\n",
       "    </tr>\n",
       "    <tr>\n",
       "      <th>2</th>\n",
       "      <td>35</td>\n",
       "      <td>410356.0</td>\n",
       "      <td>249714.0</td>\n",
       "      <td>26235.0</td>\n",
       "      <td>2060.0</td>\n",
       "      <td>1252.0</td>\n",
       "      <td>88</td>\n",
       "      <td>False</td>\n",
       "      <td>False</td>\n",
       "      <td>False</td>\n",
       "      <td>...</td>\n",
       "      <td>0</td>\n",
       "      <td>1</td>\n",
       "      <td>0</td>\n",
       "      <td>0</td>\n",
       "      <td>0</td>\n",
       "      <td>0</td>\n",
       "      <td>0</td>\n",
       "      <td>1</td>\n",
       "      <td>0</td>\n",
       "      <td>0</td>\n",
       "    </tr>\n",
       "    <tr>\n",
       "      <th>3</th>\n",
       "      <td>58</td>\n",
       "      <td>406911.0</td>\n",
       "      <td>25986.0</td>\n",
       "      <td>1230.0</td>\n",
       "      <td>564.0</td>\n",
       "      <td>248.0</td>\n",
       "      <td>83</td>\n",
       "      <td>False</td>\n",
       "      <td>False</td>\n",
       "      <td>False</td>\n",
       "      <td>...</td>\n",
       "      <td>0</td>\n",
       "      <td>0</td>\n",
       "      <td>0</td>\n",
       "      <td>0</td>\n",
       "      <td>0</td>\n",
       "      <td>0</td>\n",
       "      <td>0</td>\n",
       "      <td>0</td>\n",
       "      <td>0</td>\n",
       "      <td>0</td>\n",
       "    </tr>\n",
       "    <tr>\n",
       "      <th>4</th>\n",
       "      <td>47</td>\n",
       "      <td>972573.0</td>\n",
       "      <td>138167.0</td>\n",
       "      <td>25320.0</td>\n",
       "      <td>3331.0</td>\n",
       "      <td>968.0</td>\n",
       "      <td>104</td>\n",
       "      <td>False</td>\n",
       "      <td>False</td>\n",
       "      <td>True</td>\n",
       "      <td>...</td>\n",
       "      <td>0</td>\n",
       "      <td>0</td>\n",
       "      <td>0</td>\n",
       "      <td>0</td>\n",
       "      <td>0</td>\n",
       "      <td>0</td>\n",
       "      <td>0</td>\n",
       "      <td>1</td>\n",
       "      <td>0</td>\n",
       "      <td>0</td>\n",
       "    </tr>\n",
       "  </tbody>\n",
       "</table>\n",
       "<p>5 rows × 25 columns</p>\n",
       "</div>"
      ],
      "text/plain": [
       "   video_duration_sec  video_view_count  video_like_count  video_share_count  \\\n",
       "0                  11          578891.0          379596.0            14612.0   \n",
       "1                  24            6255.0            1709.0              311.0   \n",
       "2                  35          410356.0          249714.0            26235.0   \n",
       "3                  58          406911.0           25986.0             1230.0   \n",
       "4                  47          972573.0          138167.0            25320.0   \n",
       "\n",
       "   video_download_count  video_comment_count  text_length  \\\n",
       "0                6591.0                 44.0           72   \n",
       "1                  13.0                  1.0           96   \n",
       "2                2060.0               1252.0           88   \n",
       "3                 564.0                248.0           83   \n",
       "4                3331.0                968.0          104   \n",
       "\n",
       "   verified_status_verified  author_ban_status_banned  \\\n",
       "0                     False                     False   \n",
       "1                     False                     False   \n",
       "2                     False                     False   \n",
       "3                     False                     False   \n",
       "4                     False                     False   \n",
       "\n",
       "   author_ban_status_under review  ...  friend learned  friend read  \\\n",
       "0                            True  ...               0            0   \n",
       "1                           False  ...               0            0   \n",
       "2                           False  ...               0            1   \n",
       "3                           False  ...               0            0   \n",
       "4                            True  ...               0            0   \n",
       "\n",
       "   internet forum  learned media  media claim  news claim  point view  \\\n",
       "0               0              0            0           0           0   \n",
       "1               0              0            0           0           0   \n",
       "2               0              0            0           0           0   \n",
       "3               0              0            0           0           0   \n",
       "4               0              0            0           0           0   \n",
       "\n",
       "   read media  social media  willing wager  \n",
       "0           1             0              0  \n",
       "1           0             0              0  \n",
       "2           1             0              0  \n",
       "3           0             0              0  \n",
       "4           1             0              0  \n",
       "\n",
       "[5 rows x 25 columns]"
      ]
     },
     "execution_count": 28,
     "metadata": {},
     "output_type": "execute_result"
    }
   ],
   "source": [
    "# Concatenate `X_val` and `validation_count_df` to form the final dataframe for training data (`X_val_final`)\n",
    "# Note: Using `.reset_index(drop=True)` to reset the index in X_val after dropping `video_transcription_text`,\n",
    "# so that the indices align with those in `validation_count_df`\n",
    "X_val_final = pd.concat([X_val.drop(columns=['video_transcription_text']).reset_index(drop=True), validation_count_df], axis=1)\n",
    "\n",
    "# Display first few rows\n",
    "X_val_final.head()"
   ]
  },
  {
   "cell_type": "markdown",
   "metadata": {
    "id": "iMw8Gd_iqmv_"
   },
   "source": [
    "Repeat the process to get n-gram counts for the test data. Again, don't refit the vectorizer to the test data. Just transform it."
   ]
  },
  {
   "cell_type": "code",
   "execution_count": 29,
   "metadata": {
    "colab": {
     "base_uri": "https://localhost:8080/",
     "height": 317
    },
    "id": "PPDlmol1qrMS",
    "outputId": "eea139f1-658a-4639-a7a4-b0cdb8a873e6"
   },
   "outputs": [
    {
     "data": {
      "text/html": [
       "<div>\n",
       "<style scoped>\n",
       "    .dataframe tbody tr th:only-of-type {\n",
       "        vertical-align: middle;\n",
       "    }\n",
       "\n",
       "    .dataframe tbody tr th {\n",
       "        vertical-align: top;\n",
       "    }\n",
       "\n",
       "    .dataframe thead th {\n",
       "        text-align: right;\n",
       "    }\n",
       "</style>\n",
       "<table border=\"1\" class=\"dataframe\">\n",
       "  <thead>\n",
       "    <tr style=\"text-align: right;\">\n",
       "      <th></th>\n",
       "      <th>video_duration_sec</th>\n",
       "      <th>video_view_count</th>\n",
       "      <th>video_like_count</th>\n",
       "      <th>video_share_count</th>\n",
       "      <th>video_download_count</th>\n",
       "      <th>video_comment_count</th>\n",
       "      <th>text_length</th>\n",
       "      <th>verified_status_verified</th>\n",
       "      <th>author_ban_status_banned</th>\n",
       "      <th>author_ban_status_under review</th>\n",
       "      <th>...</th>\n",
       "      <th>friend learned</th>\n",
       "      <th>friend read</th>\n",
       "      <th>internet forum</th>\n",
       "      <th>learned media</th>\n",
       "      <th>media claim</th>\n",
       "      <th>news claim</th>\n",
       "      <th>point view</th>\n",
       "      <th>read media</th>\n",
       "      <th>social media</th>\n",
       "      <th>willing wager</th>\n",
       "    </tr>\n",
       "  </thead>\n",
       "  <tbody>\n",
       "    <tr>\n",
       "      <th>0</th>\n",
       "      <td>54</td>\n",
       "      <td>692084.0</td>\n",
       "      <td>135956.0</td>\n",
       "      <td>16591.0</td>\n",
       "      <td>622.0</td>\n",
       "      <td>312.0</td>\n",
       "      <td>107</td>\n",
       "      <td>False</td>\n",
       "      <td>False</td>\n",
       "      <td>False</td>\n",
       "      <td>...</td>\n",
       "      <td>0</td>\n",
       "      <td>0</td>\n",
       "      <td>0</td>\n",
       "      <td>1</td>\n",
       "      <td>1</td>\n",
       "      <td>0</td>\n",
       "      <td>0</td>\n",
       "      <td>0</td>\n",
       "      <td>0</td>\n",
       "      <td>0</td>\n",
       "    </tr>\n",
       "    <tr>\n",
       "      <th>1</th>\n",
       "      <td>37</td>\n",
       "      <td>5164.0</td>\n",
       "      <td>1858.0</td>\n",
       "      <td>36.0</td>\n",
       "      <td>17.0</td>\n",
       "      <td>1.0</td>\n",
       "      <td>69</td>\n",
       "      <td>True</td>\n",
       "      <td>False</td>\n",
       "      <td>True</td>\n",
       "      <td>...</td>\n",
       "      <td>0</td>\n",
       "      <td>0</td>\n",
       "      <td>0</td>\n",
       "      <td>0</td>\n",
       "      <td>0</td>\n",
       "      <td>0</td>\n",
       "      <td>0</td>\n",
       "      <td>0</td>\n",
       "      <td>0</td>\n",
       "      <td>0</td>\n",
       "    </tr>\n",
       "    <tr>\n",
       "      <th>2</th>\n",
       "      <td>39</td>\n",
       "      <td>801951.0</td>\n",
       "      <td>344163.0</td>\n",
       "      <td>57608.0</td>\n",
       "      <td>8578.0</td>\n",
       "      <td>2942.0</td>\n",
       "      <td>90</td>\n",
       "      <td>False</td>\n",
       "      <td>False</td>\n",
       "      <td>False</td>\n",
       "      <td>...</td>\n",
       "      <td>0</td>\n",
       "      <td>0</td>\n",
       "      <td>0</td>\n",
       "      <td>0</td>\n",
       "      <td>0</td>\n",
       "      <td>0</td>\n",
       "      <td>0</td>\n",
       "      <td>0</td>\n",
       "      <td>0</td>\n",
       "      <td>0</td>\n",
       "    </tr>\n",
       "    <tr>\n",
       "      <th>3</th>\n",
       "      <td>44</td>\n",
       "      <td>6429.0</td>\n",
       "      <td>2314.0</td>\n",
       "      <td>847.0</td>\n",
       "      <td>17.0</td>\n",
       "      <td>5.0</td>\n",
       "      <td>76</td>\n",
       "      <td>False</td>\n",
       "      <td>False</td>\n",
       "      <td>False</td>\n",
       "      <td>...</td>\n",
       "      <td>0</td>\n",
       "      <td>0</td>\n",
       "      <td>0</td>\n",
       "      <td>0</td>\n",
       "      <td>0</td>\n",
       "      <td>0</td>\n",
       "      <td>0</td>\n",
       "      <td>0</td>\n",
       "      <td>0</td>\n",
       "      <td>0</td>\n",
       "    </tr>\n",
       "    <tr>\n",
       "      <th>4</th>\n",
       "      <td>26</td>\n",
       "      <td>555780.0</td>\n",
       "      <td>106863.0</td>\n",
       "      <td>15348.0</td>\n",
       "      <td>252.0</td>\n",
       "      <td>91.0</td>\n",
       "      <td>72</td>\n",
       "      <td>False</td>\n",
       "      <td>False</td>\n",
       "      <td>False</td>\n",
       "      <td>...</td>\n",
       "      <td>0</td>\n",
       "      <td>0</td>\n",
       "      <td>0</td>\n",
       "      <td>0</td>\n",
       "      <td>0</td>\n",
       "      <td>0</td>\n",
       "      <td>0</td>\n",
       "      <td>0</td>\n",
       "      <td>0</td>\n",
       "      <td>0</td>\n",
       "    </tr>\n",
       "  </tbody>\n",
       "</table>\n",
       "<p>5 rows × 25 columns</p>\n",
       "</div>"
      ],
      "text/plain": [
       "   video_duration_sec  video_view_count  video_like_count  video_share_count  \\\n",
       "0                  54          692084.0          135956.0            16591.0   \n",
       "1                  37            5164.0            1858.0               36.0   \n",
       "2                  39          801951.0          344163.0            57608.0   \n",
       "3                  44            6429.0            2314.0              847.0   \n",
       "4                  26          555780.0          106863.0            15348.0   \n",
       "\n",
       "   video_download_count  video_comment_count  text_length  \\\n",
       "0                 622.0                312.0          107   \n",
       "1                  17.0                  1.0           69   \n",
       "2                8578.0               2942.0           90   \n",
       "3                  17.0                  5.0           76   \n",
       "4                 252.0                 91.0           72   \n",
       "\n",
       "   verified_status_verified  author_ban_status_banned  \\\n",
       "0                     False                     False   \n",
       "1                      True                     False   \n",
       "2                     False                     False   \n",
       "3                     False                     False   \n",
       "4                     False                     False   \n",
       "\n",
       "   author_ban_status_under review  ...  friend learned  friend read  \\\n",
       "0                           False  ...               0            0   \n",
       "1                            True  ...               0            0   \n",
       "2                           False  ...               0            0   \n",
       "3                           False  ...               0            0   \n",
       "4                           False  ...               0            0   \n",
       "\n",
       "   internet forum  learned media  media claim  news claim  point view  \\\n",
       "0               0              1            1           0           0   \n",
       "1               0              0            0           0           0   \n",
       "2               0              0            0           0           0   \n",
       "3               0              0            0           0           0   \n",
       "4               0              0            0           0           0   \n",
       "\n",
       "   read media  social media  willing wager  \n",
       "0           0             0              0  \n",
       "1           0             0              0  \n",
       "2           0             0              0  \n",
       "3           0             0              0  \n",
       "4           0             0              0  \n",
       "\n",
       "[5 rows x 25 columns]"
      ]
     },
     "execution_count": 29,
     "metadata": {},
     "output_type": "execute_result"
    }
   ],
   "source": [
    "# Extract numerical features from `video_transcription_text` in the testing set\n",
    "test_count_data = count_vec.transform(X_test['video_transcription_text']).toarray()\n",
    "\n",
    "# Place the numerical representation of `video_transcription_text` from test set into a dataframe\n",
    "test_count_df = pd.DataFrame(data=test_count_data, columns=count_vec.get_feature_names_out())\n",
    "\n",
    "# Concatenate `X_val` and `validation_count_df` to form the final dataframe for training data (`X_val_final`)\n",
    "X_test_final = pd.concat([X_test.drop(columns=['video_transcription_text']\n",
    "                                      ).reset_index(drop=True), test_count_df], axis=1)\n",
    "X_test_final.head()"
   ]
  },
  {
   "cell_type": "markdown",
   "metadata": {
    "id": "o16nL7LWQGfY"
   },
   "source": [
    "### **Task 6. Build models**"
   ]
  },
  {
   "cell_type": "markdown",
   "metadata": {
    "id": "3_es-Jh1atUz"
   },
   "source": [
    "### **Build a random forest model**\n"
   ]
  },
  {
   "cell_type": "markdown",
   "metadata": {
    "id": "ty8ieBkDBH4g"
   },
   "source": [
    "Fit a random forest model to the training set. Use cross-validation to tune the hyperparameters and select the model that performs best on recall."
   ]
  },
  {
   "cell_type": "code",
   "execution_count": 30,
   "metadata": {
    "id": "vAb45ShmuwLC"
   },
   "outputs": [],
   "source": [
    "# Instantiate the random forest classifier\n",
    "rf = RandomForestClassifier(random_state=0)\n",
    "\n",
    "# Create a dictionary of hyperparameters to tune\n",
    "cv_params = {'max_depth': [5, 7, None],\n",
    "             'max_features': [0.3, 0.6],\n",
    "            #  'max_features': 'auto'\n",
    "             'max_samples': [0.7],\n",
    "             'min_samples_leaf': [1,2],\n",
    "             'min_samples_split': [2,3],\n",
    "             'n_estimators': [75,100,200],\n",
    "             }\n",
    "\n",
<<<<<<< HEAD
    "# Define a dictionary of scoring metrics to capture\n",
    "scoring = {'accuracy', 'precision', 'recall', 'f1'}\n",
=======
    "# # Define a dictionary of scoring metrics to capture\n",
    "# scoring = {'accuracy', 'precision', 'recall', 'f1'}\n",
    "\n",
    "# Define a list of scoring metrics to capture\n",
    "scoring = ['accuracy', 'precision', 'recall', 'f1']\n",
>>>>>>> 314d03ca20cb2757903f289bfe89931b75ffe410
    "\n",
    "# Instantiate the GridSearchCV object\n",
    "rf_cv = GridSearchCV(rf, cv_params, scoring=scoring, cv=5, refit='recall')"
   ]
  },
  {
   "cell_type": "markdown",
   "metadata": {},
   "source": [
    "Note this cell might take several minutes to run."
   ]
  },
  {
   "cell_type": "code",
   "execution_count": 31,
   "metadata": {
    "colab": {
     "base_uri": "https://localhost:8080/",
     "height": 152
    },
    "id": "42reuVJmu8Tt",
    "outputId": "3394a80f-e031-4887-8584-47932a46eccb"
   },
   "outputs": [
    {
     "name": "stdout",
     "output_type": "stream",
     "text": [
<<<<<<< HEAD
      "CPU times: user 5min 37s, sys: 584 ms, total: 5min 37s\n",
      "Wall time: 5min 37s\n"
=======
      "CPU times: user 5min 9s, sys: 305 ms, total: 5min 9s\n",
      "Wall time: 5min 13s\n"
>>>>>>> 314d03ca20cb2757903f289bfe89931b75ffe410
     ]
    },
    {
     "data": {
      "text/html": [
<<<<<<< HEAD
       "<style>#sk-container-id-2 {color: black;background-color: white;}#sk-container-id-2 pre{padding: 0;}#sk-container-id-2 div.sk-toggleable {background-color: white;}#sk-container-id-2 label.sk-toggleable__label {cursor: pointer;display: block;width: 100%;margin-bottom: 0;padding: 0.3em;box-sizing: border-box;text-align: center;}#sk-container-id-2 label.sk-toggleable__label-arrow:before {content: \"▸\";float: left;margin-right: 0.25em;color: #696969;}#sk-container-id-2 label.sk-toggleable__label-arrow:hover:before {color: black;}#sk-container-id-2 div.sk-estimator:hover label.sk-toggleable__label-arrow:before {color: black;}#sk-container-id-2 div.sk-toggleable__content {max-height: 0;max-width: 0;overflow: hidden;text-align: left;background-color: #f0f8ff;}#sk-container-id-2 div.sk-toggleable__content pre {margin: 0.2em;color: black;border-radius: 0.25em;background-color: #f0f8ff;}#sk-container-id-2 input.sk-toggleable__control:checked~div.sk-toggleable__content {max-height: 200px;max-width: 100%;overflow: auto;}#sk-container-id-2 input.sk-toggleable__control:checked~label.sk-toggleable__label-arrow:before {content: \"▾\";}#sk-container-id-2 div.sk-estimator input.sk-toggleable__control:checked~label.sk-toggleable__label {background-color: #d4ebff;}#sk-container-id-2 div.sk-label input.sk-toggleable__control:checked~label.sk-toggleable__label {background-color: #d4ebff;}#sk-container-id-2 input.sk-hidden--visually {border: 0;clip: rect(1px 1px 1px 1px);clip: rect(1px, 1px, 1px, 1px);height: 1px;margin: -1px;overflow: hidden;padding: 0;position: absolute;width: 1px;}#sk-container-id-2 div.sk-estimator {font-family: monospace;background-color: #f0f8ff;border: 1px dotted black;border-radius: 0.25em;box-sizing: border-box;margin-bottom: 0.5em;}#sk-container-id-2 div.sk-estimator:hover {background-color: #d4ebff;}#sk-container-id-2 div.sk-parallel-item::after {content: \"\";width: 100%;border-bottom: 1px solid gray;flex-grow: 1;}#sk-container-id-2 div.sk-label:hover label.sk-toggleable__label {background-color: #d4ebff;}#sk-container-id-2 div.sk-serial::before {content: \"\";position: absolute;border-left: 1px solid gray;box-sizing: border-box;top: 0;bottom: 0;left: 50%;z-index: 0;}#sk-container-id-2 div.sk-serial {display: flex;flex-direction: column;align-items: center;background-color: white;padding-right: 0.2em;padding-left: 0.2em;position: relative;}#sk-container-id-2 div.sk-item {position: relative;z-index: 1;}#sk-container-id-2 div.sk-parallel {display: flex;align-items: stretch;justify-content: center;background-color: white;position: relative;}#sk-container-id-2 div.sk-item::before, #sk-container-id-2 div.sk-parallel-item::before {content: \"\";position: absolute;border-left: 1px solid gray;box-sizing: border-box;top: 0;bottom: 0;left: 50%;z-index: -1;}#sk-container-id-2 div.sk-parallel-item {display: flex;flex-direction: column;z-index: 1;position: relative;background-color: white;}#sk-container-id-2 div.sk-parallel-item:first-child::after {align-self: flex-end;width: 50%;}#sk-container-id-2 div.sk-parallel-item:last-child::after {align-self: flex-start;width: 50%;}#sk-container-id-2 div.sk-parallel-item:only-child::after {width: 0;}#sk-container-id-2 div.sk-dashed-wrapped {border: 1px dashed gray;margin: 0 0.4em 0.5em 0.4em;box-sizing: border-box;padding-bottom: 0.4em;background-color: white;}#sk-container-id-2 div.sk-label label {font-family: monospace;font-weight: bold;display: inline-block;line-height: 1.2em;}#sk-container-id-2 div.sk-label-container {text-align: center;}#sk-container-id-2 div.sk-container {/* jupyter's `normalize.less` sets `[hidden] { display: none; }` but bootstrap.min.css set `[hidden] { display: none !important; }` so we also need the `!important` here to be able to override the default hidden behavior on the sphinx rendered scikit-learn.org. See: https://github.com/scikit-learn/scikit-learn/issues/21755 */display: inline-block !important;position: relative;}#sk-container-id-2 div.sk-text-repr-fallback {display: none;}</style><div id=\"sk-container-id-2\" class=\"sk-top-container\"><div class=\"sk-text-repr-fallback\"><pre>GridSearchCV(cv=5, estimator=RandomForestClassifier(random_state=0),\n",
=======
       "<style>#sk-container-id-2 {\n",
       "  /* Definition of color scheme common for light and dark mode */\n",
       "  --sklearn-color-text: black;\n",
       "  --sklearn-color-line: gray;\n",
       "  /* Definition of color scheme for unfitted estimators */\n",
       "  --sklearn-color-unfitted-level-0: #fff5e6;\n",
       "  --sklearn-color-unfitted-level-1: #f6e4d2;\n",
       "  --sklearn-color-unfitted-level-2: #ffe0b3;\n",
       "  --sklearn-color-unfitted-level-3: chocolate;\n",
       "  /* Definition of color scheme for fitted estimators */\n",
       "  --sklearn-color-fitted-level-0: #f0f8ff;\n",
       "  --sklearn-color-fitted-level-1: #d4ebff;\n",
       "  --sklearn-color-fitted-level-2: #b3dbfd;\n",
       "  --sklearn-color-fitted-level-3: cornflowerblue;\n",
       "\n",
       "  /* Specific color for light theme */\n",
       "  --sklearn-color-text-on-default-background: var(--sg-text-color, var(--theme-code-foreground, var(--jp-content-font-color1, black)));\n",
       "  --sklearn-color-background: var(--sg-background-color, var(--theme-background, var(--jp-layout-color0, white)));\n",
       "  --sklearn-color-border-box: var(--sg-text-color, var(--theme-code-foreground, var(--jp-content-font-color1, black)));\n",
       "  --sklearn-color-icon: #696969;\n",
       "\n",
       "  @media (prefers-color-scheme: dark) {\n",
       "    /* Redefinition of color scheme for dark theme */\n",
       "    --sklearn-color-text-on-default-background: var(--sg-text-color, var(--theme-code-foreground, var(--jp-content-font-color1, white)));\n",
       "    --sklearn-color-background: var(--sg-background-color, var(--theme-background, var(--jp-layout-color0, #111)));\n",
       "    --sklearn-color-border-box: var(--sg-text-color, var(--theme-code-foreground, var(--jp-content-font-color1, white)));\n",
       "    --sklearn-color-icon: #878787;\n",
       "  }\n",
       "}\n",
       "\n",
       "#sk-container-id-2 {\n",
       "  color: var(--sklearn-color-text);\n",
       "}\n",
       "\n",
       "#sk-container-id-2 pre {\n",
       "  padding: 0;\n",
       "}\n",
       "\n",
       "#sk-container-id-2 input.sk-hidden--visually {\n",
       "  border: 0;\n",
       "  clip: rect(1px 1px 1px 1px);\n",
       "  clip: rect(1px, 1px, 1px, 1px);\n",
       "  height: 1px;\n",
       "  margin: -1px;\n",
       "  overflow: hidden;\n",
       "  padding: 0;\n",
       "  position: absolute;\n",
       "  width: 1px;\n",
       "}\n",
       "\n",
       "#sk-container-id-2 div.sk-dashed-wrapped {\n",
       "  border: 1px dashed var(--sklearn-color-line);\n",
       "  margin: 0 0.4em 0.5em 0.4em;\n",
       "  box-sizing: border-box;\n",
       "  padding-bottom: 0.4em;\n",
       "  background-color: var(--sklearn-color-background);\n",
       "}\n",
       "\n",
       "#sk-container-id-2 div.sk-container {\n",
       "  /* jupyter's `normalize.less` sets `[hidden] { display: none; }`\n",
       "     but bootstrap.min.css set `[hidden] { display: none !important; }`\n",
       "     so we also need the `!important` here to be able to override the\n",
       "     default hidden behavior on the sphinx rendered scikit-learn.org.\n",
       "     See: https://github.com/scikit-learn/scikit-learn/issues/21755 */\n",
       "  display: inline-block !important;\n",
       "  position: relative;\n",
       "}\n",
       "\n",
       "#sk-container-id-2 div.sk-text-repr-fallback {\n",
       "  display: none;\n",
       "}\n",
       "\n",
       "div.sk-parallel-item,\n",
       "div.sk-serial,\n",
       "div.sk-item {\n",
       "  /* draw centered vertical line to link estimators */\n",
       "  background-image: linear-gradient(var(--sklearn-color-text-on-default-background), var(--sklearn-color-text-on-default-background));\n",
       "  background-size: 2px 100%;\n",
       "  background-repeat: no-repeat;\n",
       "  background-position: center center;\n",
       "}\n",
       "\n",
       "/* Parallel-specific style estimator block */\n",
       "\n",
       "#sk-container-id-2 div.sk-parallel-item::after {\n",
       "  content: \"\";\n",
       "  width: 100%;\n",
       "  border-bottom: 2px solid var(--sklearn-color-text-on-default-background);\n",
       "  flex-grow: 1;\n",
       "}\n",
       "\n",
       "#sk-container-id-2 div.sk-parallel {\n",
       "  display: flex;\n",
       "  align-items: stretch;\n",
       "  justify-content: center;\n",
       "  background-color: var(--sklearn-color-background);\n",
       "  position: relative;\n",
       "}\n",
       "\n",
       "#sk-container-id-2 div.sk-parallel-item {\n",
       "  display: flex;\n",
       "  flex-direction: column;\n",
       "}\n",
       "\n",
       "#sk-container-id-2 div.sk-parallel-item:first-child::after {\n",
       "  align-self: flex-end;\n",
       "  width: 50%;\n",
       "}\n",
       "\n",
       "#sk-container-id-2 div.sk-parallel-item:last-child::after {\n",
       "  align-self: flex-start;\n",
       "  width: 50%;\n",
       "}\n",
       "\n",
       "#sk-container-id-2 div.sk-parallel-item:only-child::after {\n",
       "  width: 0;\n",
       "}\n",
       "\n",
       "/* Serial-specific style estimator block */\n",
       "\n",
       "#sk-container-id-2 div.sk-serial {\n",
       "  display: flex;\n",
       "  flex-direction: column;\n",
       "  align-items: center;\n",
       "  background-color: var(--sklearn-color-background);\n",
       "  padding-right: 1em;\n",
       "  padding-left: 1em;\n",
       "}\n",
       "\n",
       "\n",
       "/* Toggleable style: style used for estimator/Pipeline/ColumnTransformer box that is\n",
       "clickable and can be expanded/collapsed.\n",
       "- Pipeline and ColumnTransformer use this feature and define the default style\n",
       "- Estimators will overwrite some part of the style using the `sk-estimator` class\n",
       "*/\n",
       "\n",
       "/* Pipeline and ColumnTransformer style (default) */\n",
       "\n",
       "#sk-container-id-2 div.sk-toggleable {\n",
       "  /* Default theme specific background. It is overwritten whether we have a\n",
       "  specific estimator or a Pipeline/ColumnTransformer */\n",
       "  background-color: var(--sklearn-color-background);\n",
       "}\n",
       "\n",
       "/* Toggleable label */\n",
       "#sk-container-id-2 label.sk-toggleable__label {\n",
       "  cursor: pointer;\n",
       "  display: block;\n",
       "  width: 100%;\n",
       "  margin-bottom: 0;\n",
       "  padding: 0.5em;\n",
       "  box-sizing: border-box;\n",
       "  text-align: center;\n",
       "}\n",
       "\n",
       "#sk-container-id-2 label.sk-toggleable__label-arrow:before {\n",
       "  /* Arrow on the left of the label */\n",
       "  content: \"▸\";\n",
       "  float: left;\n",
       "  margin-right: 0.25em;\n",
       "  color: var(--sklearn-color-icon);\n",
       "}\n",
       "\n",
       "#sk-container-id-2 label.sk-toggleable__label-arrow:hover:before {\n",
       "  color: var(--sklearn-color-text);\n",
       "}\n",
       "\n",
       "/* Toggleable content - dropdown */\n",
       "\n",
       "#sk-container-id-2 div.sk-toggleable__content {\n",
       "  max-height: 0;\n",
       "  max-width: 0;\n",
       "  overflow: hidden;\n",
       "  text-align: left;\n",
       "  /* unfitted */\n",
       "  background-color: var(--sklearn-color-unfitted-level-0);\n",
       "}\n",
       "\n",
       "#sk-container-id-2 div.sk-toggleable__content.fitted {\n",
       "  /* fitted */\n",
       "  background-color: var(--sklearn-color-fitted-level-0);\n",
       "}\n",
       "\n",
       "#sk-container-id-2 div.sk-toggleable__content pre {\n",
       "  margin: 0.2em;\n",
       "  border-radius: 0.25em;\n",
       "  color: var(--sklearn-color-text);\n",
       "  /* unfitted */\n",
       "  background-color: var(--sklearn-color-unfitted-level-0);\n",
       "}\n",
       "\n",
       "#sk-container-id-2 div.sk-toggleable__content.fitted pre {\n",
       "  /* unfitted */\n",
       "  background-color: var(--sklearn-color-fitted-level-0);\n",
       "}\n",
       "\n",
       "#sk-container-id-2 input.sk-toggleable__control:checked~div.sk-toggleable__content {\n",
       "  /* Expand drop-down */\n",
       "  max-height: 200px;\n",
       "  max-width: 100%;\n",
       "  overflow: auto;\n",
       "}\n",
       "\n",
       "#sk-container-id-2 input.sk-toggleable__control:checked~label.sk-toggleable__label-arrow:before {\n",
       "  content: \"▾\";\n",
       "}\n",
       "\n",
       "/* Pipeline/ColumnTransformer-specific style */\n",
       "\n",
       "#sk-container-id-2 div.sk-label input.sk-toggleable__control:checked~label.sk-toggleable__label {\n",
       "  color: var(--sklearn-color-text);\n",
       "  background-color: var(--sklearn-color-unfitted-level-2);\n",
       "}\n",
       "\n",
       "#sk-container-id-2 div.sk-label.fitted input.sk-toggleable__control:checked~label.sk-toggleable__label {\n",
       "  background-color: var(--sklearn-color-fitted-level-2);\n",
       "}\n",
       "\n",
       "/* Estimator-specific style */\n",
       "\n",
       "/* Colorize estimator box */\n",
       "#sk-container-id-2 div.sk-estimator input.sk-toggleable__control:checked~label.sk-toggleable__label {\n",
       "  /* unfitted */\n",
       "  background-color: var(--sklearn-color-unfitted-level-2);\n",
       "}\n",
       "\n",
       "#sk-container-id-2 div.sk-estimator.fitted input.sk-toggleable__control:checked~label.sk-toggleable__label {\n",
       "  /* fitted */\n",
       "  background-color: var(--sklearn-color-fitted-level-2);\n",
       "}\n",
       "\n",
       "#sk-container-id-2 div.sk-label label.sk-toggleable__label,\n",
       "#sk-container-id-2 div.sk-label label {\n",
       "  /* The background is the default theme color */\n",
       "  color: var(--sklearn-color-text-on-default-background);\n",
       "}\n",
       "\n",
       "/* On hover, darken the color of the background */\n",
       "#sk-container-id-2 div.sk-label:hover label.sk-toggleable__label {\n",
       "  color: var(--sklearn-color-text);\n",
       "  background-color: var(--sklearn-color-unfitted-level-2);\n",
       "}\n",
       "\n",
       "/* Label box, darken color on hover, fitted */\n",
       "#sk-container-id-2 div.sk-label.fitted:hover label.sk-toggleable__label.fitted {\n",
       "  color: var(--sklearn-color-text);\n",
       "  background-color: var(--sklearn-color-fitted-level-2);\n",
       "}\n",
       "\n",
       "/* Estimator label */\n",
       "\n",
       "#sk-container-id-2 div.sk-label label {\n",
       "  font-family: monospace;\n",
       "  font-weight: bold;\n",
       "  display: inline-block;\n",
       "  line-height: 1.2em;\n",
       "}\n",
       "\n",
       "#sk-container-id-2 div.sk-label-container {\n",
       "  text-align: center;\n",
       "}\n",
       "\n",
       "/* Estimator-specific */\n",
       "#sk-container-id-2 div.sk-estimator {\n",
       "  font-family: monospace;\n",
       "  border: 1px dotted var(--sklearn-color-border-box);\n",
       "  border-radius: 0.25em;\n",
       "  box-sizing: border-box;\n",
       "  margin-bottom: 0.5em;\n",
       "  /* unfitted */\n",
       "  background-color: var(--sklearn-color-unfitted-level-0);\n",
       "}\n",
       "\n",
       "#sk-container-id-2 div.sk-estimator.fitted {\n",
       "  /* fitted */\n",
       "  background-color: var(--sklearn-color-fitted-level-0);\n",
       "}\n",
       "\n",
       "/* on hover */\n",
       "#sk-container-id-2 div.sk-estimator:hover {\n",
       "  /* unfitted */\n",
       "  background-color: var(--sklearn-color-unfitted-level-2);\n",
       "}\n",
       "\n",
       "#sk-container-id-2 div.sk-estimator.fitted:hover {\n",
       "  /* fitted */\n",
       "  background-color: var(--sklearn-color-fitted-level-2);\n",
       "}\n",
       "\n",
       "/* Specification for estimator info (e.g. \"i\" and \"?\") */\n",
       "\n",
       "/* Common style for \"i\" and \"?\" */\n",
       "\n",
       ".sk-estimator-doc-link,\n",
       "a:link.sk-estimator-doc-link,\n",
       "a:visited.sk-estimator-doc-link {\n",
       "  float: right;\n",
       "  font-size: smaller;\n",
       "  line-height: 1em;\n",
       "  font-family: monospace;\n",
       "  background-color: var(--sklearn-color-background);\n",
       "  border-radius: 1em;\n",
       "  height: 1em;\n",
       "  width: 1em;\n",
       "  text-decoration: none !important;\n",
       "  margin-left: 1ex;\n",
       "  /* unfitted */\n",
       "  border: var(--sklearn-color-unfitted-level-1) 1pt solid;\n",
       "  color: var(--sklearn-color-unfitted-level-1);\n",
       "}\n",
       "\n",
       ".sk-estimator-doc-link.fitted,\n",
       "a:link.sk-estimator-doc-link.fitted,\n",
       "a:visited.sk-estimator-doc-link.fitted {\n",
       "  /* fitted */\n",
       "  border: var(--sklearn-color-fitted-level-1) 1pt solid;\n",
       "  color: var(--sklearn-color-fitted-level-1);\n",
       "}\n",
       "\n",
       "/* On hover */\n",
       "div.sk-estimator:hover .sk-estimator-doc-link:hover,\n",
       ".sk-estimator-doc-link:hover,\n",
       "div.sk-label-container:hover .sk-estimator-doc-link:hover,\n",
       ".sk-estimator-doc-link:hover {\n",
       "  /* unfitted */\n",
       "  background-color: var(--sklearn-color-unfitted-level-3);\n",
       "  color: var(--sklearn-color-background);\n",
       "  text-decoration: none;\n",
       "}\n",
       "\n",
       "div.sk-estimator.fitted:hover .sk-estimator-doc-link.fitted:hover,\n",
       ".sk-estimator-doc-link.fitted:hover,\n",
       "div.sk-label-container:hover .sk-estimator-doc-link.fitted:hover,\n",
       ".sk-estimator-doc-link.fitted:hover {\n",
       "  /* fitted */\n",
       "  background-color: var(--sklearn-color-fitted-level-3);\n",
       "  color: var(--sklearn-color-background);\n",
       "  text-decoration: none;\n",
       "}\n",
       "\n",
       "/* Span, style for the box shown on hovering the info icon */\n",
       ".sk-estimator-doc-link span {\n",
       "  display: none;\n",
       "  z-index: 9999;\n",
       "  position: relative;\n",
       "  font-weight: normal;\n",
       "  right: .2ex;\n",
       "  padding: .5ex;\n",
       "  margin: .5ex;\n",
       "  width: min-content;\n",
       "  min-width: 20ex;\n",
       "  max-width: 50ex;\n",
       "  color: var(--sklearn-color-text);\n",
       "  box-shadow: 2pt 2pt 4pt #999;\n",
       "  /* unfitted */\n",
       "  background: var(--sklearn-color-unfitted-level-0);\n",
       "  border: .5pt solid var(--sklearn-color-unfitted-level-3);\n",
       "}\n",
       "\n",
       ".sk-estimator-doc-link.fitted span {\n",
       "  /* fitted */\n",
       "  background: var(--sklearn-color-fitted-level-0);\n",
       "  border: var(--sklearn-color-fitted-level-3);\n",
       "}\n",
       "\n",
       ".sk-estimator-doc-link:hover span {\n",
       "  display: block;\n",
       "}\n",
       "\n",
       "/* \"?\"-specific style due to the `<a>` HTML tag */\n",
       "\n",
       "#sk-container-id-2 a.estimator_doc_link {\n",
       "  float: right;\n",
       "  font-size: 1rem;\n",
       "  line-height: 1em;\n",
       "  font-family: monospace;\n",
       "  background-color: var(--sklearn-color-background);\n",
       "  border-radius: 1rem;\n",
       "  height: 1rem;\n",
       "  width: 1rem;\n",
       "  text-decoration: none;\n",
       "  /* unfitted */\n",
       "  color: var(--sklearn-color-unfitted-level-1);\n",
       "  border: var(--sklearn-color-unfitted-level-1) 1pt solid;\n",
       "}\n",
       "\n",
       "#sk-container-id-2 a.estimator_doc_link.fitted {\n",
       "  /* fitted */\n",
       "  border: var(--sklearn-color-fitted-level-1) 1pt solid;\n",
       "  color: var(--sklearn-color-fitted-level-1);\n",
       "}\n",
       "\n",
       "/* On hover */\n",
       "#sk-container-id-2 a.estimator_doc_link:hover {\n",
       "  /* unfitted */\n",
       "  background-color: var(--sklearn-color-unfitted-level-3);\n",
       "  color: var(--sklearn-color-background);\n",
       "  text-decoration: none;\n",
       "}\n",
       "\n",
       "#sk-container-id-2 a.estimator_doc_link.fitted:hover {\n",
       "  /* fitted */\n",
       "  background-color: var(--sklearn-color-fitted-level-3);\n",
       "}\n",
       "</style><div id=\"sk-container-id-2\" class=\"sk-top-container\"><div class=\"sk-text-repr-fallback\"><pre>GridSearchCV(cv=5, estimator=RandomForestClassifier(random_state=0),\n",
>>>>>>> 314d03ca20cb2757903f289bfe89931b75ffe410
       "             param_grid={&#x27;max_depth&#x27;: [5, 7, None], &#x27;max_features&#x27;: [0.3, 0.6],\n",
       "                         &#x27;max_samples&#x27;: [0.7], &#x27;min_samples_leaf&#x27;: [1, 2],\n",
       "                         &#x27;min_samples_split&#x27;: [2, 3],\n",
       "                         &#x27;n_estimators&#x27;: [75, 100, 200]},\n",
<<<<<<< HEAD
       "             refit=&#x27;recall&#x27;, scoring={&#x27;recall&#x27;, &#x27;accuracy&#x27;, &#x27;precision&#x27;, &#x27;f1&#x27;})</pre><b>In a Jupyter environment, please rerun this cell to show the HTML representation or trust the notebook. <br />On GitHub, the HTML representation is unable to render, please try loading this page with nbviewer.org.</b></div><div class=\"sk-container\" hidden><div class=\"sk-item sk-dashed-wrapped\"><div class=\"sk-label-container\"><div class=\"sk-label sk-toggleable\"><input class=\"sk-toggleable__control sk-hidden--visually\" id=\"sk-estimator-id-2\" type=\"checkbox\" ><label for=\"sk-estimator-id-2\" class=\"sk-toggleable__label sk-toggleable__label-arrow\">GridSearchCV</label><div class=\"sk-toggleable__content\"><pre>GridSearchCV(cv=5, estimator=RandomForestClassifier(random_state=0),\n",
=======
       "             refit=&#x27;recall&#x27;, scoring=[&#x27;accuracy&#x27;, &#x27;precision&#x27;, &#x27;recall&#x27;, &#x27;f1&#x27;])</pre><b>In a Jupyter environment, please rerun this cell to show the HTML representation or trust the notebook. <br />On GitHub, the HTML representation is unable to render, please try loading this page with nbviewer.org.</b></div><div class=\"sk-container\" hidden><div class=\"sk-item sk-dashed-wrapped\"><div class=\"sk-label-container\"><div class=\"sk-label fitted sk-toggleable\"><input class=\"sk-toggleable__control sk-hidden--visually\" id=\"sk-estimator-id-2\" type=\"checkbox\" ><label for=\"sk-estimator-id-2\" class=\"sk-toggleable__label fitted sk-toggleable__label-arrow fitted\">&nbsp;&nbsp;GridSearchCV<a class=\"sk-estimator-doc-link fitted\" rel=\"noreferrer\" target=\"_blank\" href=\"https://scikit-learn.org/1.5/modules/generated/sklearn.model_selection.GridSearchCV.html\">?<span>Documentation for GridSearchCV</span></a><span class=\"sk-estimator-doc-link fitted\">i<span>Fitted</span></span></label><div class=\"sk-toggleable__content fitted\"><pre>GridSearchCV(cv=5, estimator=RandomForestClassifier(random_state=0),\n",
>>>>>>> 314d03ca20cb2757903f289bfe89931b75ffe410
       "             param_grid={&#x27;max_depth&#x27;: [5, 7, None], &#x27;max_features&#x27;: [0.3, 0.6],\n",
       "                         &#x27;max_samples&#x27;: [0.7], &#x27;min_samples_leaf&#x27;: [1, 2],\n",
       "                         &#x27;min_samples_split&#x27;: [2, 3],\n",
       "                         &#x27;n_estimators&#x27;: [75, 100, 200]},\n",
<<<<<<< HEAD
       "             refit=&#x27;recall&#x27;, scoring={&#x27;recall&#x27;, &#x27;accuracy&#x27;, &#x27;precision&#x27;, &#x27;f1&#x27;})</pre></div></div></div><div class=\"sk-parallel\"><div class=\"sk-parallel-item\"><div class=\"sk-item\"><div class=\"sk-label-container\"><div class=\"sk-label sk-toggleable\"><input class=\"sk-toggleable__control sk-hidden--visually\" id=\"sk-estimator-id-3\" type=\"checkbox\" ><label for=\"sk-estimator-id-3\" class=\"sk-toggleable__label sk-toggleable__label-arrow\">estimator: RandomForestClassifier</label><div class=\"sk-toggleable__content\"><pre>RandomForestClassifier(random_state=0)</pre></div></div></div><div class=\"sk-serial\"><div class=\"sk-item\"><div class=\"sk-estimator sk-toggleable\"><input class=\"sk-toggleable__control sk-hidden--visually\" id=\"sk-estimator-id-4\" type=\"checkbox\" ><label for=\"sk-estimator-id-4\" class=\"sk-toggleable__label sk-toggleable__label-arrow\">RandomForestClassifier</label><div class=\"sk-toggleable__content\"><pre>RandomForestClassifier(random_state=0)</pre></div></div></div></div></div></div></div></div></div></div>"
=======
       "             refit=&#x27;recall&#x27;, scoring=[&#x27;accuracy&#x27;, &#x27;precision&#x27;, &#x27;recall&#x27;, &#x27;f1&#x27;])</pre></div> </div></div><div class=\"sk-parallel\"><div class=\"sk-parallel-item\"><div class=\"sk-item\"><div class=\"sk-label-container\"><div class=\"sk-label fitted sk-toggleable\"><input class=\"sk-toggleable__control sk-hidden--visually\" id=\"sk-estimator-id-3\" type=\"checkbox\" ><label for=\"sk-estimator-id-3\" class=\"sk-toggleable__label fitted sk-toggleable__label-arrow fitted\">best_estimator_: RandomForestClassifier</label><div class=\"sk-toggleable__content fitted\"><pre>RandomForestClassifier(max_features=0.6, max_samples=0.7, n_estimators=200,\n",
       "                       random_state=0)</pre></div> </div></div><div class=\"sk-serial\"><div class=\"sk-item\"><div class=\"sk-estimator fitted sk-toggleable\"><input class=\"sk-toggleable__control sk-hidden--visually\" id=\"sk-estimator-id-4\" type=\"checkbox\" ><label for=\"sk-estimator-id-4\" class=\"sk-toggleable__label fitted sk-toggleable__label-arrow fitted\">&nbsp;RandomForestClassifier<a class=\"sk-estimator-doc-link fitted\" rel=\"noreferrer\" target=\"_blank\" href=\"https://scikit-learn.org/1.5/modules/generated/sklearn.ensemble.RandomForestClassifier.html\">?<span>Documentation for RandomForestClassifier</span></a></label><div class=\"sk-toggleable__content fitted\"><pre>RandomForestClassifier(max_features=0.6, max_samples=0.7, n_estimators=200,\n",
       "                       random_state=0)</pre></div> </div></div></div></div></div></div></div></div></div>"
>>>>>>> 314d03ca20cb2757903f289bfe89931b75ffe410
      ],
      "text/plain": [
       "GridSearchCV(cv=5, estimator=RandomForestClassifier(random_state=0),\n",
       "             param_grid={'max_depth': [5, 7, None], 'max_features': [0.3, 0.6],\n",
       "                         'max_samples': [0.7], 'min_samples_leaf': [1, 2],\n",
       "                         'min_samples_split': [2, 3],\n",
       "                         'n_estimators': [75, 100, 200]},\n",
<<<<<<< HEAD
       "             refit='recall', scoring={'recall', 'accuracy', 'precision', 'f1'})"
=======
       "             refit='recall', scoring=['accuracy', 'precision', 'recall', 'f1'])"
>>>>>>> 314d03ca20cb2757903f289bfe89931b75ffe410
      ]
     },
     "execution_count": 31,
     "metadata": {},
     "output_type": "execute_result"
    }
   ],
   "source": [
    "%%time\n",
    "rf_cv.fit(X_train_final, y_train)"
   ]
  },
  {
   "cell_type": "code",
   "execution_count": 32,
   "metadata": {
    "colab": {
     "base_uri": "https://localhost:8080/"
    },
    "id": "qr5k5yvwvGPC",
    "outputId": "d015e2ea-8648-44c0-e94e-52e069b2910d"
   },
   "outputs": [
    {
     "data": {
      "text/plain": [
<<<<<<< HEAD
       "0.9948228253467271"
=======
       "np.float64(0.9948228253467271)"
>>>>>>> 314d03ca20cb2757903f289bfe89931b75ffe410
      ]
     },
     "execution_count": 32,
     "metadata": {},
     "output_type": "execute_result"
    }
   ],
   "source": [
    "# Examine best recall score\n",
    "rf_cv.best_score_"
   ]
  },
  {
   "cell_type": "code",
   "execution_count": 33,
   "metadata": {
    "colab": {
     "base_uri": "https://localhost:8080/"
    },
    "id": "qieU0tPFvLUA",
    "outputId": "f09592e3-c2dd-4f77-cfc6-ab0bcfe028f9"
   },
   "outputs": [
    {
     "data": {
      "text/plain": [
       "{'max_depth': None,\n",
       " 'max_features': 0.6,\n",
       " 'max_samples': 0.7,\n",
       " 'min_samples_leaf': 1,\n",
       " 'min_samples_split': 2,\n",
       " 'n_estimators': 200}"
      ]
     },
     "execution_count": 33,
     "metadata": {},
     "output_type": "execute_result"
    }
   ],
   "source": [
    "# Examine best parameters\n",
    "rf_cv.best_params_"
   ]
  },
  {
   "cell_type": "markdown",
   "metadata": {
    "id": "GtG--gHPOE6m"
   },
   "source": [
    "**Exemplar response:**\n",
    "\n",
    "This model performs exceptionally well, with an average recall score of 0.995 across the five cross-validation folds. After checking the precision score to be sure the model is not classifying all samples as claims, it is clear that this model is making almost perfect classifications."
   ]
  },
  {
   "cell_type": "markdown",
   "metadata": {
    "id": "2Mf2TEWBS-hP"
   },
   "source": [
    "### **Build an XGBoost model**"
   ]
  },
  {
   "cell_type": "code",
   "execution_count": 34,
   "metadata": {
    "id": "E0vq2MncTLUM"
   },
   "outputs": [],
   "source": [
    "# Instantiate the XGBoost classifier\n",
    "xgb = XGBClassifier(objective='binary:logistic', random_state=0)\n",
    "\n",
    "# Create a dictionary of hyperparameters to tune\n",
    "cv_params = {'max_depth': [4,8,12],\n",
    "             'min_child_weight': [3, 5],\n",
    "             'learning_rate': [0.01, 0.1],\n",
    "             'n_estimators': [300, 500]\n",
    "             }\n",
    "\n",
<<<<<<< HEAD
    "# Define a dictionary of scoring metrics to capture\n",
    "scoring = {'accuracy', 'precision', 'recall', 'f1'}\n",
=======
    "# # Define a dictionary of scoring metrics to capture\n",
    "# scoring = {'accuracy', 'precision', 'recall', 'f1'}\n",
    "# Define a list of scoring metrics to capture\n",
    "scoring = ['accuracy', 'precision', 'recall', 'f1']\n",
>>>>>>> 314d03ca20cb2757903f289bfe89931b75ffe410
    "\n",
    "# Instantiate the GridSearchCV object\n",
    "xgb_cv = GridSearchCV(xgb, cv_params, scoring=scoring, cv=5, refit='recall')"
   ]
  },
  {
   "cell_type": "markdown",
   "metadata": {},
   "source": [
    "Note this cell might take several minutes to run."
   ]
  },
  {
   "cell_type": "code",
   "execution_count": 35,
   "metadata": {
    "id": "aiSKpucwToRW"
   },
   "outputs": [
    {
     "name": "stdout",
     "output_type": "stream",
     "text": [
<<<<<<< HEAD
      "CPU times: user 9min 49s, sys: 2.06 s, total: 9min 51s\n",
      "Wall time: 5min 1s\n"
=======
      "CPU times: user 1min 30s, sys: 2.16 s, total: 1min 32s\n",
      "Wall time: 50.5 s\n"
>>>>>>> 314d03ca20cb2757903f289bfe89931b75ffe410
     ]
    },
    {
     "data": {
      "text/html": [
<<<<<<< HEAD
       "<style>#sk-container-id-3 {color: black;background-color: white;}#sk-container-id-3 pre{padding: 0;}#sk-container-id-3 div.sk-toggleable {background-color: white;}#sk-container-id-3 label.sk-toggleable__label {cursor: pointer;display: block;width: 100%;margin-bottom: 0;padding: 0.3em;box-sizing: border-box;text-align: center;}#sk-container-id-3 label.sk-toggleable__label-arrow:before {content: \"▸\";float: left;margin-right: 0.25em;color: #696969;}#sk-container-id-3 label.sk-toggleable__label-arrow:hover:before {color: black;}#sk-container-id-3 div.sk-estimator:hover label.sk-toggleable__label-arrow:before {color: black;}#sk-container-id-3 div.sk-toggleable__content {max-height: 0;max-width: 0;overflow: hidden;text-align: left;background-color: #f0f8ff;}#sk-container-id-3 div.sk-toggleable__content pre {margin: 0.2em;color: black;border-radius: 0.25em;background-color: #f0f8ff;}#sk-container-id-3 input.sk-toggleable__control:checked~div.sk-toggleable__content {max-height: 200px;max-width: 100%;overflow: auto;}#sk-container-id-3 input.sk-toggleable__control:checked~label.sk-toggleable__label-arrow:before {content: \"▾\";}#sk-container-id-3 div.sk-estimator input.sk-toggleable__control:checked~label.sk-toggleable__label {background-color: #d4ebff;}#sk-container-id-3 div.sk-label input.sk-toggleable__control:checked~label.sk-toggleable__label {background-color: #d4ebff;}#sk-container-id-3 input.sk-hidden--visually {border: 0;clip: rect(1px 1px 1px 1px);clip: rect(1px, 1px, 1px, 1px);height: 1px;margin: -1px;overflow: hidden;padding: 0;position: absolute;width: 1px;}#sk-container-id-3 div.sk-estimator {font-family: monospace;background-color: #f0f8ff;border: 1px dotted black;border-radius: 0.25em;box-sizing: border-box;margin-bottom: 0.5em;}#sk-container-id-3 div.sk-estimator:hover {background-color: #d4ebff;}#sk-container-id-3 div.sk-parallel-item::after {content: \"\";width: 100%;border-bottom: 1px solid gray;flex-grow: 1;}#sk-container-id-3 div.sk-label:hover label.sk-toggleable__label {background-color: #d4ebff;}#sk-container-id-3 div.sk-serial::before {content: \"\";position: absolute;border-left: 1px solid gray;box-sizing: border-box;top: 0;bottom: 0;left: 50%;z-index: 0;}#sk-container-id-3 div.sk-serial {display: flex;flex-direction: column;align-items: center;background-color: white;padding-right: 0.2em;padding-left: 0.2em;position: relative;}#sk-container-id-3 div.sk-item {position: relative;z-index: 1;}#sk-container-id-3 div.sk-parallel {display: flex;align-items: stretch;justify-content: center;background-color: white;position: relative;}#sk-container-id-3 div.sk-item::before, #sk-container-id-3 div.sk-parallel-item::before {content: \"\";position: absolute;border-left: 1px solid gray;box-sizing: border-box;top: 0;bottom: 0;left: 50%;z-index: -1;}#sk-container-id-3 div.sk-parallel-item {display: flex;flex-direction: column;z-index: 1;position: relative;background-color: white;}#sk-container-id-3 div.sk-parallel-item:first-child::after {align-self: flex-end;width: 50%;}#sk-container-id-3 div.sk-parallel-item:last-child::after {align-self: flex-start;width: 50%;}#sk-container-id-3 div.sk-parallel-item:only-child::after {width: 0;}#sk-container-id-3 div.sk-dashed-wrapped {border: 1px dashed gray;margin: 0 0.4em 0.5em 0.4em;box-sizing: border-box;padding-bottom: 0.4em;background-color: white;}#sk-container-id-3 div.sk-label label {font-family: monospace;font-weight: bold;display: inline-block;line-height: 1.2em;}#sk-container-id-3 div.sk-label-container {text-align: center;}#sk-container-id-3 div.sk-container {/* jupyter's `normalize.less` sets `[hidden] { display: none; }` but bootstrap.min.css set `[hidden] { display: none !important; }` so we also need the `!important` here to be able to override the default hidden behavior on the sphinx rendered scikit-learn.org. See: https://github.com/scikit-learn/scikit-learn/issues/21755 */display: inline-block !important;position: relative;}#sk-container-id-3 div.sk-text-repr-fallback {display: none;}</style><div id=\"sk-container-id-3\" class=\"sk-top-container\"><div class=\"sk-text-repr-fallback\"><pre>GridSearchCV(cv=5,\n",
       "             estimator=XGBClassifier(base_score=None, booster=None,\n",
       "                                     callbacks=None, colsample_bylevel=None,\n",
       "                                     colsample_bynode=None,\n",
       "                                     colsample_bytree=None,\n",
       "                                     early_stopping_rounds=None,\n",
       "                                     enable_categorical=False, eval_metric=None,\n",
       "                                     feature_types=None, gamma=None,\n",
       "                                     gpu_id=None, grow_policy=None,\n",
       "                                     importance_type=None,\n",
=======
       "<style>#sk-container-id-3 {\n",
       "  /* Definition of color scheme common for light and dark mode */\n",
       "  --sklearn-color-text: black;\n",
       "  --sklearn-color-line: gray;\n",
       "  /* Definition of color scheme for unfitted estimators */\n",
       "  --sklearn-color-unfitted-level-0: #fff5e6;\n",
       "  --sklearn-color-unfitted-level-1: #f6e4d2;\n",
       "  --sklearn-color-unfitted-level-2: #ffe0b3;\n",
       "  --sklearn-color-unfitted-level-3: chocolate;\n",
       "  /* Definition of color scheme for fitted estimators */\n",
       "  --sklearn-color-fitted-level-0: #f0f8ff;\n",
       "  --sklearn-color-fitted-level-1: #d4ebff;\n",
       "  --sklearn-color-fitted-level-2: #b3dbfd;\n",
       "  --sklearn-color-fitted-level-3: cornflowerblue;\n",
       "\n",
       "  /* Specific color for light theme */\n",
       "  --sklearn-color-text-on-default-background: var(--sg-text-color, var(--theme-code-foreground, var(--jp-content-font-color1, black)));\n",
       "  --sklearn-color-background: var(--sg-background-color, var(--theme-background, var(--jp-layout-color0, white)));\n",
       "  --sklearn-color-border-box: var(--sg-text-color, var(--theme-code-foreground, var(--jp-content-font-color1, black)));\n",
       "  --sklearn-color-icon: #696969;\n",
       "\n",
       "  @media (prefers-color-scheme: dark) {\n",
       "    /* Redefinition of color scheme for dark theme */\n",
       "    --sklearn-color-text-on-default-background: var(--sg-text-color, var(--theme-code-foreground, var(--jp-content-font-color1, white)));\n",
       "    --sklearn-color-background: var(--sg-background-color, var(--theme-background, var(--jp-layout-color0, #111)));\n",
       "    --sklearn-color-border-box: var(--sg-text-color, var(--theme-code-foreground, var(--jp-content-font-color1, white)));\n",
       "    --sklearn-color-icon: #878787;\n",
       "  }\n",
       "}\n",
       "\n",
       "#sk-container-id-3 {\n",
       "  color: var(--sklearn-color-text);\n",
       "}\n",
       "\n",
       "#sk-container-id-3 pre {\n",
       "  padding: 0;\n",
       "}\n",
       "\n",
       "#sk-container-id-3 input.sk-hidden--visually {\n",
       "  border: 0;\n",
       "  clip: rect(1px 1px 1px 1px);\n",
       "  clip: rect(1px, 1px, 1px, 1px);\n",
       "  height: 1px;\n",
       "  margin: -1px;\n",
       "  overflow: hidden;\n",
       "  padding: 0;\n",
       "  position: absolute;\n",
       "  width: 1px;\n",
       "}\n",
       "\n",
       "#sk-container-id-3 div.sk-dashed-wrapped {\n",
       "  border: 1px dashed var(--sklearn-color-line);\n",
       "  margin: 0 0.4em 0.5em 0.4em;\n",
       "  box-sizing: border-box;\n",
       "  padding-bottom: 0.4em;\n",
       "  background-color: var(--sklearn-color-background);\n",
       "}\n",
       "\n",
       "#sk-container-id-3 div.sk-container {\n",
       "  /* jupyter's `normalize.less` sets `[hidden] { display: none; }`\n",
       "     but bootstrap.min.css set `[hidden] { display: none !important; }`\n",
       "     so we also need the `!important` here to be able to override the\n",
       "     default hidden behavior on the sphinx rendered scikit-learn.org.\n",
       "     See: https://github.com/scikit-learn/scikit-learn/issues/21755 */\n",
       "  display: inline-block !important;\n",
       "  position: relative;\n",
       "}\n",
       "\n",
       "#sk-container-id-3 div.sk-text-repr-fallback {\n",
       "  display: none;\n",
       "}\n",
       "\n",
       "div.sk-parallel-item,\n",
       "div.sk-serial,\n",
       "div.sk-item {\n",
       "  /* draw centered vertical line to link estimators */\n",
       "  background-image: linear-gradient(var(--sklearn-color-text-on-default-background), var(--sklearn-color-text-on-default-background));\n",
       "  background-size: 2px 100%;\n",
       "  background-repeat: no-repeat;\n",
       "  background-position: center center;\n",
       "}\n",
       "\n",
       "/* Parallel-specific style estimator block */\n",
       "\n",
       "#sk-container-id-3 div.sk-parallel-item::after {\n",
       "  content: \"\";\n",
       "  width: 100%;\n",
       "  border-bottom: 2px solid var(--sklearn-color-text-on-default-background);\n",
       "  flex-grow: 1;\n",
       "}\n",
       "\n",
       "#sk-container-id-3 div.sk-parallel {\n",
       "  display: flex;\n",
       "  align-items: stretch;\n",
       "  justify-content: center;\n",
       "  background-color: var(--sklearn-color-background);\n",
       "  position: relative;\n",
       "}\n",
       "\n",
       "#sk-container-id-3 div.sk-parallel-item {\n",
       "  display: flex;\n",
       "  flex-direction: column;\n",
       "}\n",
       "\n",
       "#sk-container-id-3 div.sk-parallel-item:first-child::after {\n",
       "  align-self: flex-end;\n",
       "  width: 50%;\n",
       "}\n",
       "\n",
       "#sk-container-id-3 div.sk-parallel-item:last-child::after {\n",
       "  align-self: flex-start;\n",
       "  width: 50%;\n",
       "}\n",
       "\n",
       "#sk-container-id-3 div.sk-parallel-item:only-child::after {\n",
       "  width: 0;\n",
       "}\n",
       "\n",
       "/* Serial-specific style estimator block */\n",
       "\n",
       "#sk-container-id-3 div.sk-serial {\n",
       "  display: flex;\n",
       "  flex-direction: column;\n",
       "  align-items: center;\n",
       "  background-color: var(--sklearn-color-background);\n",
       "  padding-right: 1em;\n",
       "  padding-left: 1em;\n",
       "}\n",
       "\n",
       "\n",
       "/* Toggleable style: style used for estimator/Pipeline/ColumnTransformer box that is\n",
       "clickable and can be expanded/collapsed.\n",
       "- Pipeline and ColumnTransformer use this feature and define the default style\n",
       "- Estimators will overwrite some part of the style using the `sk-estimator` class\n",
       "*/\n",
       "\n",
       "/* Pipeline and ColumnTransformer style (default) */\n",
       "\n",
       "#sk-container-id-3 div.sk-toggleable {\n",
       "  /* Default theme specific background. It is overwritten whether we have a\n",
       "  specific estimator or a Pipeline/ColumnTransformer */\n",
       "  background-color: var(--sklearn-color-background);\n",
       "}\n",
       "\n",
       "/* Toggleable label */\n",
       "#sk-container-id-3 label.sk-toggleable__label {\n",
       "  cursor: pointer;\n",
       "  display: block;\n",
       "  width: 100%;\n",
       "  margin-bottom: 0;\n",
       "  padding: 0.5em;\n",
       "  box-sizing: border-box;\n",
       "  text-align: center;\n",
       "}\n",
       "\n",
       "#sk-container-id-3 label.sk-toggleable__label-arrow:before {\n",
       "  /* Arrow on the left of the label */\n",
       "  content: \"▸\";\n",
       "  float: left;\n",
       "  margin-right: 0.25em;\n",
       "  color: var(--sklearn-color-icon);\n",
       "}\n",
       "\n",
       "#sk-container-id-3 label.sk-toggleable__label-arrow:hover:before {\n",
       "  color: var(--sklearn-color-text);\n",
       "}\n",
       "\n",
       "/* Toggleable content - dropdown */\n",
       "\n",
       "#sk-container-id-3 div.sk-toggleable__content {\n",
       "  max-height: 0;\n",
       "  max-width: 0;\n",
       "  overflow: hidden;\n",
       "  text-align: left;\n",
       "  /* unfitted */\n",
       "  background-color: var(--sklearn-color-unfitted-level-0);\n",
       "}\n",
       "\n",
       "#sk-container-id-3 div.sk-toggleable__content.fitted {\n",
       "  /* fitted */\n",
       "  background-color: var(--sklearn-color-fitted-level-0);\n",
       "}\n",
       "\n",
       "#sk-container-id-3 div.sk-toggleable__content pre {\n",
       "  margin: 0.2em;\n",
       "  border-radius: 0.25em;\n",
       "  color: var(--sklearn-color-text);\n",
       "  /* unfitted */\n",
       "  background-color: var(--sklearn-color-unfitted-level-0);\n",
       "}\n",
       "\n",
       "#sk-container-id-3 div.sk-toggleable__content.fitted pre {\n",
       "  /* unfitted */\n",
       "  background-color: var(--sklearn-color-fitted-level-0);\n",
       "}\n",
       "\n",
       "#sk-container-id-3 input.sk-toggleable__control:checked~div.sk-toggleable__content {\n",
       "  /* Expand drop-down */\n",
       "  max-height: 200px;\n",
       "  max-width: 100%;\n",
       "  overflow: auto;\n",
       "}\n",
       "\n",
       "#sk-container-id-3 input.sk-toggleable__control:checked~label.sk-toggleable__label-arrow:before {\n",
       "  content: \"▾\";\n",
       "}\n",
       "\n",
       "/* Pipeline/ColumnTransformer-specific style */\n",
       "\n",
       "#sk-container-id-3 div.sk-label input.sk-toggleable__control:checked~label.sk-toggleable__label {\n",
       "  color: var(--sklearn-color-text);\n",
       "  background-color: var(--sklearn-color-unfitted-level-2);\n",
       "}\n",
       "\n",
       "#sk-container-id-3 div.sk-label.fitted input.sk-toggleable__control:checked~label.sk-toggleable__label {\n",
       "  background-color: var(--sklearn-color-fitted-level-2);\n",
       "}\n",
       "\n",
       "/* Estimator-specific style */\n",
       "\n",
       "/* Colorize estimator box */\n",
       "#sk-container-id-3 div.sk-estimator input.sk-toggleable__control:checked~label.sk-toggleable__label {\n",
       "  /* unfitted */\n",
       "  background-color: var(--sklearn-color-unfitted-level-2);\n",
       "}\n",
       "\n",
       "#sk-container-id-3 div.sk-estimator.fitted input.sk-toggleable__control:checked~label.sk-toggleable__label {\n",
       "  /* fitted */\n",
       "  background-color: var(--sklearn-color-fitted-level-2);\n",
       "}\n",
       "\n",
       "#sk-container-id-3 div.sk-label label.sk-toggleable__label,\n",
       "#sk-container-id-3 div.sk-label label {\n",
       "  /* The background is the default theme color */\n",
       "  color: var(--sklearn-color-text-on-default-background);\n",
       "}\n",
       "\n",
       "/* On hover, darken the color of the background */\n",
       "#sk-container-id-3 div.sk-label:hover label.sk-toggleable__label {\n",
       "  color: var(--sklearn-color-text);\n",
       "  background-color: var(--sklearn-color-unfitted-level-2);\n",
       "}\n",
       "\n",
       "/* Label box, darken color on hover, fitted */\n",
       "#sk-container-id-3 div.sk-label.fitted:hover label.sk-toggleable__label.fitted {\n",
       "  color: var(--sklearn-color-text);\n",
       "  background-color: var(--sklearn-color-fitted-level-2);\n",
       "}\n",
       "\n",
       "/* Estimator label */\n",
       "\n",
       "#sk-container-id-3 div.sk-label label {\n",
       "  font-family: monospace;\n",
       "  font-weight: bold;\n",
       "  display: inline-block;\n",
       "  line-height: 1.2em;\n",
       "}\n",
       "\n",
       "#sk-container-id-3 div.sk-label-container {\n",
       "  text-align: center;\n",
       "}\n",
       "\n",
       "/* Estimator-specific */\n",
       "#sk-container-id-3 div.sk-estimator {\n",
       "  font-family: monospace;\n",
       "  border: 1px dotted var(--sklearn-color-border-box);\n",
       "  border-radius: 0.25em;\n",
       "  box-sizing: border-box;\n",
       "  margin-bottom: 0.5em;\n",
       "  /* unfitted */\n",
       "  background-color: var(--sklearn-color-unfitted-level-0);\n",
       "}\n",
       "\n",
       "#sk-container-id-3 div.sk-estimator.fitted {\n",
       "  /* fitted */\n",
       "  background-color: var(--sklearn-color-fitted-level-0);\n",
       "}\n",
       "\n",
       "/* on hover */\n",
       "#sk-container-id-3 div.sk-estimator:hover {\n",
       "  /* unfitted */\n",
       "  background-color: var(--sklearn-color-unfitted-level-2);\n",
       "}\n",
       "\n",
       "#sk-container-id-3 div.sk-estimator.fitted:hover {\n",
       "  /* fitted */\n",
       "  background-color: var(--sklearn-color-fitted-level-2);\n",
       "}\n",
       "\n",
       "/* Specification for estimator info (e.g. \"i\" and \"?\") */\n",
       "\n",
       "/* Common style for \"i\" and \"?\" */\n",
       "\n",
       ".sk-estimator-doc-link,\n",
       "a:link.sk-estimator-doc-link,\n",
       "a:visited.sk-estimator-doc-link {\n",
       "  float: right;\n",
       "  font-size: smaller;\n",
       "  line-height: 1em;\n",
       "  font-family: monospace;\n",
       "  background-color: var(--sklearn-color-background);\n",
       "  border-radius: 1em;\n",
       "  height: 1em;\n",
       "  width: 1em;\n",
       "  text-decoration: none !important;\n",
       "  margin-left: 1ex;\n",
       "  /* unfitted */\n",
       "  border: var(--sklearn-color-unfitted-level-1) 1pt solid;\n",
       "  color: var(--sklearn-color-unfitted-level-1);\n",
       "}\n",
       "\n",
       ".sk-estimator-doc-link.fitted,\n",
       "a:link.sk-estimator-doc-link.fitted,\n",
       "a:visited.sk-estimator-doc-link.fitted {\n",
       "  /* fitted */\n",
       "  border: var(--sklearn-color-fitted-level-1) 1pt solid;\n",
       "  color: var(--sklearn-color-fitted-level-1);\n",
       "}\n",
       "\n",
       "/* On hover */\n",
       "div.sk-estimator:hover .sk-estimator-doc-link:hover,\n",
       ".sk-estimator-doc-link:hover,\n",
       "div.sk-label-container:hover .sk-estimator-doc-link:hover,\n",
       ".sk-estimator-doc-link:hover {\n",
       "  /* unfitted */\n",
       "  background-color: var(--sklearn-color-unfitted-level-3);\n",
       "  color: var(--sklearn-color-background);\n",
       "  text-decoration: none;\n",
       "}\n",
       "\n",
       "div.sk-estimator.fitted:hover .sk-estimator-doc-link.fitted:hover,\n",
       ".sk-estimator-doc-link.fitted:hover,\n",
       "div.sk-label-container:hover .sk-estimator-doc-link.fitted:hover,\n",
       ".sk-estimator-doc-link.fitted:hover {\n",
       "  /* fitted */\n",
       "  background-color: var(--sklearn-color-fitted-level-3);\n",
       "  color: var(--sklearn-color-background);\n",
       "  text-decoration: none;\n",
       "}\n",
       "\n",
       "/* Span, style for the box shown on hovering the info icon */\n",
       ".sk-estimator-doc-link span {\n",
       "  display: none;\n",
       "  z-index: 9999;\n",
       "  position: relative;\n",
       "  font-weight: normal;\n",
       "  right: .2ex;\n",
       "  padding: .5ex;\n",
       "  margin: .5ex;\n",
       "  width: min-content;\n",
       "  min-width: 20ex;\n",
       "  max-width: 50ex;\n",
       "  color: var(--sklearn-color-text);\n",
       "  box-shadow: 2pt 2pt 4pt #999;\n",
       "  /* unfitted */\n",
       "  background: var(--sklearn-color-unfitted-level-0);\n",
       "  border: .5pt solid var(--sklearn-color-unfitted-level-3);\n",
       "}\n",
       "\n",
       ".sk-estimator-doc-link.fitted span {\n",
       "  /* fitted */\n",
       "  background: var(--sklearn-color-fitted-level-0);\n",
       "  border: var(--sklearn-color-fitted-level-3);\n",
       "}\n",
       "\n",
       ".sk-estimator-doc-link:hover span {\n",
       "  display: block;\n",
       "}\n",
       "\n",
       "/* \"?\"-specific style due to the `<a>` HTML tag */\n",
       "\n",
       "#sk-container-id-3 a.estimator_doc_link {\n",
       "  float: right;\n",
       "  font-size: 1rem;\n",
       "  line-height: 1em;\n",
       "  font-family: monospace;\n",
       "  background-color: var(--sklearn-color-background);\n",
       "  border-radius: 1rem;\n",
       "  height: 1rem;\n",
       "  width: 1rem;\n",
       "  text-decoration: none;\n",
       "  /* unfitted */\n",
       "  color: var(--sklearn-color-unfitted-level-1);\n",
       "  border: var(--sklearn-color-unfitted-level-1) 1pt solid;\n",
       "}\n",
       "\n",
       "#sk-container-id-3 a.estimator_doc_link.fitted {\n",
       "  /* fitted */\n",
       "  border: var(--sklearn-color-fitted-level-1) 1pt solid;\n",
       "  color: var(--sklearn-color-fitted-level-1);\n",
       "}\n",
       "\n",
       "/* On hover */\n",
       "#sk-container-id-3 a.estimator_doc_link:hover {\n",
       "  /* unfitted */\n",
       "  background-color: var(--sklearn-color-unfitted-level-3);\n",
       "  color: var(--sklearn-color-background);\n",
       "  text-decoration: none;\n",
       "}\n",
       "\n",
       "#sk-container-id-3 a.estimator_doc_link.fitted:hover {\n",
       "  /* fitted */\n",
       "  background-color: var(--sklearn-color-fitted-level-3);\n",
       "}\n",
       "</style><div id=\"sk-container-id-3\" class=\"sk-top-container\"><div class=\"sk-text-repr-fallback\"><pre>GridSearchCV(cv=5,\n",
       "             estimator=XGBClassifier(base_score=None, booster=None,\n",
       "                                     callbacks=None, colsample_bylevel=None,\n",
       "                                     colsample_bynode=None,\n",
       "                                     colsample_bytree=None, device=None,\n",
       "                                     early_stopping_rounds=None,\n",
       "                                     enable_categorical=False, eval_metric=None,\n",
       "                                     feature_types=None, gamma=None,\n",
       "                                     grow_policy=None, importance_type=None,\n",
>>>>>>> 314d03ca20cb2757903f289bfe89931b75ffe410
       "                                     interaction_constraints=None,\n",
       "                                     learning_rate=None,...\n",
       "                                     max_delta_step=None, max_depth=None,\n",
       "                                     max_leaves=None, min_child_weight=None,\n",
       "                                     missing=nan, monotone_constraints=None,\n",
<<<<<<< HEAD
       "                                     n_estimators=100, n_jobs=None,\n",
       "                                     num_parallel_tree=None, predictor=None,\n",
=======
       "                                     multi_strategy=None, n_estimators=None,\n",
       "                                     n_jobs=None, num_parallel_tree=None,\n",
>>>>>>> 314d03ca20cb2757903f289bfe89931b75ffe410
       "                                     random_state=0, ...),\n",
       "             param_grid={&#x27;learning_rate&#x27;: [0.01, 0.1], &#x27;max_depth&#x27;: [4, 8, 12],\n",
       "                         &#x27;min_child_weight&#x27;: [3, 5],\n",
       "                         &#x27;n_estimators&#x27;: [300, 500]},\n",
<<<<<<< HEAD
       "             refit=&#x27;recall&#x27;, scoring={&#x27;recall&#x27;, &#x27;accuracy&#x27;, &#x27;precision&#x27;, &#x27;f1&#x27;})</pre><b>In a Jupyter environment, please rerun this cell to show the HTML representation or trust the notebook. <br />On GitHub, the HTML representation is unable to render, please try loading this page with nbviewer.org.</b></div><div class=\"sk-container\" hidden><div class=\"sk-item sk-dashed-wrapped\"><div class=\"sk-label-container\"><div class=\"sk-label sk-toggleable\"><input class=\"sk-toggleable__control sk-hidden--visually\" id=\"sk-estimator-id-5\" type=\"checkbox\" ><label for=\"sk-estimator-id-5\" class=\"sk-toggleable__label sk-toggleable__label-arrow\">GridSearchCV</label><div class=\"sk-toggleable__content\"><pre>GridSearchCV(cv=5,\n",
       "             estimator=XGBClassifier(base_score=None, booster=None,\n",
       "                                     callbacks=None, colsample_bylevel=None,\n",
       "                                     colsample_bynode=None,\n",
       "                                     colsample_bytree=None,\n",
       "                                     early_stopping_rounds=None,\n",
       "                                     enable_categorical=False, eval_metric=None,\n",
       "                                     feature_types=None, gamma=None,\n",
       "                                     gpu_id=None, grow_policy=None,\n",
       "                                     importance_type=None,\n",
=======
       "             refit=&#x27;recall&#x27;, scoring=[&#x27;accuracy&#x27;, &#x27;precision&#x27;, &#x27;recall&#x27;, &#x27;f1&#x27;])</pre><b>In a Jupyter environment, please rerun this cell to show the HTML representation or trust the notebook. <br />On GitHub, the HTML representation is unable to render, please try loading this page with nbviewer.org.</b></div><div class=\"sk-container\" hidden><div class=\"sk-item sk-dashed-wrapped\"><div class=\"sk-label-container\"><div class=\"sk-label fitted sk-toggleable\"><input class=\"sk-toggleable__control sk-hidden--visually\" id=\"sk-estimator-id-5\" type=\"checkbox\" ><label for=\"sk-estimator-id-5\" class=\"sk-toggleable__label fitted sk-toggleable__label-arrow fitted\">&nbsp;&nbsp;GridSearchCV<a class=\"sk-estimator-doc-link fitted\" rel=\"noreferrer\" target=\"_blank\" href=\"https://scikit-learn.org/1.5/modules/generated/sklearn.model_selection.GridSearchCV.html\">?<span>Documentation for GridSearchCV</span></a><span class=\"sk-estimator-doc-link fitted\">i<span>Fitted</span></span></label><div class=\"sk-toggleable__content fitted\"><pre>GridSearchCV(cv=5,\n",
       "             estimator=XGBClassifier(base_score=None, booster=None,\n",
       "                                     callbacks=None, colsample_bylevel=None,\n",
       "                                     colsample_bynode=None,\n",
       "                                     colsample_bytree=None, device=None,\n",
       "                                     early_stopping_rounds=None,\n",
       "                                     enable_categorical=False, eval_metric=None,\n",
       "                                     feature_types=None, gamma=None,\n",
       "                                     grow_policy=None, importance_type=None,\n",
>>>>>>> 314d03ca20cb2757903f289bfe89931b75ffe410
       "                                     interaction_constraints=None,\n",
       "                                     learning_rate=None,...\n",
       "                                     max_delta_step=None, max_depth=None,\n",
       "                                     max_leaves=None, min_child_weight=None,\n",
       "                                     missing=nan, monotone_constraints=None,\n",
<<<<<<< HEAD
       "                                     n_estimators=100, n_jobs=None,\n",
       "                                     num_parallel_tree=None, predictor=None,\n",
=======
       "                                     multi_strategy=None, n_estimators=None,\n",
       "                                     n_jobs=None, num_parallel_tree=None,\n",
>>>>>>> 314d03ca20cb2757903f289bfe89931b75ffe410
       "                                     random_state=0, ...),\n",
       "             param_grid={&#x27;learning_rate&#x27;: [0.01, 0.1], &#x27;max_depth&#x27;: [4, 8, 12],\n",
       "                         &#x27;min_child_weight&#x27;: [3, 5],\n",
       "                         &#x27;n_estimators&#x27;: [300, 500]},\n",
<<<<<<< HEAD
       "             refit=&#x27;recall&#x27;, scoring={&#x27;recall&#x27;, &#x27;accuracy&#x27;, &#x27;precision&#x27;, &#x27;f1&#x27;})</pre></div></div></div><div class=\"sk-parallel\"><div class=\"sk-parallel-item\"><div class=\"sk-item\"><div class=\"sk-label-container\"><div class=\"sk-label sk-toggleable\"><input class=\"sk-toggleable__control sk-hidden--visually\" id=\"sk-estimator-id-6\" type=\"checkbox\" ><label for=\"sk-estimator-id-6\" class=\"sk-toggleable__label sk-toggleable__label-arrow\">estimator: XGBClassifier</label><div class=\"sk-toggleable__content\"><pre>XGBClassifier(base_score=None, booster=None, callbacks=None,\n",
       "              colsample_bylevel=None, colsample_bynode=None,\n",
       "              colsample_bytree=None, early_stopping_rounds=None,\n",
       "              enable_categorical=False, eval_metric=None, feature_types=None,\n",
       "              gamma=None, gpu_id=None, grow_policy=None, importance_type=None,\n",
       "              interaction_constraints=None, learning_rate=None, max_bin=None,\n",
       "              max_cat_threshold=None, max_cat_to_onehot=None,\n",
       "              max_delta_step=None, max_depth=None, max_leaves=None,\n",
       "              min_child_weight=None, missing=nan, monotone_constraints=None,\n",
       "              n_estimators=100, n_jobs=None, num_parallel_tree=None,\n",
       "              predictor=None, random_state=0, ...)</pre></div></div></div><div class=\"sk-serial\"><div class=\"sk-item\"><div class=\"sk-estimator sk-toggleable\"><input class=\"sk-toggleable__control sk-hidden--visually\" id=\"sk-estimator-id-7\" type=\"checkbox\" ><label for=\"sk-estimator-id-7\" class=\"sk-toggleable__label sk-toggleable__label-arrow\">XGBClassifier</label><div class=\"sk-toggleable__content\"><pre>XGBClassifier(base_score=None, booster=None, callbacks=None,\n",
       "              colsample_bylevel=None, colsample_bynode=None,\n",
       "              colsample_bytree=None, early_stopping_rounds=None,\n",
       "              enable_categorical=False, eval_metric=None, feature_types=None,\n",
       "              gamma=None, gpu_id=None, grow_policy=None, importance_type=None,\n",
       "              interaction_constraints=None, learning_rate=None, max_bin=None,\n",
       "              max_cat_threshold=None, max_cat_to_onehot=None,\n",
       "              max_delta_step=None, max_depth=None, max_leaves=None,\n",
       "              min_child_weight=None, missing=nan, monotone_constraints=None,\n",
       "              n_estimators=100, n_jobs=None, num_parallel_tree=None,\n",
       "              predictor=None, random_state=0, ...)</pre></div></div></div></div></div></div></div></div></div></div>"
=======
       "             refit=&#x27;recall&#x27;, scoring=[&#x27;accuracy&#x27;, &#x27;precision&#x27;, &#x27;recall&#x27;, &#x27;f1&#x27;])</pre></div> </div></div><div class=\"sk-parallel\"><div class=\"sk-parallel-item\"><div class=\"sk-item\"><div class=\"sk-label-container\"><div class=\"sk-label fitted sk-toggleable\"><input class=\"sk-toggleable__control sk-hidden--visually\" id=\"sk-estimator-id-6\" type=\"checkbox\" ><label for=\"sk-estimator-id-6\" class=\"sk-toggleable__label fitted sk-toggleable__label-arrow fitted\">best_estimator_: XGBClassifier</label><div class=\"sk-toggleable__content fitted\"><pre>XGBClassifier(base_score=None, booster=None, callbacks=None,\n",
       "              colsample_bylevel=None, colsample_bynode=None,\n",
       "              colsample_bytree=None, device=None, early_stopping_rounds=None,\n",
       "              enable_categorical=False, eval_metric=None, feature_types=None,\n",
       "              gamma=None, grow_policy=None, importance_type=None,\n",
       "              interaction_constraints=None, learning_rate=0.1, max_bin=None,\n",
       "              max_cat_threshold=None, max_cat_to_onehot=None,\n",
       "              max_delta_step=None, max_depth=4, max_leaves=None,\n",
       "              min_child_weight=5, missing=nan, monotone_constraints=None,\n",
       "              multi_strategy=None, n_estimators=300, n_jobs=None,\n",
       "              num_parallel_tree=None, random_state=0, ...)</pre></div> </div></div><div class=\"sk-serial\"><div class=\"sk-item\"><div class=\"sk-estimator fitted sk-toggleable\"><input class=\"sk-toggleable__control sk-hidden--visually\" id=\"sk-estimator-id-7\" type=\"checkbox\" ><label for=\"sk-estimator-id-7\" class=\"sk-toggleable__label fitted sk-toggleable__label-arrow fitted\">XGBClassifier</label><div class=\"sk-toggleable__content fitted\"><pre>XGBClassifier(base_score=None, booster=None, callbacks=None,\n",
       "              colsample_bylevel=None, colsample_bynode=None,\n",
       "              colsample_bytree=None, device=None, early_stopping_rounds=None,\n",
       "              enable_categorical=False, eval_metric=None, feature_types=None,\n",
       "              gamma=None, grow_policy=None, importance_type=None,\n",
       "              interaction_constraints=None, learning_rate=0.1, max_bin=None,\n",
       "              max_cat_threshold=None, max_cat_to_onehot=None,\n",
       "              max_delta_step=None, max_depth=4, max_leaves=None,\n",
       "              min_child_weight=5, missing=nan, monotone_constraints=None,\n",
       "              multi_strategy=None, n_estimators=300, n_jobs=None,\n",
       "              num_parallel_tree=None, random_state=0, ...)</pre></div> </div></div></div></div></div></div></div></div></div>"
>>>>>>> 314d03ca20cb2757903f289bfe89931b75ffe410
      ],
      "text/plain": [
       "GridSearchCV(cv=5,\n",
       "             estimator=XGBClassifier(base_score=None, booster=None,\n",
       "                                     callbacks=None, colsample_bylevel=None,\n",
       "                                     colsample_bynode=None,\n",
<<<<<<< HEAD
       "                                     colsample_bytree=None,\n",
       "                                     early_stopping_rounds=None,\n",
       "                                     enable_categorical=False, eval_metric=None,\n",
       "                                     feature_types=None, gamma=None,\n",
       "                                     gpu_id=None, grow_policy=None,\n",
       "                                     importance_type=None,\n",
=======
       "                                     colsample_bytree=None, device=None,\n",
       "                                     early_stopping_rounds=None,\n",
       "                                     enable_categorical=False, eval_metric=None,\n",
       "                                     feature_types=None, gamma=None,\n",
       "                                     grow_policy=None, importance_type=None,\n",
>>>>>>> 314d03ca20cb2757903f289bfe89931b75ffe410
       "                                     interaction_constraints=None,\n",
       "                                     learning_rate=None,...\n",
       "                                     max_delta_step=None, max_depth=None,\n",
       "                                     max_leaves=None, min_child_weight=None,\n",
       "                                     missing=nan, monotone_constraints=None,\n",
<<<<<<< HEAD
       "                                     n_estimators=100, n_jobs=None,\n",
       "                                     num_parallel_tree=None, predictor=None,\n",
=======
       "                                     multi_strategy=None, n_estimators=None,\n",
       "                                     n_jobs=None, num_parallel_tree=None,\n",
>>>>>>> 314d03ca20cb2757903f289bfe89931b75ffe410
       "                                     random_state=0, ...),\n",
       "             param_grid={'learning_rate': [0.01, 0.1], 'max_depth': [4, 8, 12],\n",
       "                         'min_child_weight': [3, 5],\n",
       "                         'n_estimators': [300, 500]},\n",
<<<<<<< HEAD
       "             refit='recall', scoring={'recall', 'accuracy', 'precision', 'f1'})"
=======
       "             refit='recall', scoring=['accuracy', 'precision', 'recall', 'f1'])"
>>>>>>> 314d03ca20cb2757903f289bfe89931b75ffe410
      ]
     },
     "execution_count": 35,
     "metadata": {},
     "output_type": "execute_result"
    }
   ],
   "source": [
    "%%time\n",
    "xgb_cv.fit(X_train_final, y_train)"
   ]
  },
  {
   "cell_type": "code",
   "execution_count": 36,
   "metadata": {
    "id": "Ny_s71DDTuD5"
   },
   "outputs": [
    {
     "data": {
      "text/plain": [
<<<<<<< HEAD
       "0.9906808769992594"
=======
       "np.float64(0.9898176171763818)"
>>>>>>> 314d03ca20cb2757903f289bfe89931b75ffe410
      ]
     },
     "execution_count": 36,
     "metadata": {},
     "output_type": "execute_result"
    }
   ],
   "source": [
    "xgb_cv.best_score_"
   ]
  },
  {
   "cell_type": "code",
   "execution_count": 37,
   "metadata": {
    "id": "LZEwxPJiWWRm"
   },
   "outputs": [
    {
     "data": {
      "text/plain": [
       "{'learning_rate': 0.1,\n",
       " 'max_depth': 4,\n",
       " 'min_child_weight': 5,\n",
       " 'n_estimators': 300}"
      ]
     },
     "execution_count": 37,
     "metadata": {},
     "output_type": "execute_result"
    }
   ],
   "source": [
    "xgb_cv.best_params_"
   ]
  },
  {
   "cell_type": "markdown",
   "metadata": {
    "id": "mzV00QhtQsNY"
   },
   "source": [
    "**Exemplar response:**\n",
    "\n",
    "This model also performs exceptionally well. Although its recall score is very slightly lower than the random forest model's, its precision score is perfect."
   ]
  },
  {
   "cell_type": "markdown",
   "metadata": {
    "id": "DasR1XS3QpB3"
   },
   "source": [
    "<img src=\"images/Execute.png\" width=\"100\" height=\"100\" align=left>\n",
    "\n",
    "## **PACE: Execute**\n",
    "Consider the questions in your PACE Strategy Documentto reflect on the Execute stage."
   ]
  },
  {
   "cell_type": "markdown",
   "metadata": {
    "id": "GyepBhCTa1Yx"
   },
   "source": [
    "### **Task 7. Evaluate models**\n",
    "\n",
    "Evaluate models against validation data.\n"
   ]
  },
  {
   "cell_type": "markdown",
   "metadata": {
    "id": "gM9egturW1eX"
   },
   "source": [
    "#### **Random forest**"
   ]
  },
  {
   "cell_type": "code",
   "execution_count": 38,
   "metadata": {
    "id": "NZQbthy93bWM"
   },
   "outputs": [],
   "source": [
    "# Use the random forest \"best estimator\" model to get predictions on the validation set\n",
    "y_pred = rf_cv.best_estimator_.predict(X_val_final)"
   ]
  },
  {
   "cell_type": "markdown",
   "metadata": {
    "id": "HNjDzuqmYU0G"
   },
   "source": [
    "Display the predictions on the validation set."
   ]
  },
  {
   "cell_type": "code",
   "execution_count": 39,
   "metadata": {
    "id": "tyKjLA_gYUYZ"
   },
   "outputs": [
    {
     "data": {
      "text/plain": [
       "array([1, 0, 1, ..., 1, 1, 1])"
      ]
     },
     "execution_count": 39,
     "metadata": {},
     "output_type": "execute_result"
    }
   ],
   "source": [
    "# Display the predictions on the validation set\n",
    "y_pred"
   ]
  },
  {
   "cell_type": "markdown",
   "metadata": {
    "id": "iXDp4m9dYlN3"
   },
   "source": [
    "\n",
    "Display the true labels of the validation set."
   ]
  },
  {
   "cell_type": "code",
   "execution_count": 40,
   "metadata": {
    "id": "JymZrHVDYdvu"
   },
   "outputs": [
    {
     "data": {
      "text/plain": [
       "5846     1\n",
       "12058    0\n",
       "2975     1\n",
       "8432     1\n",
       "6863     1\n",
       "        ..\n",
       "6036     1\n",
       "6544     1\n",
       "2781     1\n",
       "6426     1\n",
       "4450     1\n",
       "Name: claim_status, Length: 3817, dtype: int64"
      ]
     },
     "execution_count": 40,
     "metadata": {},
     "output_type": "execute_result"
    }
   ],
   "source": [
    "# Display the true labels of the validation set\n",
    "y_val"
   ]
  },
  {
   "cell_type": "markdown",
   "metadata": {
    "id": "VVMG0ubSXQvS"
   },
   "source": [
    "Create a confusion matrix to visualize the results of the classification model."
   ]
  },
  {
   "cell_type": "code",
   "execution_count": 41,
   "metadata": {},
   "outputs": [
    {
     "data": {
<<<<<<< HEAD
      "image/png": "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",
=======
      "image/png": "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",
>>>>>>> 314d03ca20cb2757903f289bfe89931b75ffe410
      "text/plain": [
       "<Figure size 640x480 with 2 Axes>"
      ]
     },
     "metadata": {},
     "output_type": "display_data"
    }
   ],
   "source": [
    "# Create a confusion matrix to visualize the results of the classification model\n",
    "\n",
    "# Compute values for confusion matrix\n",
    "log_cm = confusion_matrix(y_val, y_pred)\n",
    "\n",
    "# Create display of confusion matrix\n",
    "log_disp = ConfusionMatrixDisplay(confusion_matrix=log_cm, display_labels=None)\n",
    "\n",
    "# Plot confusion matrix\n",
    "log_disp.plot()\n",
    "\n",
    "# Display plot\n",
    "plt.show()"
   ]
  },
  {
   "cell_type": "markdown",
   "metadata": {
    "id": "jFTNAnk9ehWp"
   },
   "source": [
    "**Exemplar notes:**\n",
    "\n",
    "The upper-left quadrant displays the number of true negatives: the number of opinions that the model accurately classified as so.\n",
    "\n",
    "The upper-right quadrant displays the number of false positives: the number of opinions that the model misclassified as claims.\n",
    "\n",
    "The lower-left quadrant displays the number of false negatives: the number of claims that the model misclassified as opinions.\n",
    "\n",
    "The lower-right quadrant displays the number of true positives: the number of claims that the model accurately classified as so.\n",
    "\n",
    "A perfect model would yield all true negatives and true positives, and no false negatives or false positives.\n",
    "\n",
    "As the above confusion matrix shows, this model does not produce any false negatives."
   ]
  },
  {
   "cell_type": "markdown",
   "metadata": {
    "id": "I6OmnATfbtNd"
   },
   "source": [
    "Create a classification report that includes precision, recall, f1-score, and accuracy metrics to evaluate the performance of the model.\n",
    "<br> </br>\n",
    "\n",
    "**Note:** In other labs there was a custom-written function to extract the accuracy, precision, recall, and F<sub>1</sub> scores from the GridSearchCV report and display them in a table. You can also use scikit-learn's built-in [`classification_report()`](https://scikit-learn.org/stable/modules/model_evaluation.html#classification-report) function to obtain a similar table of results."
   ]
  },
  {
   "cell_type": "code",
   "execution_count": 42,
   "metadata": {
    "id": "AMxCzRa-bnUe"
   },
   "outputs": [
    {
     "name": "stdout",
     "output_type": "stream",
     "text": [
      "              precision    recall  f1-score   support\n",
      "\n",
      "     opinion       1.00      1.00      1.00      1892\n",
      "       claim       1.00      1.00      1.00      1925\n",
      "\n",
      "    accuracy                           1.00      3817\n",
      "   macro avg       1.00      1.00      1.00      3817\n",
      "weighted avg       1.00      1.00      1.00      3817\n",
      "\n"
     ]
    }
   ],
   "source": [
    "# Create a classification report\n",
    "# Create classification report for random forest model\n",
    "target_labels = ['opinion', 'claim']\n",
    "print(classification_report(y_val, y_pred, target_names=target_labels))"
   ]
  },
  {
   "cell_type": "markdown",
   "metadata": {
    "id": "2hDIbDHpcLfO"
   },
   "source": [
    "**Exemplar response:**\n",
    "\n",
    "The classification report above shows that the random forest model scores were nearly perfect. The confusion matrix indicates that there were 10 misclassifications&mdash;five false postives and five false negatives."
   ]
  },
  {
   "cell_type": "markdown",
   "metadata": {
    "id": "LeQzSiGaVBgd"
   },
   "source": [
    "#### **XGBoost**"
   ]
  },
  {
   "cell_type": "markdown",
   "metadata": {
    "id": "lN_qN9ecdCPr"
   },
   "source": [
    "Now, evaluate the XGBoost model on the validation set."
   ]
  },
  {
   "cell_type": "code",
   "execution_count": 43,
   "metadata": {
    "id": "8kDW1frqU1gA"
   },
   "outputs": [],
   "source": [
    "#Evaluate XGBoost model\n",
    "y_pred = xgb_cv.best_estimator_.predict(X_val_final)"
   ]
  },
  {
   "cell_type": "code",
   "execution_count": 44,
   "metadata": {
    "id": "t-DOoQk8Vnk0"
   },
   "outputs": [
    {
     "data": {
      "text/plain": [
       "array([1, 0, 1, ..., 1, 1, 1])"
      ]
     },
     "execution_count": 44,
     "metadata": {},
     "output_type": "execute_result"
    }
   ],
   "source": [
    "y_pred"
   ]
  },
  {
   "cell_type": "code",
   "execution_count": 45,
   "metadata": {
    "id": "zVswk-gHXLG0"
   },
   "outputs": [
    {
     "data": {
<<<<<<< HEAD
      "image/png": "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",
=======
      "image/png": "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",
>>>>>>> 314d03ca20cb2757903f289bfe89931b75ffe410
      "text/plain": [
       "<Figure size 640x480 with 2 Axes>"
      ]
     },
     "metadata": {},
     "output_type": "display_data"
    }
   ],
   "source": [
    "# Compute values for confusion matrix\n",
    "log_cm = confusion_matrix(y_val, y_pred)\n",
    "\n",
    "# Create display of confusion matrix\n",
    "log_disp = ConfusionMatrixDisplay(confusion_matrix=log_cm, display_labels=None)\n",
    "\n",
    "# Plot confusion matrix\n",
    "log_disp.plot()\n",
    "\n",
    "# Display plot\n",
    "plt.title('XGBoost - validation set');\n",
    "plt.show()\n"
   ]
  },
  {
   "cell_type": "code",
   "execution_count": 46,
   "metadata": {
    "id": "-BIEgcNxvGu-"
   },
   "outputs": [
    {
     "name": "stdout",
     "output_type": "stream",
     "text": [
      "              precision    recall  f1-score   support\n",
      "\n",
      "     opinion       0.99      1.00      0.99      1892\n",
      "       claim       1.00      0.99      0.99      1925\n",
      "\n",
      "    accuracy                           0.99      3817\n",
      "   macro avg       0.99      0.99      0.99      3817\n",
      "weighted avg       0.99      0.99      0.99      3817\n",
      "\n"
     ]
    }
   ],
   "source": [
    "# Create a classification report\n",
    "target_labels = ['opinion', 'claim']\n",
    "print(classification_report(y_val, y_pred, target_names=target_labels))"
   ]
  },
  {
<<<<<<< HEAD
=======
   "cell_type": "code",
   "execution_count": null,
   "metadata": {},
   "outputs": [],
   "source": []
  },
  {
>>>>>>> 314d03ca20cb2757903f289bfe89931b75ffe410
   "cell_type": "markdown",
   "metadata": {
    "id": "vw_nOfzZbUFG"
   },
   "source": [
    "**Exemplar response:**\n",
    "\n",
    "The results of the XGBoost model were also nearly perfect. However, its errors tended to be false negatives. Identifying claims was the priority, so it's important that the model be good at capturing all actual claim videos. The random forest model has a better recall score, and is therefore the champion model."
   ]
  },
  {
   "cell_type": "markdown",
   "metadata": {
    "id": "n-HHbB2MvYAR"
   },
   "source": [
    "### **Use champion model to predict on test data**\n",
    "\n",
    "Both random forest and XGBoost model architectures resulted in nearly perfect models. Nonetheless, in this case random forest performed a little bit better, so it is the champion model.\n",
    "\n",
    "Now, use the champion model to predict on the test data."
   ]
  },
  {
   "cell_type": "code",
   "execution_count": 47,
   "metadata": {
    "id": "c3WCYnKXvjF3"
   },
   "outputs": [],
   "source": [
    "# Use champion model to predict on test data\n",
    "y_pred = rf_cv.best_estimator_.predict(X_test_final)"
   ]
  },
  {
   "cell_type": "code",
   "execution_count": 48,
   "metadata": {
    "id": "cBxtLiVxvt9Z"
   },
   "outputs": [
    {
     "data": {
<<<<<<< HEAD
      "image/png": "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",
=======
      "image/png": "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",
>>>>>>> 314d03ca20cb2757903f289bfe89931b75ffe410
      "text/plain": [
       "<Figure size 640x480 with 2 Axes>"
      ]
     },
     "metadata": {},
     "output_type": "display_data"
    }
   ],
   "source": [
    "# Compute values for confusion matrix\n",
    "log_cm = confusion_matrix(y_test, y_pred)\n",
    "\n",
    "# Create display of confusion matrix\n",
    "log_disp = ConfusionMatrixDisplay(confusion_matrix=log_cm, display_labels=None)\n",
    "\n",
    "# Plot confusion matrix\n",
    "log_disp.plot()\n",
    "\n",
    "# Display plot\n",
    "plt.title('Random forest - test set');\n",
    "plt.show()"
   ]
  },
  {
   "cell_type": "markdown",
   "metadata": {
    "id": "sLktqdiEwRY2"
   },
   "source": [
    "#### **Feature importances of champion model**\n",
    "\n"
   ]
  },
  {
   "cell_type": "code",
   "execution_count": 49,
   "metadata": {
    "id": "C10wq1EGv0ta"
   },
   "outputs": [
    {
     "data": {
<<<<<<< HEAD
      "image/png": "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",
=======
      "image/png": "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",
>>>>>>> 314d03ca20cb2757903f289bfe89931b75ffe410
      "text/plain": [
       "<Figure size 640x480 with 1 Axes>"
      ]
     },
     "metadata": {},
     "output_type": "display_data"
    }
   ],
   "source": [
    "importances = rf_cv.best_estimator_.feature_importances_\n",
    "rf_importances = pd.Series(importances, index=X_test_final.columns)\n",
    "\n",
    "fig, ax = plt.subplots()\n",
    "rf_importances.plot.bar(ax=ax)\n",
    "ax.set_title('Feature importances')\n",
    "ax.set_ylabel('Mean decrease in impurity')\n",
    "fig.tight_layout()"
   ]
  },
  {
   "cell_type": "markdown",
   "metadata": {
    "id": "5IBN5C7rxowu"
   },
   "source": [
    "**Exemplar response:**\n",
    "\n",
    "The most predictive features all were related to engagement levels generated by the video. This is not unexpected, as analysis from prior EDA pointed to this conclusion."
   ]
  },
  {
   "cell_type": "markdown",
   "metadata": {
    "id": "ill21hQ4ej9-"
   },
   "source": [
    "### **Conclusion**\n",
    "\n",
    "In this step use the results of the models above to formulate a conclusion. Consider the following questions:\n",
    "\n",
    "1. **Would you recommend using this model? Why or why not?**\n",
    "\n",
    "2. **What was your model doing? Can you explain how it was making predictions?**\n",
    "\n",
    "3. **Are there new features that you can engineer that might improve model performance?**\n",
    "\n",
    "4. **What features would you want to have that would likely improve the performance of your model?**\n",
    "\n",
    "Remember, sometimes your data simply will not be predictive of your chosen target. This is common. Machine learning is a powerful tool, but it is not magic. If your data does not contain predictive signal, even the most complex algorithm will not be able to deliver consistent and accurate predictions. Do not be afraid to draw this conclusion.\n",
    "\n"
   ]
  },
  {
   "cell_type": "markdown",
   "metadata": {
    "id": "klmW5EoPlpxe"
   },
   "source": [
    "**Exemplar response:**\n",
    "\n",
    "1. *Would you recommend using this model? Why or why not?*\n",
    "Yes, one can recommend this model because it performed well on both the validation and test holdout data. Furthermore, both precision and F<sub>1</sub> scores were consistently high. The model very successfully classified claims and opinions.\n",
    "</br>\n",
    "2. *What was your model doing? Can you explain how it was making predictions?*\n",
    "The model's most predictive features were all related to the user engagement levels associated with each video. It was classifying videos based on how many views, likes, shares, and downloads they received.\n",
    "</br>\n",
    "3. *Are there new features that you can engineer that might improve model performance?*\n",
    "Because the model currently performs nearly perfectly, there is no need to engineer any new features.\n",
    "</br>\n",
    "4. *What features would you want to have that would likely improve the performance of your model?*\n",
    "The current version of the model does not need any new features. However, it would be helpful to have the number of times the video was reported. It would also be useful to have the total number of user reports for all videos posted by each author."
   ]
  },
<<<<<<< HEAD

=======
  {
   "cell_type": "markdown",
   "metadata": {},
   "source": [
    "**Congratulations!** You've completed this lab. However, you may not notice a green check mark next to this item on Coursera's platform. Please continue your progress regardless of the check mark. Just click on the \"save\" icon at the top of this notebook to ensure your work has been logged."
   ]
  }
>>>>>>> 314d03ca20cb2757903f289bfe89931b75ffe410
 ],
 "metadata": {
  "colab": {
   "provenance": []
  },
  "kernelspec": {
   "display_name": "Python 3 (ipykernel)",
   "language": "python",
   "name": "python3"
  },
  "language_info": {
   "codemirror_mode": {
    "name": "ipython",
    "version": 3
   },
   "file_extension": ".py",
   "mimetype": "text/x-python",
   "name": "python",
   "nbconvert_exporter": "python",
   "pygments_lexer": "ipython3",
<<<<<<< HEAD
   "version": "3.12.2"
=======
   "version": "3.10.13"
>>>>>>> 314d03ca20cb2757903f289bfe89931b75ffe410
  }
 },
 "nbformat": 4,
 "nbformat_minor": 1
}
